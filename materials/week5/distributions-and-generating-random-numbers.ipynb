{
 "cells": [
  {
   "cell_type": "markdown",
   "id": "7c314f4d",
   "metadata": {},
   "source": [
    "# Distributions and Generating Random Numbers\n",
    "\n",
    "To begin with, this is the code at the end of the randomness notebook, where we first saw the 'shape' or distribution of the results of a given number of coin flips, but modified to only perform a single flip per sequence, instead of ten."
   ]
  },
  {
   "cell_type": "code",
   "execution_count": 1,
   "id": "fd0d3ad1",
   "metadata": {
    "scrolled": true
   },
   "outputs": [
    {
     "data": {
      "image/png": "[encoded data removed]",
      "text/plain": [
       "<Figure size 432x288 with 1 Axes>"
      ]
     },
     "metadata": {
      "needs_background": "light"
     },
     "output_type": "display_data"
    }
   ],
   "source": [
    "import matplotlib.pyplot as plt\n",
    "import numpy as np\n",
    "\n",
    "coins = 1\n",
    "trials = 1000\n",
    "# run a the defined number of trials\n",
    "heads = np.random.binomial(coins, 0.5, trials)\n",
    "# count the unique values in the returned list\n",
    "vals, counts = np.unique(heads, return_counts=True)\n",
    "plt.bar(vals, counts)\n",
    "plt.show()"
   ]
  },
  {
   "cell_type": "markdown",
   "id": "a9e5c25d",
   "metadata": {},
   "source": [
    "This is generally known as a discrete uniform binomial distribution, because we expect the two (hence binomial) outcomes to have the same or similar (hence uniform) chance of occurring, in practice the results will usually be close to this but not perfect."
   ]
  },
  {
   "cell_type": "code",
   "execution_count": 2,
   "id": "3946274a",
   "metadata": {},
   "outputs": [
    {
     "data": {
      "text/plain": [
       "(array([1, 0, 1, 1]), 13)"
      ]
     },
     "execution_count": 2,
     "metadata": {},
     "output_type": "execute_result"
    }
   ],
   "source": [
    "# The number of possible outcomes\n",
    "n = 11\n",
    "\n",
    "# What is the next biggest power of 2 after 11? It is 16.\n",
    "b = 4\n",
    "\n",
    "flips = np.random.binomial(1,0.5,b)\n",
    "\n",
    "# convert it to binary\n",
    "number = 0\n",
    "for i in range(len(flips)):\n",
    "    number = number + flips[i] * 2**i\n",
    "\n",
    "# the array below will replicate the order of a binary number, reversed, i.e. 0001 would be 8, which is 1000 in binary\n",
    "flips, number"
   ]
  },
  {
   "cell_type": "code",
   "execution_count": 3,
   "id": "733fe9a4",
   "metadata": {},
   "outputs": [],
   "source": [
    "# Make a function to convert four coin flips to an integer (16 equally possible outcomes).\n",
    "def gen_number(b=4):\n",
    "    # flip b coins, in this case four flips, so any binary digit up to fifteen as\n",
    "    # this is the last binary number with four digits (1000). Changing b to 5\n",
    "    # would return base-10 numbers up to 31 (or 11111 in binary). Remember that in\n",
    "    # creating the list, the numbers are added in reverse, so it 1000 actually\n",
    "    # converts to 1 instead of 8, and 0011 is 12 instead of 3.\n",
    "    flips = np.random.binomial(1,0.5,b)\n",
    "\n",
    "    # convert it from binary to a base-10 number\n",
    "    number = 0\n",
    "    for i in range(len(flips)):\n",
    "        number = number + flips[i] * 2**i\n",
    "    return number"
   ]
  },
  {
   "cell_type": "code",
   "execution_count": 4,
   "id": "1eafc6c7",
   "metadata": {
    "scrolled": true
   },
   "outputs": [
    {
     "data": {
      "text/plain": [
       "9"
      ]
     },
     "execution_count": 4,
     "metadata": {},
     "output_type": "execute_result"
    }
   ],
   "source": [
    "gen_number()"
   ]
  },
  {
   "cell_type": "code",
   "execution_count": 6,
   "id": "4a8758d7",
   "metadata": {},
   "outputs": [
    {
     "data": {
      "image/png": "[encoded data removed]",
      "text/plain": [
       "<Figure size 432x288 with 1 Axes>"
      ]
     },
     "metadata": {
      "needs_background": "light"
     },
     "output_type": "display_data"
    }
   ],
   "source": [
    "# Generate a list of outcomes of these flip sequences, so flip four coins 100,000 times\n",
    "no_outcomes = 100000\n",
    "# being wrapped in square brackets puts the results of each instance of the loop into a list\n",
    "outcomes = [gen_number() for i in range(no_outcomes)]\n",
    "\n",
    "# Count the unique values in the returned list, and plot them\n",
    "vals, counts = np.unique(outcomes, return_counts=True)\n",
    "plt.bar(vals, counts)\n",
    "plt.show()"
   ]
  },
  {
   "cell_type": "markdown",
   "id": "62f5bc73",
   "metadata": {},
   "source": [
    "As you increase the number assigned to no_outcomes from 100, to 1000, to 100000, you can see that the distribution gradually becomes more uniform.\n",
    "\n",
    "### "
   ]
  }
 ],
 "metadata": {
  "kernelspec": {
   "display_name": "Python 3 (ipykernel)",
   "language": "python",
   "name": "python3"
  },
  "language_info": {
   "codemirror_mode": {
    "name": "ipython",
    "version": 3
   },
   "file_extension": ".py",
   "mimetype": "text/x-python",
   "name": "python",
   "nbconvert_exporter": "python",
   "pygments_lexer": "ipython3",
   "version": "3.9.12"
  }
 },
 "nbformat": 4,
 "nbformat_minor": 5
}
