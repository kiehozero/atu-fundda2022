{
 "cells": [
  {
   "cell_type": "markdown",
   "id": "eb5163ed",
   "metadata": {},
   "source": [
    "# Randomness in Python"
   ]
  },
  {
   "cell_type": "code",
   "execution_count": 1,
   "id": "9ad460fb",
   "metadata": {},
   "outputs": [],
   "source": [
    "import numpy as np"
   ]
  },
  {
   "cell_type": "markdown",
   "id": "2244e7c3",
   "metadata": {},
   "source": [
    "The most basic form of randomness is choosing between two numbers. An obvious example of this is tossing a coin and recording the results. The probability of each result is 0.5 or 50%, because there are only two possible results on a fair coin.\n",
    "\n",
    "The `binomial` function can help us here, it takes two parameters, the first is the end of a range starting at zero, and the second is the probability of each item within that range."
   ]
  },
  {
   "cell_type": "code",
   "execution_count": 2,
   "id": "f1715dff",
   "metadata": {},
   "outputs": [
    {
     "data": {
      "text/plain": [
       "0"
      ]
     },
     "execution_count": 2,
     "metadata": {},
     "output_type": "execute_result"
    }
   ],
   "source": [
    "np.random.binomial(1,0.5)"
   ]
  },
  {
   "cell_type": "markdown",
   "id": "5a975c47",
   "metadata": {},
   "source": [
    "### Repeated Flips"
   ]
  },
  {
   "cell_type": "markdown",
   "id": "542a8261",
   "metadata": {},
   "source": [
    "Adding a further parameter will repeat the process a given number of times, and produce an array that can then be stored."
   ]
  },
  {
   "cell_type": "code",
   "execution_count": 3,
   "id": "6d969423",
   "metadata": {},
   "outputs": [
    {
     "data": {
      "text/plain": [
       "array([1, 1, 0, 1, 1, 0, 0, 0, 0, 1, 0, 1, 1, 0, 1, 0, 1, 1, 0, 0, 0, 0,\n",
       "       0, 1, 0, 0, 0, 0, 1, 0, 0, 1, 0, 0, 1, 0, 0, 1, 0, 1, 1, 0, 1, 0,\n",
       "       0, 0, 1, 0, 0, 1, 1, 1, 0, 1, 0, 0, 1, 1, 0, 0, 0, 0, 1, 0, 1, 0,\n",
       "       0, 1, 1, 1, 1, 1, 0, 0, 1, 0, 1, 1, 0, 1, 1, 1, 0, 0, 1, 1, 0, 0,\n",
       "       1, 0, 1, 0, 0, 1, 1, 1, 0, 1, 1, 1])"
      ]
     },
     "execution_count": 3,
     "metadata": {},
     "output_type": "execute_result"
    }
   ],
   "source": [
    "hund = np.random.binomial(1,0.5,100)\n",
    "hund"
   ]
  },
  {
   "cell_type": "markdown",
   "id": "a8227b55",
   "metadata": {},
   "source": [
    "Replacing the first parameter with the third will produce a count of the same process, although the results are random so it won't match the results. Repeatedly running this will show that the numbers are always approximately 50, but we only receive the summary of the experiment, rather than each individual result."
   ]
  },
  {
   "cell_type": "code",
   "execution_count": 4,
   "id": "7b7470b7",
   "metadata": {},
   "outputs": [
    {
     "data": {
      "text/plain": [
       "49"
      ]
     },
     "execution_count": 4,
     "metadata": {},
     "output_type": "execute_result"
    }
   ],
   "source": [
    "np.random.binomial(100,0.5)"
   ]
  },
  {
   "cell_type": "markdown",
   "id": "da56e1e4",
   "metadata": {},
   "source": [
    "There are only 101 possible outcomes of this second function, from 0 to 100. In contrast, there are many more possible combinations of the function with three parameters; each of the 100 iterations can be any of two results:"
   ]
  },
  {
   "cell_type": "code",
   "execution_count": 5,
   "id": "b537cda8",
   "metadata": {},
   "outputs": [
    {
     "data": {
      "text/plain": [
       "1267650600228229401496703205376"
      ]
     },
     "execution_count": 5,
     "metadata": {},
     "output_type": "execute_result"
    }
   ],
   "source": [
    "2**100"
   ]
  },
  {
   "cell_type": "markdown",
   "id": "0353e914",
   "metadata": {},
   "source": [
    "And each of these outcomes has exactly the same probability as occurring, even if it means that you would flip 50 heads in a row, followed by 50 tails. As Ian says in the video, a lot of probability is down to the relationship between the event itself and the summary of it, for instance the list of all 100 outcomes, and summarising the count between heads and tails.\n",
    "\n",
    "An extension of this is the Gambler's Fallacy, where people believe that outcomes that are unrelated are in fact related. If you run the code above a number of times and get a number of heads, you'll increasingly think that you are 'due' a tail; in reality there is no relationship between each iteration of the code."
   ]
  },
  {
   "cell_type": "markdown",
   "id": "3f62c2a3",
   "metadata": {},
   "source": [
    "### Twice 50/50\n",
    "\n",
    "The below code repeatedly flips ten coins prints out the first three instances in which five heads are returned. Each time one of these instances is returned, n reduces in value by 1, so eventually the while statement will stop being true. I've modified Ian's code to include variable c, which counts the iteration of the flip sequence."
   ]
  },
  {
   "cell_type": "code",
   "execution_count": 6,
   "id": "f0409864",
   "metadata": {},
   "outputs": [
    {
     "name": "stdout",
     "output_type": "stream",
     "text": [
      "3 [0 1 1 1 0 0 0 1 1 0]\n",
      "4 [0 1 1 0 1 0 1 0 1 0]\n",
      "8 [1 1 0 0 0 1 1 0 1 0]\n"
     ]
    }
   ],
   "source": [
    "n = 3\n",
    "c = 1\n",
    "while n > 0:\n",
    "    tosses = np.random.binomial(1, 0.5, 10)\n",
    "    c = c + 1\n",
    "    # since the heads are 1s, any array that sums up to 5 will denote a match\n",
    "    if tosses.sum() == 5:\n",
    "        print(c,tosses)\n",
    "        n = n - 1"
   ]
  },
  {
   "cell_type": "markdown",
   "id": "771b2d1a",
   "metadata": {},
   "source": [
    "### Counting Heads"
   ]
  },
  {
   "cell_type": "markdown",
   "id": "06a47149",
   "metadata": {},
   "source": [
    "To count all of the possible combinations that contain five head is possible, but it is better to find an alternative solution that provides us with the count straight away, instead of evaluating every possibility."
   ]
  },
  {
   "cell_type": "code",
   "execution_count": 7,
   "id": "5018137f",
   "metadata": {},
   "outputs": [
    {
     "data": {
      "text/plain": [
       "252"
      ]
     },
     "execution_count": 7,
     "metadata": {},
     "output_type": "execute_result"
    }
   ],
   "source": [
    "( 10 * 9 * 8 * 7 * 6 ) // ( 5 * 4 * 3 * 2 * 1 )"
   ]
  },
  {
   "cell_type": "markdown",
   "id": "be47a8d8",
   "metadata": {},
   "source": [
    "The double-slash is strictly for dividing integers, instead of floats.\n",
    "\n",
    "Here is the logic behind that part of the calculation. We start out flipping ten coins, which can be represented as placeholders:\n",
    "\n",
    "_ _ _ _ _ _ _ _ _ _\n",
    "\n",
    "Which will be populated by either a 0 or a 1. After the first toss, this becomes:\n",
    "\n",
    "1 _ _ _ _ _ _ _ _ _\n",
    "\n",
    "Meaning that there are only nine placeholders with which to add the remaining four 1s. For the first 1, it can go into any of the ten placeholders, but once a placeholder is populated, the number of available slots is reduced by one. This is what each integer in the first half of the calculation represents, the number of choices available to the respective instance of the toss being heads. If you got four in a row, the choice for the final 1 would be:\n",
    "\n",
    "1 1 1 1 _ _ _ _ _ _\n",
    "\n",
    "So why multiply the numbers? For each choice of ten places for the first 1, there are nine for the second, and so on. It is <i>for each</i> that is the operative part of the statement. Think it terms of computing loops, for each implies that for every instance of something, you loop through some other thing."
   ]
  },
  {
   "cell_type": "code",
   "execution_count": 8,
   "id": "eef971b0",
   "metadata": {},
   "outputs": [
    {
     "name": "stdout",
     "output_type": "stream",
     "text": [
      "First 1 in position  1. Second 1 in position  2.\n",
      "First 1 in position  1. Second 1 in position  3.\n",
      "First 1 in position  1. Second 1 in position  4.\n",
      "First 1 in position  1. Second 1 in position  5.\n",
      "First 1 in position  1. Second 1 in position  6.\n",
      "First 1 in position  1. Second 1 in position  7.\n",
      "First 1 in position  1. Second 1 in position  8.\n",
      "First 1 in position  1. Second 1 in position  9.\n",
      "First 1 in position  1. Second 1 in position 10.\n",
      "First 1 in position  2. Second 1 in position  1.\n",
      "First 1 in position  2. Second 1 in position  3.\n",
      "First 1 in position  2. Second 1 in position  4.\n",
      "First 1 in position  2. Second 1 in position  5.\n",
      "First 1 in position  2. Second 1 in position  6.\n",
      "First 1 in position  2. Second 1 in position  7.\n",
      "First 1 in position  2. Second 1 in position  8.\n",
      "First 1 in position  2. Second 1 in position  9.\n",
      "First 1 in position  2. Second 1 in position 10.\n",
      "First 1 in position  3. Second 1 in position  1.\n",
      "First 1 in position  3. Second 1 in position  2.\n",
      "First 1 in position  3. Second 1 in position  4.\n",
      "First 1 in position  3. Second 1 in position  5.\n",
      "First 1 in position  3. Second 1 in position  6.\n",
      "First 1 in position  3. Second 1 in position  7.\n",
      "First 1 in position  3. Second 1 in position  8.\n",
      "First 1 in position  3. Second 1 in position  9.\n",
      "First 1 in position  3. Second 1 in position 10.\n",
      "First 1 in position  4. Second 1 in position  1.\n",
      "First 1 in position  4. Second 1 in position  2.\n",
      "First 1 in position  4. Second 1 in position  3.\n",
      "First 1 in position  4. Second 1 in position  5.\n",
      "First 1 in position  4. Second 1 in position  6.\n",
      "First 1 in position  4. Second 1 in position  7.\n",
      "First 1 in position  4. Second 1 in position  8.\n",
      "First 1 in position  4. Second 1 in position  9.\n",
      "First 1 in position  4. Second 1 in position 10.\n",
      "First 1 in position  5. Second 1 in position  1.\n",
      "First 1 in position  5. Second 1 in position  2.\n",
      "First 1 in position  5. Second 1 in position  3.\n",
      "First 1 in position  5. Second 1 in position  4.\n",
      "First 1 in position  5. Second 1 in position  6.\n",
      "First 1 in position  5. Second 1 in position  7.\n",
      "First 1 in position  5. Second 1 in position  8.\n",
      "First 1 in position  5. Second 1 in position  9.\n",
      "First 1 in position  5. Second 1 in position 10.\n",
      "First 1 in position  6. Second 1 in position  1.\n",
      "First 1 in position  6. Second 1 in position  2.\n",
      "First 1 in position  6. Second 1 in position  3.\n",
      "First 1 in position  6. Second 1 in position  4.\n",
      "First 1 in position  6. Second 1 in position  5.\n",
      "First 1 in position  6. Second 1 in position  7.\n",
      "First 1 in position  6. Second 1 in position  8.\n",
      "First 1 in position  6. Second 1 in position  9.\n",
      "First 1 in position  6. Second 1 in position 10.\n",
      "First 1 in position  7. Second 1 in position  1.\n",
      "First 1 in position  7. Second 1 in position  2.\n",
      "First 1 in position  7. Second 1 in position  3.\n",
      "First 1 in position  7. Second 1 in position  4.\n",
      "First 1 in position  7. Second 1 in position  5.\n",
      "First 1 in position  7. Second 1 in position  6.\n",
      "First 1 in position  7. Second 1 in position  8.\n",
      "First 1 in position  7. Second 1 in position  9.\n",
      "First 1 in position  7. Second 1 in position 10.\n",
      "First 1 in position  8. Second 1 in position  1.\n",
      "First 1 in position  8. Second 1 in position  2.\n",
      "First 1 in position  8. Second 1 in position  3.\n",
      "First 1 in position  8. Second 1 in position  4.\n",
      "First 1 in position  8. Second 1 in position  5.\n",
      "First 1 in position  8. Second 1 in position  6.\n",
      "First 1 in position  8. Second 1 in position  7.\n",
      "First 1 in position  8. Second 1 in position  9.\n",
      "First 1 in position  8. Second 1 in position 10.\n",
      "First 1 in position  9. Second 1 in position  1.\n",
      "First 1 in position  9. Second 1 in position  2.\n",
      "First 1 in position  9. Second 1 in position  3.\n",
      "First 1 in position  9. Second 1 in position  4.\n",
      "First 1 in position  9. Second 1 in position  5.\n",
      "First 1 in position  9. Second 1 in position  6.\n",
      "First 1 in position  9. Second 1 in position  7.\n",
      "First 1 in position  9. Second 1 in position  8.\n",
      "First 1 in position  9. Second 1 in position 10.\n",
      "First 1 in position 10. Second 1 in position  1.\n",
      "First 1 in position 10. Second 1 in position  2.\n",
      "First 1 in position 10. Second 1 in position  3.\n",
      "First 1 in position 10. Second 1 in position  4.\n",
      "First 1 in position 10. Second 1 in position  5.\n",
      "First 1 in position 10. Second 1 in position  6.\n",
      "First 1 in position 10. Second 1 in position  7.\n",
      "First 1 in position 10. Second 1 in position  8.\n",
      "First 1 in position 10. Second 1 in position  9.\n",
      "Total combinations is 90.\n"
     ]
    }
   ],
   "source": [
    "no_combs = 0\n",
    "\n",
    "for first in [1,2,3,4,5,6,7,8,9,10]:\n",
    "    for second in [1,2,3,4,5,6,7,8,9,10]:\n",
    "        # Make sure the positions are not the same\n",
    "        if not first == second:\n",
    "            print(f'First 1 in position {first:2}. Second 1 in position {second:2}.')\n",
    "            no_combs = no_combs + 1\n",
    "\n",
    "print(f'Total combinations is {no_combs}.')"
   ]
  },
  {
   "cell_type": "markdown",
   "id": "424abfdf",
   "metadata": {},
   "source": [
    "So there are 10 choices for position 1, and 9 for position 2, because position 1 has already been filled.\n",
    "\n",
    "But what of the second part of the calculation, after the division? If you look closely at the above result, you can see that there are simultaneously entries for \"First 1 in position 9, second 1 in position 10\" and \"First 1 in position 10. Second 1 in position 9.\" These both look like:\n",
    "\n",
    "_ _ _ _ _ _ _ _ 1 1\n",
    "\n",
    "Over the course of the calculation, this would mean triple counting for the third position, quadruple counting for the fourth, and so on. So while the first four digits of the calculation in the second brackets ( the final multiplication, by 1, is just there to make it look nice) basically act to remove duplicates. That right-hand calculation is basically accounting for the number of different ways you can re-arrange the combinations, above you see there are two ways of sorting 1 and 10 (10, 1 and 1, 10), but these is multiplied once you add in a third, or a fourth digit.\n",
    "\n",
    "There is no reason to go higher than five in the instance displayed above, because it is not possible for us to make six duplicates of a calculation, because we are only searching for instances where there are five heads. If you wanted to look for six heads, you'd need to multiply on the left all the way down <i>to</i> four <i>from</i> ten, and on the right all the way down <i>from</i> six <i>to</i> one. "
   ]
  },
  {
   "cell_type": "markdown",
   "id": "d7e192d8",
   "metadata": {},
   "source": [
    "### Unknown Number of Heads\n",
    "\n",
    "There is only one way to get no heads, by flipping only tails. There are ten ways to get 1 head, 45 ways to get 2, and 252 ways to get three. As stated at the start of this notebook, you can calculate all possible outcomes quite simply, by multiplying the number of outcomes per flip to the power of the number of repititions:"
   ]
  },
  {
   "cell_type": "code",
   "execution_count": 9,
   "id": "4a32d3c5",
   "metadata": {},
   "outputs": [
    {
     "data": {
      "text/plain": [
       "1024"
      ]
     },
     "execution_count": 9,
     "metadata": {},
     "output_type": "execute_result"
    }
   ],
   "source": [
    "2 ** 10"
   ]
  },
  {
   "cell_type": "markdown",
   "id": "bad9cc5c",
   "metadata": {},
   "source": [
    "### Counting combination using `comb`\n",
    "\n",
    "There is just as much chance as getting ten heads in a row as there is getting any other combination. Once you group those outcomes by particular criteria, i.e. a certain number of heads, then the differences in odds between different groups emerges. There is only one way to get ten heads, but there are a varying numbers of combinations that will produce a given number of heads between 1 and 9.\n",
    "\n",
    "Rather than using the multiplication above, Python does actually have an in-built function to make the task easier, `comb`. I actually came up with the loop below myself to express the experiment above, where "
   ]
  },
  {
   "cell_type": "code",
   "execution_count": 19,
   "id": "194572cb",
   "metadata": {},
   "outputs": [
    {
     "name": "stdout",
     "output_type": "stream",
     "text": [
      "Number of 0-head combinations: 1\n",
      "Number of 1-head combinations: 10\n",
      "Number of 2-head combinations: 45\n",
      "Number of 3-head combinations: 120\n",
      "Number of 4-head combinations: 210\n",
      "Number of 5-head combinations: 252\n",
      "Number of 6-head combinations: 210\n",
      "Number of 7-head combinations: 120\n",
      "Number of 8-head combinations: 45\n",
      "Number of 9-head combinations: 10\n",
      "Number of 10-head combinations: 1\n",
      "Total number of combinations 1024\n"
     ]
    },
    {
     "data": {
      "image/png": "[encoded data removed]",
      "text/plain": [
       "<Figure size 432x288 with 1 Axes>"
      ]
     },
     "metadata": {
      "needs_background": "light"
     },
     "output_type": "display_data"
    }
   ],
   "source": [
    "import math\n",
    "import matplotlib.pyplot as plt\n",
    "\n",
    "heads = 0\n",
    "xax = []\n",
    "yax = []\n",
    "totals = 0\n",
    "\n",
    "while heads < 11:\n",
    "    # calculates the number of combinations of number of heads in a 10-flip sequence\n",
    "    combis = math.comb(10,heads)\n",
    "    print(f'Number of {heads}-head combinations: {combis}')\n",
    "    # adds number of heads to a variable to be used as x-axis\n",
    "    xax.append(heads)\n",
    "    # adds number of combinations to a variable to be used as y-axis\n",
    "    yax.append(combis)\n",
    "    # increases value of head by 1 to anticipate next loop\n",
    "    heads = heads + 1\n",
    "    totals = totals + combis\n",
    "\n",
    "print(f'Total number of combinations {totals}')\n",
    "# plots to a bar chart\n",
    "plt.bar(xax,yax)\n",
    "plt.title(\"Number of combinations grouped by number of heads\")\n",
    "plt.show()"
   ]
  },
  {
   "cell_type": "markdown",
   "id": "62596b79",
   "metadata": {},
   "source": [
    "Turns out that Ian had anticipated this, and done a much cleaner version:"
   ]
  },
  {
   "cell_type": "code",
   "execution_count": 16,
   "id": "1ae084a0",
   "metadata": {},
   "outputs": [
    {
     "data": {
      "image/png": "[encoded data removed]",
      "text/plain": [
       "<Figure size 432x288 with 1 Axes>"
      ]
     },
     "metadata": {
      "needs_background": "light"
     },
     "output_type": "display_data"
    }
   ],
   "source": [
    "import matplotlib.pyplot as plt\n",
    "\n",
    "coins = 10\n",
    "# The numbers from 0 to 10 inclusive\n",
    "x = list(range(coins + 1))\n",
    "# The number of ways of selecting i things from 10\n",
    "y = [math.comb(coins, i) for i in x]\n",
    "\n",
    "plt.bar(x,y)\n",
    "plt.show()"
   ]
  },
  {
   "cell_type": "markdown",
   "id": "023ac6dd",
   "metadata": {},
   "source": [
    "So the chance of getting a 0-head or a 10-head combination is just 1/1024 each, but the chance of getting a 5-head combination is still only just under 1 in 4 (252/1024).\n",
    "\n",
    "### Testing numPy\n",
    "\n",
    "To test the accuracy of numPy you can replicate these coin flips any number of times."
   ]
  },
  {
   "cell_type": "code",
   "execution_count": 23,
   "id": "f62e4add",
   "metadata": {},
   "outputs": [
    {
     "data": {
      "image/png": "[encoded data removed]",
      "text/plain": [
       "<Figure size 432x288 with 1 Axes>"
      ]
     },
     "metadata": {
      "needs_background": "light"
     },
     "output_type": "display_data"
    }
   ],
   "source": [
    "coins = 10\n",
    "trials = 435243\n",
    "# run a the defined number of trials\n",
    "heads = np.random.binomial(coins, 0.5, trials)\n",
    "# count the unique values in the returned list\n",
    "vals, counts = np.unique(heads, return_counts=True)\n",
    "plt.bar(vals, counts)\n",
    "plt.show()"
   ]
  },
  {
   "cell_type": "markdown",
   "id": "e73816a3",
   "metadata": {},
   "source": [
    "A similar shape emerges, I'd argue it is likely identical. Over time, as the number of tests increases, the results will more accurately fit the desired trend."
   ]
  }
 ],
 "metadata": {
  "kernelspec": {
   "display_name": "Python 3 (ipykernel)",
   "language": "python",
   "name": "python3"
  },
  "language_info": {
   "codemirror_mode": {
    "name": "ipython",
    "version": 3
   },
   "file_extension": ".py",
   "mimetype": "text/x-python",
   "name": "python",
   "nbconvert_exporter": "python",
   "pygments_lexer": "ipython3",
   "version": "3.9.12"
  }
 },
 "nbformat": 4,
 "nbformat_minor": 5
}
