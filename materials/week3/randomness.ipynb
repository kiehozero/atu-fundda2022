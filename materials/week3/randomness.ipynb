{
 "cells": [
  {
   "cell_type": "markdown",
   "id": "3b831cb4",
   "metadata": {},
   "source": [
    "# Randomness in Python"
   ]
  },
  {
   "cell_type": "code",
   "execution_count": 1,
   "id": "ddf012b5",
   "metadata": {},
   "outputs": [],
   "source": [
    "import numpy as np"
   ]
  },
  {
   "cell_type": "markdown",
   "id": "251ae483",
   "metadata": {},
   "source": [
    "The most basic form of randomness is choosing between two numbers. An obvious example of this is tossing a coin and recording the results. The probability of each result is 0.5 or 50%, because there are only two possible results on a fair coin.\n",
    "\n",
    "The `binomial` function can help us here, it takes two parameters, the first is the end of a range starting at zero, and the second is the probability of each item within that range."
   ]
  },
  {
   "cell_type": "code",
   "execution_count": 2,
   "id": "629fc883",
   "metadata": {},
   "outputs": [
    {
     "data": {
      "text/plain": [
       "0"
      ]
     },
     "execution_count": 2,
     "metadata": {},
     "output_type": "execute_result"
    }
   ],
   "source": [
    "np.random.binomial(1,0.5)"
   ]
  },
  {
   "cell_type": "markdown",
   "id": "7c4fcdfe",
   "metadata": {},
   "source": [
    "### Repeated Flips"
   ]
  },
  {
   "cell_type": "markdown",
   "id": "5ec1655c",
   "metadata": {},
   "source": [
    "Adding a further parameter will repeat the process a given number of times, and produce an array that can then be stored."
   ]
  },
  {
   "cell_type": "code",
   "execution_count": 3,
   "id": "50135e2f",
   "metadata": {},
   "outputs": [
    {
     "data": {
      "text/plain": [
       "array([0, 0, 1, 0, 0, 1, 0, 0, 1, 0, 0, 0, 1, 1, 0, 1, 0, 0, 1, 1, 1, 0,\n",
       "       1, 1, 0, 1, 1, 1, 1, 0, 1, 0, 0, 1, 0, 1, 1, 1, 0, 0, 1, 0, 0, 0,\n",
       "       0, 1, 0, 0, 1, 0, 1, 0, 1, 1, 1, 0, 1, 0, 1, 0, 1, 0, 1, 1, 1, 1,\n",
       "       0, 0, 1, 0, 1, 0, 1, 0, 1, 0, 1, 1, 1, 1, 1, 1, 1, 1, 0, 1, 1, 1,\n",
       "       1, 0, 0, 1, 0, 0, 0, 1, 0, 1, 0, 1])"
      ]
     },
     "execution_count": 3,
     "metadata": {},
     "output_type": "execute_result"
    }
   ],
   "source": [
    "hund = np.random.binomial(1,0.5,100)\n",
    "hund"
   ]
  },
  {
   "cell_type": "markdown",
   "id": "5d5f10a3",
   "metadata": {},
   "source": [
    "Replacing the first parameter with the third will produce a count of the same process, although the results are random so it won't match the results. Repeatedly running this will show that the numbers are always approximately 50, but we only receive the summary of the experiment, rather than each individual result."
   ]
  },
  {
   "cell_type": "code",
   "execution_count": 4,
   "id": "bc1e2bb1",
   "metadata": {},
   "outputs": [
    {
     "data": {
      "text/plain": [
       "47"
      ]
     },
     "execution_count": 4,
     "metadata": {},
     "output_type": "execute_result"
    }
   ],
   "source": [
    "np.random.binomial(100,0.5)"
   ]
  },
  {
   "cell_type": "markdown",
   "id": "8e6eb0c3",
   "metadata": {},
   "source": [
    "There are only 101 possible outcomes of this second function, from 0 to 100. In contrast, there are many more possible combinations of the function with three parameters; each of the 100 iterations can be any of two results:"
   ]
  },
  {
   "cell_type": "code",
   "execution_count": 5,
   "id": "f215b618",
   "metadata": {},
   "outputs": [
    {
     "data": {
      "text/plain": [
       "1267650600228229401496703205376"
      ]
     },
     "execution_count": 5,
     "metadata": {},
     "output_type": "execute_result"
    }
   ],
   "source": [
    "2**100"
   ]
  },
  {
   "cell_type": "markdown",
   "id": "fd08334d",
   "metadata": {},
   "source": [
    "And each of these outcomes has exactly the same probability as occurring, even if it means that you would flip 50 heads in a row, followed by 50 tails. As Ian says in the video, a lot of probability is down to the relationship between the event itself and the summary of it, for instance the list of all 100 outcomes, and summarising the count between heads and tails.\n",
    "\n",
    "An extension of this is the Gambler's Fallacy, where people believe that outcomes that are unrelated are in fact related. If you run the code above a number of times and get a number of heads, you'll increasingly think that you are 'due' a tail; in reality there is no relationship between each iteration of the code."
   ]
  },
  {
   "cell_type": "markdown",
   "id": "c10ea4af",
   "metadata": {},
   "source": [
    "### Twice 50/50\n",
    "\n",
    "The below code repeatedly flips ten coins prints out the first three instances in which five heads are returned. Each time one of these instances is returned, n reduces in value by 1, so eventually the while statement will stop being true. I've modified Ian's code to include variable c, which counts the iteration of the flip sequence."
   ]
  },
  {
   "cell_type": "code",
   "execution_count": 6,
   "id": "75e65497",
   "metadata": {},
   "outputs": [
    {
     "name": "stdout",
     "output_type": "stream",
     "text": [
      "11 [0 1 0 0 1 1 1 0 0 1]\n",
      "12 [1 1 1 0 1 0 0 1 0 0]\n",
      "15 [0 1 1 0 0 1 1 0 0 1]\n"
     ]
    }
   ],
   "source": [
    "n = 3\n",
    "c = 1\n",
    "while n > 0:\n",
    "    tosses = np.random.binomial(1, 0.5, 10)\n",
    "    c = c + 1\n",
    "    # since the heads are 1s, any array that sums up to 5 will denote a match\n",
    "    if tosses.sum() == 5:\n",
    "        print(c,tosses)\n",
    "        n = n - 1"
   ]
  },
  {
   "cell_type": "markdown",
   "id": "ed7ec592",
   "metadata": {},
   "source": [
    "### Counting Heads"
   ]
  },
  {
   "cell_type": "code",
   "execution_count": null,
   "id": "5e521c56",
   "metadata": {},
   "outputs": [],
   "source": []
  }
 ],
 "metadata": {
  "kernelspec": {
   "display_name": "Python 3 (ipykernel)",
   "language": "python",
   "name": "python3"
  },
  "language_info": {
   "codemirror_mode": {
    "name": "ipython",
    "version": 3
   },
   "file_extension": ".py",
   "mimetype": "text/x-python",
   "name": "python",
   "nbconvert_exporter": "python",
   "pygments_lexer": "ipython3",
   "version": "3.9.12"
  }
 },
 "nbformat": 4,
 "nbformat_minor": 5
}
