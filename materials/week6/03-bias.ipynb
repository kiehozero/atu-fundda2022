{
 "cells": [
  {
   "cell_type": "markdown",
   "metadata": {},
   "source": [
    "<h1 style=\"color: rgb(0, 91, 94);\">Bias</h1>\n",
    "\n",
    "<hr style=\"border-top: 1px solid rgb(0, 91, 94);\" />\n",
    "\n",
    "\n",
    "\n",
    "In this notebook, you will learn about bias - statistical and cognitive."
   ]
  },
  {
   "cell_type": "code",
   "execution_count": null,
   "metadata": {},
   "outputs": [],
   "source": [
    "# Numerical arrays.\n",
    "import numpy as np\n",
    "\n",
    "# Plots.\n",
    "import matplotlib.pyplot as plt"
   ]
  },
  {
   "cell_type": "markdown",
   "metadata": {},
   "source": [
    "<h2 style=\"color: rgb(0, 91, 94);\">Cognitive Bias</h2>\n",
    "\n",
    "<hr style=\"border-top: 1px solid rgb(0, 91, 94);\" />\n",
    "\n",
    "*The hope for informed gossip is that there are distinctive patterns in the errors people make. Systematic errors are known as biases, and they recur predictably in particular circumstances. When the handsome and confident speaker bounds onto the stage, for example, you can anticipate that the audience will judge his comments more favorably than he deserves. The availability of a diagnostic label for this bias—the halo effect—makes it easier to anticipate, recognize, and understand.*\n",
    "\n",
    "-- Kahneman; Thinking Fast and Slow"
   ]
  },
  {
   "cell_type": "markdown",
   "metadata": {},
   "source": [
    "<a style=\"color: #ff791e\" href=\"https://github.com/ianmcloughlin/papers/raw/master/tversky-kahneman-heuristics-biases.pdf\"><i>Judgment under Uncertainty: Heuristics and Biases;</i></a><br>Amos Tversky and Daniel Kahneman; Science, New Series, Vol. 185, No. 4157. (Sep. 27, 1974), pp. 1124-1131.\n",
    "\n",
    "<a style=\"color: #ff791e\" href=\"https://github.com/ianmcloughlin/papers/raw/master/tversky-kahneman-framing-of-decisions.pdf\"><i>The Framing of Decisions and the Psychology of Choice;</i></a><br>Amos Tversky and Daniel Kahneman; Science, Vol. 211, 30 January 1981.\n",
    "\n",
    "<a style=\"color: #ff791e\" href=\"https://github.com/ianmcloughlin/papers/raw/master/kruger-dunning-ones-incompetence.pdf\"><i>Unskilled and Unaware of It: How Difficulties in Recognizing One's Own Incompetence Lead to Inflated Self-Assessments;</i></a><br>Justin Kruger and David Dunning; Psychology, 2009, 1, 30-46.\n",
    "\n",
    "<a style=\"color: #ff791e\" href=\"https://plato.stanford.edu/entries/aristotle-rhetoric/\"><i>Aristotle’s Rhetoric;</i></a><br>Stanford Encyclopedia of Philosophy\n",
    "\n",
    "<a style=\"color: #ff791e\" href=\"https://github.com/ianmcloughlin/papers/raw/master/lousville-logos-pathos-ethos-kairos.pdf\"><i>Logos, Ethos, Pathos, Kairos;</i></a><br>University of Louisville Writing Center."
   ]
  },
  {
   "cell_type": "markdown",
   "metadata": {},
   "source": [
    "<h3 style=\"color: rgb(0, 91, 94);\">Guessing Game</h3>\n",
    "\n",
    "<hr style=\"border-top: 1px solid rgb(0, 91, 94);\" />\n",
    "\n",
    "Below is some code that you shouldn't try to understand for now.\n",
    "\n",
    "The game is to, in English, give a precise rule that describes when the function returns True."
   ]
  },
  {
   "cell_type": "code",
   "execution_count": null,
   "metadata": {},
   "outputs": [],
   "source": [
    "# This code is obfuscated on purpose.\n",
    "import operator as o__\n",
    "\n",
    "def test(L):\n",
    "    return True if o__.__ge__(0b10001, len(L) * 2 + sum([i - 0b10 for i in L])) and all([o__.__ge__(L[::-1][i], L[::-1][i+0b1]) for i in range(len(L)-1)]) else False"
   ]
  },
  {
   "cell_type": "markdown",
   "metadata": {},
   "source": [
    "So, we can repeatedly call the function as follows, with different lists of integers."
   ]
  },
  {
   "cell_type": "code",
   "execution_count": null,
   "metadata": {},
   "outputs": [],
   "source": [
    "test([1, 2, 3, 4])"
   ]
  },
  {
   "cell_type": "code",
   "execution_count": null,
   "metadata": {},
   "outputs": [],
   "source": [
    "test([2, 3])"
   ]
  },
  {
   "cell_type": "code",
   "execution_count": null,
   "metadata": {},
   "outputs": [],
   "source": [
    "test([3, 2, 1])"
   ]
  },
  {
   "cell_type": "code",
   "execution_count": null,
   "metadata": {},
   "outputs": [],
   "source": [
    "test([1, 2, 3, 10])"
   ]
  },
  {
   "cell_type": "code",
   "execution_count": null,
   "metadata": {},
   "outputs": [],
   "source": [
    "test([1, 3, 2])"
   ]
  },
  {
   "cell_type": "markdown",
   "metadata": {},
   "source": [
    "So what is the rule?\n",
    "\n",
    "How confident are you that that is the rule?\n",
    "\n",
    "Let's test your rule.\n",
    "\n",
    "Tell me what the outputs of the following code should be."
   ]
  },
  {
   "cell_type": "code",
   "execution_count": null,
   "metadata": {},
   "outputs": [],
   "source": [
    "test([1, 2, 3, 4])"
   ]
  },
  {
   "cell_type": "code",
   "execution_count": null,
   "metadata": {},
   "outputs": [],
   "source": [
    "test([2, 3, 5, 10])"
   ]
  },
  {
   "cell_type": "markdown",
   "metadata": {},
   "source": [
    "Note that the point here is to think about your confidence in your answer and how you got confident."
   ]
  },
  {
   "cell_type": "markdown",
   "metadata": {},
   "source": [
    "<h3 style=\"color: #001a79;\">Exercise 1</h3>\n",
    "\n",
    "<hr style=\"border-top: 1px solid #001a79;\" />\n",
    "\n",
    "<i style=\"color: #001a79;\">Remember to do these exercises in your own notebook in your assessment repository.</i>\n",
    "\n",
    "Give three real-world examples of different types of cognitive bias.\n",
    "\n",
    "<hr style=\"border-top: 1px solid #001a79;\" />"
   ]
  },
  {
   "cell_type": "markdown",
   "metadata": {},
   "source": [
    "<h2 style=\"color: rgb(0, 91, 94);\">Statistical Bias</h2>\n",
    "\n",
    "<hr style=\"border-top: 1px solid rgb(0, 91, 94);\" />\n",
    "\n",
    "Two of the common calculations you will find in the statistics literature are mean and standard deviation.\n",
    "\n",
    "The mean is straight-forward - it is the usual calculation that people call the average.\n",
    "\n",
    "You take all of the numbers you have, add them up, and then divide by the number of them."
   ]
  },
  {
   "cell_type": "markdown",
   "metadata": {},
   "source": [
    "<h3 style=\"color: rgb(0, 91, 94);\">Mean</h3>\n",
    "\n",
    "Suppose you take a sample of values from a larger population of values."
   ]
  },
  {
   "cell_type": "code",
   "execution_count": null,
   "metadata": {},
   "outputs": [],
   "source": [
    "# Generate a sample of 1000 values from a normal distribution.\n",
    "x = np.random.normal(10.0, 1.0, 1000)\n",
    "x"
   ]
  },
  {
   "cell_type": "markdown",
   "metadata": {},
   "source": [
    "\n",
    "If you take the mean of the sample, it is a good estimate of the population average."
   ]
  },
  {
   "cell_type": "code",
   "execution_count": null,
   "metadata": {},
   "outputs": [],
   "source": [
    "# We expect the mean of the sample to be close to the mean of the population.\n",
    "x.mean()"
   ]
  },
  {
   "cell_type": "markdown",
   "metadata": {},
   "source": [
    "What do mean by a good estimate?\n",
    "\n",
    "To investigate, let us take lots of samples."
   ]
  },
  {
   "cell_type": "code",
   "execution_count": null,
   "metadata": {},
   "outputs": [],
   "source": [
    "# Let's run a simulation of taking 1000 samples of size 1000.\n",
    "samples = np.random.normal(10.0, 1.0, (1000, 1000))\n",
    "samples"
   ]
  },
  {
   "cell_type": "code",
   "execution_count": null,
   "metadata": {},
   "outputs": [],
   "source": [
    "# Get the mean of the first sample.\n",
    "samples[0].mean()"
   ]
  },
  {
   "cell_type": "code",
   "execution_count": null,
   "metadata": {},
   "outputs": [],
   "source": [
    "# Calculate the mean of all samples.\n",
    "sample_means = samples.mean(axis=1)\n",
    "sample_means"
   ]
  },
  {
   "cell_type": "markdown",
   "metadata": {},
   "source": [
    "Let's plot the means in a histogram."
   ]
  },
  {
   "cell_type": "code",
   "execution_count": null,
   "metadata": {},
   "outputs": [],
   "source": [
    "plt.hist(sample_means);"
   ]
  },
  {
   "cell_type": "markdown",
   "metadata": {},
   "source": [
    "<h3 style=\"color: rgb(0, 91, 94);\">Standard Deviation</h3>\n",
    "\n",
    "The standard deviation is a different story.\n",
    "\n",
    "First of all, the calculation is not as familiar.\n",
    "\n",
    "It is designed to give a measure of how far the numbers are away from the mean in general.\n",
    "\n",
    "The need for a such a measure is seen in the following example of calculating the mean of two sets of numbers."
   ]
  },
  {
   "cell_type": "code",
   "execution_count": null,
   "metadata": {},
   "outputs": [],
   "source": [
    "# A list of nubmers - four small and one big.\n",
    "numbers1 = np.array([1, 1, 1, 1, 10])\n",
    "# Their mean.\n",
    "np.mean(numbers1)"
   ]
  },
  {
   "cell_type": "code",
   "execution_count": null,
   "metadata": {},
   "outputs": [],
   "source": [
    "# A list of numbers - all close to each other.\n",
    "numbers2 = np.array([2, 2, 3, 3, 4])\n",
    "# Their mean.\n",
    "np.mean(numbers2)"
   ]
  },
  {
   "cell_type": "markdown",
   "metadata": {},
   "source": [
    "The example illustrates a common issue.\n",
    "\n",
    "The mean on its own does is limited as a summary of the data points.\n",
    "\n",
    "That is why we use the standard deviation - it gives us a measure of the spread.\n",
    "\n",
    "Let's see how it is calculated.\n",
    "\n",
    "First we'll generate a sample."
   ]
  },
  {
   "cell_type": "code",
   "execution_count": null,
   "metadata": {},
   "outputs": [],
   "source": [
    "# Generate a sample of values - note we can see the population standard deviation.\n",
    "x = np.random.normal(10.0, 1.0, 1000)\n",
    "x"
   ]
  },
  {
   "cell_type": "markdown",
   "metadata": {},
   "source": [
    "Now, let us calculate the mean and investigate it."
   ]
  },
  {
   "cell_type": "code",
   "execution_count": null,
   "metadata": {},
   "outputs": [],
   "source": [
    "# Calculate the mean.\n",
    "x_mean = x.mean()\n",
    "\n",
    "# Subtract the mean from each of the values.\n",
    "zeroed = x - x_mean"
   ]
  },
  {
   "cell_type": "code",
   "execution_count": null,
   "metadata": {},
   "outputs": [],
   "source": [
    "# What do you think the mean of zeroed is?\n",
    "zeroed.mean()"
   ]
  },
  {
   "cell_type": "code",
   "execution_count": null,
   "metadata": {},
   "outputs": [],
   "source": [
    "# This will give us a better view of it - correct to four decimal places.\n",
    "print(f'{zeroed.mean():0.4f}')"
   ]
  },
  {
   "cell_type": "markdown",
   "metadata": {},
   "source": [
    "So, subtracting the mean of the sample results in the mean being zero.\n",
    "\n",
    "The standard deviation is an adjustment to the above calculation.\n",
    "\n",
    "The goal is to summarise the zeroed array without losing information about the distance of each point from the mean.\n",
    "\n",
    "Let's see if we can come up with a plot of the idea."
   ]
  },
  {
   "cell_type": "code",
   "execution_count": null,
   "metadata": {},
   "outputs": [],
   "source": [
    "# Create a plot.\n",
    "fig, ax = plt.subplots(figsize=(12, 6))\n",
    "\n",
    "# Plot the zeroed array, each value spaced out evenly along the x axis.\n",
    "# Note the x axis is just the position of the value in the zeroed array.\n",
    "ax.plot(range(len(zeroed)), zeroed, 'k.')\n",
    "\n",
    "# Plot the y=0 line.\n",
    "ax.axhline(y=0.0, color='grey', linestyle='-');"
   ]
  },
  {
   "cell_type": "markdown",
   "metadata": {},
   "source": [
    "One idea is to take the average (vertical) distance each point is from the mean, zero.\n",
    "\n",
    "We need to be careful - there are negative and positive values here.\n",
    "\n",
    "By definition, they sum to zero."
   ]
  },
  {
   "cell_type": "code",
   "execution_count": null,
   "metadata": {},
   "outputs": [],
   "source": [
    "# Sum the array.\n",
    "print(f'{zeroed.sum():0.4f}')"
   ]
  },
  {
   "cell_type": "markdown",
   "metadata": {},
   "source": [
    "We can try instead taking the absolute value.\n",
    "\n",
    "This makes sense, because we expect distances to be positive."
   ]
  },
  {
   "cell_type": "code",
   "execution_count": null,
   "metadata": {},
   "outputs": [],
   "source": [
    "# Absolute values.\n",
    "np.abs(zeroed)"
   ]
  },
  {
   "cell_type": "code",
   "execution_count": null,
   "metadata": {},
   "outputs": [],
   "source": [
    "# Average absolute value.\n",
    "np.mean(np.abs(zeroed))"
   ]
  },
  {
   "cell_type": "markdown",
   "metadata": {},
   "source": [
    "While this is a reasonable measure of spread, it is not typically the one used.\n",
    "\n",
    "For a discussion, see this Cross Validated post: https://stats.stackexchange.com/q/118\n",
    "\n",
    "Instead we usually square the values.\n",
    "\n",
    "Note squaring a number gives a positive value.\n",
    "\n",
    "It is also somewhat easier to work with analytically."
   ]
  },
  {
   "cell_type": "code",
   "execution_count": null,
   "metadata": {},
   "outputs": [],
   "source": [
    "# Square the values.\n",
    "np.square(zeroed)"
   ]
  },
  {
   "cell_type": "markdown",
   "metadata": {},
   "source": [
    "Note that when you square numbers, bigger values get bigger.\n",
    "\n",
    "Larger deviations from the mean will contribute relatively more to the standard deviation.\n",
    "\n",
    "That is not necessarily a bad thing, it is just something to note."
   ]
  },
  {
   "cell_type": "code",
   "execution_count": null,
   "metadata": {},
   "outputs": [],
   "source": [
    "# Create a plot.\n",
    "fig, ax = plt.subplots(figsize=(12, 6))\n",
    "\n",
    "# Plot the squared zeroed array, each value spaced out evenly along the x axis.\n",
    "# Note the x axis is just the position of the value in the zeroed array.\n",
    "ax.plot(range(len(zeroed)), np.square(zeroed), color='green', marker='.', linestyle='none')\n",
    "\n",
    "# Plot the zeroed array, each value spaced out evenly along the x axis.\n",
    "# Note the x axis is just the position of the value in the zeroed array.\n",
    "ax.plot(range(len(zeroed)), zeroed, 'k.')\n",
    "\n",
    "# Plot the y=0 line.\n",
    "ax.axhline(y=0.0, color='grey', linestyle='-');"
   ]
  },
  {
   "cell_type": "code",
   "execution_count": null,
   "metadata": {},
   "outputs": [],
   "source": [
    "# Calculate the average squared result.\n",
    "np.mean(np.square(zeroed))"
   ]
  },
  {
   "cell_type": "markdown",
   "metadata": {},
   "source": [
    "Now, because we have squared the original values, we often take the square root of the answer."
   ]
  },
  {
   "cell_type": "code",
   "execution_count": null,
   "metadata": {},
   "outputs": [],
   "source": [
    "# Calculate the square root of the average squared result.\n",
    "np.sqrt(np.mean(np.square(zeroed)))"
   ]
  },
  {
   "cell_type": "markdown",
   "metadata": {},
   "source": [
    "So, here is the full calculation."
   ]
  },
  {
   "cell_type": "code",
   "execution_count": null,
   "metadata": {},
   "outputs": [],
   "source": [
    "# The full calculation using the original array.\n",
    "np.sqrt(np.mean(np.square(x - np.mean(x))))"
   ]
  },
  {
   "cell_type": "markdown",
   "metadata": {},
   "source": [
    "This common calculation is built into numpy.\n",
    "\n",
    "Note this is very close (by design) to the second parameter we sent to `np.random.normal`."
   ]
  },
  {
   "cell_type": "code",
   "execution_count": null,
   "metadata": {},
   "outputs": [],
   "source": [
    "# Note that the function is built into numpy.\n",
    "x.std()"
   ]
  },
  {
   "cell_type": "markdown",
   "metadata": {},
   "source": [
    "<h2 style=\"color: rgb(0, 91, 94);\">Bessel's Correction</h2>\n",
    "\n",
    "<hr style=\"border-top: 1px solid rgb(0, 91, 94);\" />\n",
    "\n",
    "The above calculation of the standard deviation has one flaw.\n",
    "\n",
    "If you calculate the standard deviation of a sample, it is a biased estimator for the standard deviation of the population."
   ]
  },
  {
   "cell_type": "markdown",
   "metadata": {},
   "source": [
    "<h3 style=\"color: rgb(0, 91, 94);\">Excel's Standard Deviation</h3>\n",
    "\n",
    "This was a common issue in Excel in years gone by.\n",
    "\n",
    "See the following warning on the official STDEV function documentation for Excel:\n",
    "\n",
    "*Important: This function has been replaced with one or more new functions that may provide improved accuracy and whose names better reflect their usage. Although this function is still available for backward compatibility, you should consider using the new functions from now on, because this function may not be available in future versions of Excel.*\n",
    "\n",
    "https://support.microsoft.com/en-us/office/stdev-function-51fecaaa-231e-4bbb-9230-33650a72c9b0\n",
    "\n",
    "The functions replacing it are STDEVP and STDEV.S:\n",
    "\n",
    "https://support.microsoft.com/en-us/office/stdev-s-function-7d69cf97-0c1f-4acf-be27-f3e83904cc23\n",
    "\n",
    "https://support.microsoft.com/en-us/office/stdevp-function-1f7c1c88-1bec-4422-8242-e9f7dc8bb195"
   ]
  },
  {
   "cell_type": "markdown",
   "metadata": {},
   "source": [
    "<h3 style=\"color: rgb(0, 91, 94);\">Biased Estimators</h3>\n",
    "\n",
    "The issue is apparent when we repeatedly draw samples from a population.\n",
    "\n",
    "If we use the above calculation on each sample, we will systematically under-estimate the standard deviation.\n",
    "\n",
    "Let us see if we can see this in a plot.\n",
    "\n",
    "We will use small small samples as the effect it clearer."
   ]
  },
  {
   "cell_type": "code",
   "execution_count": null,
   "metadata": {},
   "outputs": [],
   "source": [
    "# Create 100000 samples of size 5 - standard deviation is 2.0.\n",
    "samples = np.random.normal(0.0, 2.0, (100000, 5))\n",
    "samples"
   ]
  },
  {
   "cell_type": "code",
   "execution_count": null,
   "metadata": {},
   "outputs": [],
   "source": [
    "# Calculate standard deviation without correction.\n",
    "stdevs = samples.std(axis=1)\n",
    "stdevs"
   ]
  },
  {
   "cell_type": "code",
   "execution_count": null,
   "metadata": {},
   "outputs": [],
   "source": [
    "# View a histogram - hopefully we can see the estimate is too small.\n",
    "fig, ax = plt.subplots(figsize=(12, 6))\n",
    "\n",
    "# Plot histogram.\n",
    "plt.hist(stdevs, bins=100)\n",
    "\n",
    "# Draw a vertical line where the actual standard deviation is.\n",
    "plt.axvline(x=2.0, color='red');"
   ]
  },
  {
   "cell_type": "markdown",
   "metadata": {},
   "source": [
    "It seems clear that the tip of the curve is below the actual value."
   ]
  },
  {
   "cell_type": "markdown",
   "metadata": {},
   "source": [
    "<h3 style=\"color: rgb(0, 91, 94);\">The Correction</h3>\n",
    "\n",
    "Bessel's correction actually applies to the variance.\n",
    "\n",
    "The variance of a sample is the square of the standard deviation.\n",
    "\n",
    "It is what we get is we do not apply the `np.sqrt` function in the standard deviation calculation.\n",
    "\n",
    "The correction is to mutliply the calculation be $\\frac{n}{n-1}$."
   ]
  },
  {
   "cell_type": "code",
   "execution_count": null,
   "metadata": {},
   "outputs": [],
   "source": [
    "# Uncorrected variance.\n",
    "np.mean(np.square(x - np.mean(x)))"
   ]
  },
  {
   "cell_type": "code",
   "execution_count": null,
   "metadata": {},
   "outputs": [],
   "source": [
    "# Corrected variance.\n",
    "np.mean(np.square(x - np.mean(x))) * (len(x) / (len(x) - 1.0))"
   ]
  },
  {
   "cell_type": "markdown",
   "metadata": {},
   "source": [
    "The correction can be applied to the standard deviation directly, but will still lead to "
   ]
  },
  {
   "cell_type": "code",
   "execution_count": null,
   "metadata": {},
   "outputs": [],
   "source": []
  },
  {
   "cell_type": "markdown",
   "metadata": {},
   "source": [
    "<h3 style=\"color: #001a79;\">Exercise 2</h3>\n",
    "\n",
    "<hr style=\"border-top: 1px solid #001a79;\" />\n",
    "\n",
    "<i style=\"color: #001a79;\">Remember to do these exercises in your own notebook in your assessment repository.</i>\n",
    "\n",
    "Show that the difference between the standard deviation calculations is greatest for small sample sizes."
   ]
  },
  {
   "cell_type": "markdown",
   "metadata": {},
   "source": [
    "<hr style=\"border-top: 1px solid rgb(0, 91, 94);\" />\n",
    "\n",
    "<h2 style=\"color: rgb(0, 91, 94);\">End</h2>"
   ]
  }
 ],
 "metadata": {
  "kernelspec": {
   "display_name": "Python 3 (ipykernel)",
   "language": "python",
   "name": "python3"
  },
  "language_info": {
   "codemirror_mode": {
    "name": "ipython",
    "version": 3
   },
   "file_extension": ".py",
   "mimetype": "text/x-python",
   "name": "python",
   "nbconvert_exporter": "python",
   "pygments_lexer": "ipython3",
   "version": "3.9.12"
  }
 },
 "nbformat": 4,
 "nbformat_minor": 4
}
