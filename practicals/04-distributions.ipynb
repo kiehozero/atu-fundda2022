{
 "cells": [
  {
   "cell_type": "markdown",
   "id": "2f86359d",
   "metadata": {},
   "source": [
    "# EXERCISE 4\n",
    "\n",
    "## Task: Plot bar charts of histograms of any three different distributions listed at the following [link](https://numpy.org/doc/stable/reference/random/generator.html#distributions).\n",
    "- essentially we are being asked to replicate the process where we created a standard distribution histogram (or bar chart if it is discrete, as opposed to continuous, data, but with one of the other distributions that we have not yet encountered. Not all of them operate the same way, or use the same parameters, so you'll need to investigate how the three that you choose work rather than just diving in.\n",
    "- pick three, decide whether each is discrete or continuous (so bar vs. histogram), generate some samples, plot it, and give some sort of brief overview of basic explanations you find on google."
   ]
  },
  {
   "cell_type": "code",
   "execution_count": 1,
   "id": "8f3ab64d",
   "metadata": {},
   "outputs": [],
   "source": [
    "import matplotlib.pyplot as plt\n",
    "import numpy as np\n",
    "import webbrowser as wp"
   ]
  },
  {
   "cell_type": "markdown",
   "id": "e14243d2",
   "metadata": {},
   "source": [
    "### Distribution 1 - Triangular\n",
    "\n",
    "The triangular distribution is a continuous distribution that accepts three compulsory parameters:\n",
    "\n",
    "- `left` determines the minimum value within the dataset;\n",
    "- `mode` determines the most common value found within the dataset;\n",
    "- `right` determines the maximum value.\n",
    "    \n",
    "  A fourth parameter, `size` is effectively compulsory as it defaults to 1, with the following result:"
   ]
  },
  {
   "cell_type": "code",
   "execution_count": 2,
   "id": "71147ec2",
   "metadata": {},
   "outputs": [
    {
     "data": {
      "image/png": "[encoded data removed]",
      "text/plain": [
       "<Figure size 432x288 with 1 Axes>"
      ]
     },
     "metadata": {
      "needs_background": "light"
     },
     "output_type": "display_data"
    }
   ],
   "source": [
    "rng = np.random.default_rng()\n",
    "vals = rng.triangular(left=-1000,mode=650,right=1000)\n",
    "plt.hist(vals)\n",
    "plt.show()"
   ]
  },
  {
   "cell_type": "markdown",
   "id": "21bf2c10",
   "metadata": {},
   "source": [
    "As can be seen above, the triangular distribution function returns a single column of data made up of a single number, if `size` is omitted as a parameter. I include this as an example of an error I made in not reading the documentation properly. When included, the below is produced:"
   ]
  },
  {
   "cell_type": "code",
   "execution_count": 3,
   "id": "895f0987",
   "metadata": {},
   "outputs": [
    {
     "data": {
      "image/png": "[encoded data removed]",
      "text/plain": [
       "<Figure size 432x288 with 1 Axes>"
      ]
     },
     "metadata": {
      "needs_background": "light"
     },
     "output_type": "display_data"
    }
   ],
   "source": [
    "# defining the lowest, modal and maximum values of the dataset\n",
    "left = 0\n",
    "mode = 958\n",
    "right = 1000\n",
    "\n",
    "# assigning a variable to the difference between the elements above\n",
    "incline = mode - left\n",
    "decline = right - mode\n",
    "\n",
    "# a loop that works out whether the mode is closer to the minimum or maximum value\n",
    "if decline > incline:\n",
    "    steep = \"mode is closer to left, incline is steeper\"\n",
    "if decline < incline:\n",
    "    steep = \"mode is closer to right, decline is steeper\"\n",
    "else:\n",
    "    steep = \"mode equals median value, incline and decline are the same\"\n",
    "\n",
    "# in this part of the code I've plugged the triangular distribution into sample code provided in the lecture\n",
    "rng = np.random.default_rng()\n",
    "vals = rng.triangular(left=left,mode=mode,right=right,size=100000)\n",
    "plt.hist(vals, bins=1000)\n",
    "# using the output of the loop above to create a title\n",
    "plt.title(steep)\n",
    "plt.show()\n"
   ]
  },
  {
   "cell_type": "markdown",
   "id": "9a015761",
   "metadata": {},
   "source": [
    "The `mode` parameter effectively acts as a pivot on the shape of the dataset; if the value of `left` subtracted from `mode` is greater than `mode` subtracted from `right`, then a steeper incline will be produced. If the latter value is greater, than a decline that is steeper than the incline will be produced, and if the modal value is also the median value, this is known as [symmetrical triangular distribution](https://en.wikipedia.org/wiki/Triangular_distribution#Symmetric_triangular_distribution)."
   ]
  },
  {
   "cell_type": "markdown",
   "id": "72e2c9a9",
   "metadata": {},
   "source": [
    "### Distribution 2 - Multinomial\n",
    "The multinomial distribution is a discrete distribution similar to the binomial distribution, but generates experiments with more than two outcomes. The [NumPy documentation] lists a sequence of dice as the classic example of this. The parameters for this function are:\n",
    "\n",
    "- `n`, the number of experiments to perform;\n",
    "- `pvals`, the probability of each outcome occurring;\n",
    "- `size`, the number of times `n` should be repeated.\n",
    "\n",
    "To demonstrate this in a plot, I chose xample could be something like, if a dice is rolled in 1000 sequences of 10 rolls, how many times would a sequence sum up to a particular value? It took me far too long messing around with loops and lists to achieve this, and there is almost certainly a more efficient way to write this, but it feels beneficial."
   ]
  },
  {
   "cell_type": "code",
   "execution_count": 4,
   "id": "03c45477",
   "metadata": {},
   "outputs": [
    {
     "data": {
      "image/png": "[encoded data removed]",
      "text/plain": [
       "<Figure size 432x288 with 1 Axes>"
      ]
     },
     "metadata": {
      "needs_background": "light"
     },
     "output_type": "display_data"
    },
    {
     "name": "stdout",
     "output_type": "stream",
     "text": [
      "Sum of Values: [33, 32, 44, 41, 33, 37, 38, 39, 40, 37, 33, 35, 32, 25, 38, 33, 38, 38, 35, 21, 44, 34, 33, 31, 38, 33, 26, 46, 26, 32, 40, 32, 34, 35, 36, 38, 39, 34, 33, 33, 45, 34, 36, 34, 37, 41, 25, 34, 41, 36, 34, 23, 35, 32, 35, 33, 39, 26, 25, 22, 37, 32, 38, 30, 32, 33, 33, 27, 30, 33, 39, 36, 42, 35, 32, 35, 43, 27, 37, 30, 35, 39, 40, 42, 31, 33, 26, 41, 34, 45, 28, 37, 36, 42, 34, 33, 37, 31, 33, 30, 31, 46, 34, 28, 35, 31, 33, 30, 26, 39, 29, 26, 29, 35, 30, 37, 31, 30, 25, 35, 38, 30, 38, 31, 26, 32, 32, 36, 37, 33, 32, 36, 40, 27, 29, 37, 31, 29, 33, 36, 30, 38, 46, 32, 28, 32, 27, 35, 42, 28, 43, 33, 42, 35, 24, 37, 37, 30, 36, 31, 34, 35, 38, 31, 32, 36, 32, 24, 33, 31, 33, 35, 36, 32, 34, 33, 39, 30, 26, 33, 34, 33, 43, 33, 31, 32, 34, 38, 32, 38, 33, 35, 36, 38, 20, 48, 35, 37, 35, 35, 34, 39, 30, 41, 38, 37, 42, 36, 41, 37, 42, 37, 35, 38, 44, 23, 45, 43, 32, 33, 37, 35, 31, 33, 25, 35, 37, 32, 27, 34, 44, 27, 37, 38, 42, 40, 34, 31, 35, 27, 36, 34, 46, 41, 38, 24, 30, 33, 32, 25, 38, 40, 34, 41, 38, 37, 34, 34, 47, 32, 38, 36, 30, 30, 39, 37, 35, 36, 40, 29, 36, 31, 42, 21, 36, 29, 36, 31, 35, 39, 32, 30, 38, 44, 37, 44, 31, 29, 33, 41, 41, 35, 32, 36, 34, 31, 26, 22, 31, 28, 34, 36, 35, 36, 42, 34, 41, 36, 27, 34, 26, 36, 31, 34, 39, 40, 33, 37, 41, 44, 37, 45, 30, 43, 35, 36, 33, 30, 36, 33, 39, 40, 35, 42, 34, 35, 32, 44, 40, 40, 46, 35, 35, 42, 33, 38, 42, 38, 24, 20, 33, 38, 38, 36, 32, 35, 27, 41, 30, 36, 37, 34, 32, 40, 21, 36, 47, 32, 25, 41, 32, 31, 35, 40, 49, 48, 32, 35, 27, 32, 31, 35, 39, 46, 29, 27, 33, 34, 36, 38, 36, 33, 41, 34, 30, 26, 39, 34, 33, 34, 35, 44, 33, 33, 27, 42, 40, 43, 30, 31, 35, 37, 40, 38, 33, 30, 40, 36, 40, 30, 23, 38, 30, 41, 23, 32, 42, 45, 43, 37, 23, 26, 37, 38, 37, 29, 31, 41, 35, 47, 27, 33, 39, 39, 28, 38, 37, 40, 30, 40, 37, 35, 27, 41, 30, 26, 31, 42, 43, 32, 34, 37, 43, 35, 40, 34, 34, 33, 39, 28, 30, 29, 36, 44, 33, 45, 32, 45, 39, 40, 39, 39, 32, 38, 40, 35, 33, 37, 27, 25, 36, 29, 33, 37, 48, 41, 30, 25, 35, 42, 32, 38, 43, 29, 37, 30, 35, 39, 34, 35, 37, 35, 32, 40, 38, 38, 35, 37, 35, 36, 46, 31, 39, 29, 44, 35, 28, 39, 42, 33, 29, 43, 16, 33, 25, 35, 41, 31, 36, 33, 41, 44, 43, 37, 36, 28, 34, 47, 32, 41, 34, 32, 33, 28, 36, 34, 29, 32, 26, 34, 33, 40, 34, 24, 24, 33, 34, 41, 36, 39, 40, 40, 32, 27, 44, 29, 30, 28, 41, 38, 40, 36, 33, 29, 36, 20, 35, 42, 33, 37, 37, 37, 39, 40, 33, 31, 30, 29, 35, 38, 28, 36, 38, 38, 38, 33, 43, 28, 40, 22, 41, 40, 46, 38, 26, 29, 39, 40, 38, 29, 39, 17, 41, 38, 43, 30, 39, 38, 39, 40, 46, 47, 32, 43, 37, 43, 35, 45, 39, 33, 28, 37, 37, 29, 31, 33, 30, 45, 32, 37, 38, 29, 35, 48, 31, 42, 41, 34, 32, 30, 44, 36, 46, 40, 29, 31, 29, 34, 28, 31, 34, 37, 32, 36, 37, 29, 28, 41, 40, 34, 36, 34, 36, 31, 33, 38, 39, 36, 40, 38, 39, 26, 27, 45, 31, 39, 41, 30, 43, 42, 33, 26, 29, 37, 32, 35, 37, 25, 27, 32, 21, 29, 29, 44, 28, 35, 40, 42, 33, 35, 39, 33, 33, 37, 34, 44, 39, 35, 40, 36, 32, 23, 34, 40, 31, 42, 30, 34, 25, 32, 40, 22, 44, 30, 42, 33, 30, 26, 43, 31, 42, 40, 40, 38, 29, 45, 37, 36, 36, 27, 36, 25, 36, 32, 38, 36, 39, 42, 40, 31, 27, 32, 35, 34, 37, 39, 40, 39, 30, 42, 33, 36, 30, 37, 39, 39, 28, 41, 36, 36, 33, 47, 43, 37, 34, 37, 39, 43, 36, 34, 28, 37, 34, 36, 37, 31, 36, 37, 30, 38, 44, 30, 37, 36, 37, 27, 39, 27, 43, 28, 40, 37, 44, 30, 38, 37, 33, 36, 33, 37, 39, 29, 42, 25, 37, 44, 38, 32, 41, 36, 30, 21, 34, 40, 40, 29, 46, 26, 33, 25, 42, 29, 32, 27, 25, 32, 34, 35, 31, 29, 31, 35, 33, 39, 45, 41, 31, 30, 35, 28, 42, 46, 42, 39, 28, 37, 34, 36, 38, 41, 38, 25, 34, 33, 30, 38, 31, 31, 31, 41, 29, 40, 38, 33, 32, 38, 43, 39, 28, 37, 36, 36, 30, 32, 29, 28, 21, 32, 27, 30, 38, 34, 30, 35, 31, 38, 29, 33, 40, 40, 32, 28, 37, 31, 37, 47, 40, 38, 32, 41, 35, 42, 39, 35, 39, 39, 37, 40, 32, 26, 46, 30, 36, 39, 38, 31, 47, 34, 32, 28, 36, 31, 33, 36, 35, 45, 40, 41, 45, 37, 32, 31, 36, 34, 31, 43, 38, 36, 42, 39, 32, 39, 38, 42, 33, 44, 43, 44, 33, 36, 42, 32, 37, 27, 40, 35, 39, 42, 31, 32, 36, 37, 31, 34, 34, 41, 30, 33, 37, 34]\n"
     ]
    }
   ],
   "source": [
    "# this portion of the code is taken from the numPy documentation for binomial distribution to replicate dice rolls\n",
    "rng = np.random.default_rng()\n",
    "# the parameters here translate to: roll a dice ten times, and repeat this 20 times, in which each of the six\n",
    "# outcomes has an equal chance of occurring.\n",
    "arrs = rng.multinomial(10,[1/6.]*6,size=1000)\n",
    "# the loop here is something I came up with by reading through an article by Euan Russano in the README, and then \n",
    "# going off the deep-end. Firstly assigns a count variable to count through the arrays, as well as adding an empty\n",
    "# list to store the sum of each roll in each array. Finally uses an empty list to store total sum of each sequence.\n",
    "count = 0\n",
    "val_by_dot = []\n",
    "sum_of_arr = []\n",
    "\n",
    "for arr in arrs:\n",
    "    # counts through the sequence, assigns a number to each array\n",
    "    count = count + 1\n",
    "    # counts through the array, assigns a number to each roll, resets to zero after each array\n",
    "    count_roll = 0\n",
    "    # list to house values of each sequence\n",
    "    value_array = []\n",
    "    for i in arr:\n",
    "        # adds 1 to roll count\n",
    "        count_roll = count_roll + 1\n",
    "        # multiplies number of rolls by that dice value\n",
    "        value = i * count_roll\n",
    "        value_array.append(value)\n",
    "    # error was here, I added the append inside the roll loop, not the array loop!\n",
    "    val_by_dot.append(value_array)\n",
    "\n",
    "for item in val_by_dot:\n",
    "    item_sum = sum(item)\n",
    "    sum_of_arr.append(item_sum)\n",
    "    \n",
    "# histogram to display the number of times each sum is \n",
    "plt.hist(sum_of_arr)\n",
    "plt.show()\n",
    "\n",
    "# print(\"Results of Rolls\")\n",
    "# print(arrs)\n",
    "# print(\"Values by Dot\")\n",
    "# print(val_by_dot)\n",
    "print(f'Sum of Values: {sum_of_arr}')\n"
   ]
  },
  {
   "cell_type": "markdown",
   "id": "b601d82b",
   "metadata": {},
   "source": [
    "### Distribution 3 - Hypergeometric\n",
    "- Discrete? [link](https://medium.com/analytics-vidhya/7-types-of-discrete-probability-distributions-and-their-applications-in-r-ba5e2e263bd5)\n",
    "- Overview\n",
    "- [numPy](https://numpy.org/doc/stable/reference/random/generated/numpy.random.Generator.hypergeometric.html#numpy.random.Generator.hypergeometric)\n",
    "- [Wiki](https://en.wikipedia.org/wiki/Hypergeometric_distribution)"
   ]
  },
  {
   "cell_type": "code",
   "execution_count": null,
   "id": "aefc3903",
   "metadata": {},
   "outputs": [],
   "source": []
  }
 ],
 "metadata": {
  "kernelspec": {
   "display_name": "Python 3 (ipykernel)",
   "language": "python",
   "name": "python3"
  },
  "language_info": {
   "codemirror_mode": {
    "name": "ipython",
    "version": 3
   },
   "file_extension": ".py",
   "mimetype": "text/x-python",
   "name": "python",
   "nbconvert_exporter": "python",
   "pygments_lexer": "ipython3",
   "version": "3.9.12"
  }
 },
 "nbformat": 4,
 "nbformat_minor": 5
}
