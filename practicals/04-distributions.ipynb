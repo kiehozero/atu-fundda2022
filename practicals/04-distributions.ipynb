{
 "cells": [
  {
   "cell_type": "markdown",
   "id": "2f86359d",
   "metadata": {},
   "source": [
    "# EXERCISE 4\n",
    "\n",
    "## Task: Plot bar charts of histograms of any three different distributions listed at the following [link](https://numpy.org/doc/stable/reference/random/generator.html#distributions).\n",
    "- essentially we are being asked to replicate the process where we created a standard distribution histogram (or bar chart if it is discrete, as opposed to continuous, data, but with one of the other distributions that we have not yet encountered. Not all of them operate the same way, or use the same parameters, so you'll need to investigate how the three that you choose work rather than just diving in.\n",
    "- pick three, decide whether each is discrete or continuous (so bar vs. histogram), generate some samples, plot it, and give some sort of brief overview of basic explanations you find on google."
   ]
  },
  {
   "cell_type": "markdown",
   "id": "e14243d2",
   "metadata": {},
   "source": [
    "### Distribution 1 - Triangular\n",
    "- =Continuous\n",
    "- Overview\n",
    "- [link](https://numpy.org/doc/stable/reference/random/generated/numpy.random.Generator.triangular.html#numpy.random.Generator.triangular)"
   ]
  },
  {
   "cell_type": "code",
   "execution_count": 2,
   "id": "895f0987",
   "metadata": {},
   "outputs": [],
   "source": [
    "import numpy as np"
   ]
  },
  {
   "cell_type": "markdown",
   "id": "72e2c9a9",
   "metadata": {},
   "source": [
    "### Distribution 2 - Multinomial\n",
    "- Looks discrete? [link](https://medium.com/analytics-vidhya/7-types-of-discrete-probability-distributions-and-their-applications-in-r-ba5e2e263bd5)\n",
    "- Overview\n",
    "- [link](https://numpy.org/doc/stable/reference/random/generated/numpy.random.Generator.multinomial.html#numpy.random.Generator.multinomial)"
   ]
  },
  {
   "cell_type": "code",
   "execution_count": null,
   "id": "03c45477",
   "metadata": {},
   "outputs": [],
   "source": []
  },
  {
   "cell_type": "markdown",
   "id": "b601d82b",
   "metadata": {},
   "source": [
    "### Distribution 3 - Hypergeometric\n",
    "- Discrete? [link](https://medium.com/analytics-vidhya/7-types-of-discrete-probability-distributions-and-their-applications-in-r-ba5e2e263bd5)\n",
    "- Overview\n",
    "- [numPy](https://numpy.org/doc/stable/reference/random/generated/numpy.random.Generator.hypergeometric.html#numpy.random.Generator.hypergeometric)\n",
    "- [Wiki](https://en.wikipedia.org/wiki/Hypergeometric_distribution)"
   ]
  },
  {
   "cell_type": "code",
   "execution_count": null,
   "id": "aefc3903",
   "metadata": {},
   "outputs": [],
   "source": []
  },
  {
   "cell_type": "markdown",
   "id": "669fd348",
   "metadata": {},
   "source": [
    "### Distribution 4 - Chi-Square\n",
    "- continuous\n",
    "- Overview\n",
    " [link](https://numpy.org/doc/stable/reference/random/generated/numpy.random.Generator.chisquare.html)"
   ]
  },
  {
   "cell_type": "code",
   "execution_count": null,
   "id": "55394ef4",
   "metadata": {},
   "outputs": [],
   "source": []
  }
 ],
 "metadata": {
  "kernelspec": {
   "display_name": "Python 3 (ipykernel)",
   "language": "python",
   "name": "python3"
  },
  "language_info": {
   "codemirror_mode": {
    "name": "ipython",
    "version": 3
   },
   "file_extension": ".py",
   "mimetype": "text/x-python",
   "name": "python",
   "nbconvert_exporter": "python",
   "pygments_lexer": "ipython3",
   "version": "3.9.12"
  }
 },
 "nbformat": 4,
 "nbformat_minor": 5
}
