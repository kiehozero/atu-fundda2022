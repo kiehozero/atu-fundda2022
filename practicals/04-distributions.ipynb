{
 "cells": [
  {
   "cell_type": "markdown",
   "id": "2f86359d",
   "metadata": {},
   "source": [
    "# EXERCISE 4\n",
    "\n",
    "## Plot bar charts of histograms of any three different distributions listed at the following link:\n",
    "[link](https://numpy.org/doc/stable/reference/random/generator.html#distributions)\n",
    "- essential we are being asked to replicate the process where we created a standard distribution histogram (or bar chart if it is discrete, as opposed to continuous, data, but with one of the other distributions that we have not yet encountered. Not all of them operate the same way, or use the same parameters, so you'll need to investigate how the three that you choose work rather than just diving in.\n",
    "- pick three, decide whether each is discrete or continuous (so bar vs. histogram), generate some samples, plot it, and give some sort of brief overview of basic explanations you find on google."
   ]
  },
  {
   "cell_type": "code",
   "execution_count": null,
   "id": "23a63c1c",
   "metadata": {},
   "outputs": [],
   "source": []
  }
 ],
 "metadata": {
  "kernelspec": {
   "display_name": "Python 3 (ipykernel)",
   "language": "python",
   "name": "python3"
  },
  "language_info": {
   "codemirror_mode": {
    "name": "ipython",
    "version": 3
   },
   "file_extension": ".py",
   "mimetype": "text/x-python",
   "name": "python",
   "nbconvert_exporter": "python",
   "pygments_lexer": "ipython3",
   "version": "3.9.12"
  }
 },
 "nbformat": 4,
 "nbformat_minor": 5
}
