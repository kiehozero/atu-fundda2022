{
 "cells": [
  {
   "cell_type": "markdown",
   "id": "2f86359d",
   "metadata": {},
   "source": [
    "# EXERCISE 4\n",
    "\n",
    "## Task: Plot bar charts of histograms of any three different distributions listed at the following [link](https://numpy.org/doc/stable/reference/random/generator.html#distributions).\n",
    "- essentially we are being asked to replicate the process where we created a standard distribution histogram (or bar chart if it is discrete, as opposed to continuous, data, but with one of the other distributions that we have not yet encountered. Not all of them operate the same way, or use the same parameters, so you'll need to investigate how the three that you choose work rather than just diving in.\n",
    "- pick three, decide whether each is discrete or continuous (so bar vs. histogram), generate some samples, plot it, and give some sort of brief overview of basic explanations you find on google."
   ]
  },
  {
   "cell_type": "code",
   "execution_count": 1,
   "id": "eef0efb0",
   "metadata": {},
   "outputs": [],
   "source": [
    "import matplotlib.pyplot as plt\n",
    "import numpy as np\n",
    "import webbrowser as wp"
   ]
  },
  {
   "cell_type": "markdown",
   "id": "e14243d2",
   "metadata": {},
   "source": [
    "### Distribution 1 - Triangular\n",
    "\n",
    "The triangular distribution is a continuous distribution that accepts three compulsory parameters:\n",
    "\n",
    "    `left` determines the minimum value within the dataset;\n",
    "    `mode` determines the most common value found within the dataset;\n",
    "    `right` determinds the maximum value.\n",
    "    \n",
    "  A fourth parameter, `size` is effectively compulsory as it defaults to 1, with the following result:"
   ]
  },
  {
   "cell_type": "code",
   "execution_count": 2,
   "id": "23b1d9ea",
   "metadata": {},
   "outputs": [
    {
     "data": {
      "image/png": "[encoded data removed]",
      "text/plain": [
       "<Figure size 432x288 with 1 Axes>"
      ]
     },
     "metadata": {
      "needs_background": "light"
     },
     "output_type": "display_data"
    }
   ],
   "source": [
    "rng = np.random.default_rng()\n",
    "vals = rng.triangular(left=-1000,mode=650,right=1000)\n",
    "plt.hist(vals)\n",
    "plt.show()"
   ]
  },
  {
   "cell_type": "markdown",
   "id": "1da91872",
   "metadata": {},
   "source": [
    "As can be seen above, the triangular distribution function returns a single column of data made up of a single number, if `size` is omitted as a parameter. I include this as an example of an error I made in not reading the documentation properly. When included, the below is produced:"
   ]
  },
  {
   "cell_type": "code",
   "execution_count": 24,
   "id": "895f0987",
   "metadata": {},
   "outputs": [
    {
     "data": {
      "image/png": "[encoded data removed]",
      "text/plain": [
       "<Figure size 432x288 with 1 Axes>"
      ]
     },
     "metadata": {
      "needs_background": "light"
     },
     "output_type": "display_data"
    }
   ],
   "source": [
    "left = 0\n",
    "mode = 958\n",
    "right = 1000\n",
    "\n",
    "if decline > incline:\n",
    "    steep = \"mode is closer to left, incline is steeper\"\n",
    "if decline < incline:\n",
    "    steep = \"mode is closer to right, decline is steeper\"\n",
    "else:\n",
    "    steep = \"mode equals median value, incline and decline are the same\"\n",
    "\n",
    "rng = np.random.default_rng()\n",
    "vals = rng.triangular(left=left,mode=mode,right=right,size=100000)\n",
    "plt.hist(vals, bins=1000)\n",
    "plt.title(steep)\n",
    "plt.show()\n"
   ]
  },
  {
   "cell_type": "markdown",
   "id": "301d9bc9",
   "metadata": {},
   "source": [
    "The `mode` parameter effectively acts as a pivot on the shape of the dataset; if the value of `left` subtracted from `mode` is greater than `mode` subtracted from `right`, then a steeper incline will be produced. If the latter value is greater, than a decline that is steeper than the incline will be produced, and if the modal value is also the median value, this is known as [symmetrical triangular distribution](https://en.wikipedia.org/wiki/Triangular_distribution#Symmetric_triangular_distribution)."
   ]
  },
  {
   "cell_type": "code",
   "execution_count": null,
   "id": "e60aef72",
   "metadata": {},
   "outputs": [],
   "source": []
  },
  {
   "cell_type": "markdown",
   "id": "72e2c9a9",
   "metadata": {},
   "source": [
    "### Distribution 2 - Multinomial\n",
    "- Looks discrete? [link](https://medium.com/analytics-vidhya/7-types-of-discrete-probability-distributions-and-their-applications-in-r-ba5e2e263bd5)\n",
    "- Overview\n",
    "- [link](https://numpy.org/doc/stable/reference/random/generated/numpy.random.Generator.multinomial.html#numpy.random.Generator.multinomial)"
   ]
  },
  {
   "cell_type": "code",
   "execution_count": null,
   "id": "03c45477",
   "metadata": {},
   "outputs": [],
   "source": []
  },
  {
   "cell_type": "markdown",
   "id": "b601d82b",
   "metadata": {},
   "source": [
    "### Distribution 3 - Hypergeometric\n",
    "- Discrete? [link](https://medium.com/analytics-vidhya/7-types-of-discrete-probability-distributions-and-their-applications-in-r-ba5e2e263bd5)\n",
    "- Overview\n",
    "- [numPy](https://numpy.org/doc/stable/reference/random/generated/numpy.random.Generator.hypergeometric.html#numpy.random.Generator.hypergeometric)\n",
    "- [Wiki](https://en.wikipedia.org/wiki/Hypergeometric_distribution)"
   ]
  },
  {
   "cell_type": "code",
   "execution_count": null,
   "id": "aefc3903",
   "metadata": {},
   "outputs": [],
   "source": []
  },
  {
   "cell_type": "markdown",
   "id": "669fd348",
   "metadata": {},
   "source": [
    "### Distribution 4 - Chi-Square\n",
    "- continuous\n",
    "- Overview\n",
    " [link](https://numpy.org/doc/stable/reference/random/generated/numpy.random.Generator.chisquare.html)"
   ]
  },
  {
   "cell_type": "code",
   "execution_count": null,
   "id": "55394ef4",
   "metadata": {},
   "outputs": [],
   "source": []
  }
 ],
 "metadata": {
  "kernelspec": {
   "display_name": "Python 3 (ipykernel)",
   "language": "python",
   "name": "python3"
  },
  "language_info": {
   "codemirror_mode": {
    "name": "ipython",
    "version": 3
   },
   "file_extension": ".py",
   "mimetype": "text/x-python",
   "name": "python",
   "nbconvert_exporter": "python",
   "pygments_lexer": "ipython3",
   "version": "3.9.12"
  }
 },
 "nbformat": 4,
 "nbformat_minor": 5
}
