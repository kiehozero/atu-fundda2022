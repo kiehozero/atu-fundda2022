{
 "cells": [
  {
   "cell_type": "markdown",
   "id": "2f86359d",
   "metadata": {},
   "source": [
    "# EXERCISE 4\n",
    "\n",
    "## Task: Plot bar charts of histograms of any three different distributions listed at the following [link](https://numpy.org/doc/stable/reference/random/generator.html#distributions)."
   ]
  },
  {
   "cell_type": "code",
   "execution_count": 1,
   "id": "8f3ab64d",
   "metadata": {},
   "outputs": [],
   "source": [
    "import matplotlib.pyplot as plt\n",
    "import numpy as np\n",
    "import webbrowser as wp"
   ]
  },
  {
   "cell_type": "markdown",
   "id": "e14243d2",
   "metadata": {},
   "source": [
    "### Triangular Distribution\n",
    "\n",
    "The triangular distribution is a continuous distribution that accepts three compulsory parameters:\n",
    "\n",
    "- `left` determines the minimum value within the dataset;\n",
    "- `mode` determines the most common value found within the dataset;\n",
    "- `right` determines the maximum value.\n",
    "    \n",
    "  A fourth parameter, `size` is effectively compulsory as it defaults to 1, with the following result:"
   ]
  },
  {
   "cell_type": "code",
   "execution_count": 2,
   "id": "71147ec2",
   "metadata": {},
   "outputs": [
    {
     "data": {
      "image/png": "[encoded data removed]",
      "text/plain": [
       "<Figure size 432x288 with 1 Axes>"
      ]
     },
     "metadata": {
      "needs_background": "light"
     },
     "output_type": "display_data"
    }
   ],
   "source": [
    "rng = np.random.default_rng()\n",
    "vals = rng.triangular(left=-1000,mode=650,right=1000)\n",
    "plt.hist(vals)\n",
    "plt.show()"
   ]
  },
  {
   "cell_type": "markdown",
   "id": "21bf2c10",
   "metadata": {},
   "source": [
    "As can be seen above, the triangular distribution function returns a single column of data made up of a single number, if `size` is omitted as a parameter. I include this as an example of an error I made in not reading the documentation properly. When included, the below is produced:"
   ]
  },
  {
   "cell_type": "code",
   "execution_count": 3,
   "id": "895f0987",
   "metadata": {},
   "outputs": [
    {
     "data": {
      "image/png": "[encoded data removed]",
      "text/plain": [
       "<Figure size 432x288 with 1 Axes>"
      ]
     },
     "metadata": {
      "needs_background": "light"
     },
     "output_type": "display_data"
    }
   ],
   "source": [
    "# defining the lowest, modal and maximum values of the dataset\n",
    "left = 0\n",
    "mode = 958\n",
    "right = 1000\n",
    "\n",
    "# assigning a variable to the difference between the elements above\n",
    "incline = mode - left\n",
    "decline = right - mode\n",
    "\n",
    "# a loop that works out whether the mode is closer to the minimum or maximum value\n",
    "if decline > incline:\n",
    "    steep = \"mode is closer to left, incline is steeper\"\n",
    "if decline < incline:\n",
    "    steep = \"mode is closer to right, decline is steeper\"\n",
    "else:\n",
    "    steep = \"mode equals median value, incline and decline are the same\"\n",
    "\n",
    "# in this part of the code I've plugged the triangular distribution into sample code provided in the lecture\n",
    "rng = np.random.default_rng()\n",
    "vals = rng.triangular(left=left,mode=mode,right=right,size=100000)\n",
    "plt.hist(vals, bins=1000)\n",
    "# using the output of the loop above to create a title\n",
    "plt.title(steep)\n",
    "plt.show()\n"
   ]
  },
  {
   "cell_type": "markdown",
   "id": "9a015761",
   "metadata": {},
   "source": [
    "The `mode` parameter effectively acts as a pivot on the shape of the dataset; if the value of `left` subtracted from `mode` is greater than `mode` subtracted from `right`, then a steeper incline will be produced. If the latter value is greater, than a decline that is steeper than the incline will be produced, and if the modal value is also the median value, this is known as [symmetrical triangular distribution](https://en.wikipedia.org/wiki/Triangular_distribution#Symmetric_triangular_distribution)."
   ]
  },
  {
   "cell_type": "markdown",
   "id": "72e2c9a9",
   "metadata": {},
   "source": [
    "### Multinomial Distribution\n",
    "The multinomial distribution is a discrete distribution similar to the binomial distribution, but generates experiments with more than two outcomes. The [NumPy documentation](https://numpy.org/doc/stable/reference/random/generated/numpy.random.Generator.multinomial.html) lists a sequence of dice as the classic example of this. The parameters for this function are:\n",
    "\n",
    "- `n`, the number of experiments to perform;\n",
    "- `pvals`, the probability of each outcome occurring;\n",
    "- `size`, the number of times `n` should be repeated.\n",
    "\n",
    "To demonstrate this in a plot, I chose as an example of,\n",
    "\n",
    "    \"if a dice is rolled in 1000 sequences of 10 rolls, how many times would a sequence sum up to a particular value?\"\n",
    "    \n",
    "It took me far too long messing around with loops and lists to achieve this, and there is almost certainly a more efficient way to write this, but it feels beneficial."
   ]
  },
  {
   "cell_type": "code",
   "execution_count": 37,
   "id": "03c45477",
   "metadata": {},
   "outputs": [
    {
     "data": {
      "image/png": "[encoded data removed]",
      "text/plain": [
       "<Figure size 432x288 with 1 Axes>"
      ]
     },
     "metadata": {
      "needs_background": "light"
     },
     "output_type": "display_data"
    }
   ],
   "source": [
    "# this portion of the code is taken from the numPy documentation for binomial distribution to replicate dice rolls\n",
    "rng = np.random.default_rng()\n",
    "# the parameters here translate to: roll a dice ten times, and repeat this 20 times, in which each of the six\n",
    "# outcomes has an equal chance of occurring.\n",
    "arrs = rng.multinomial(10,[1/6.]*6,size=1000)\n",
    "# the loop here is something I came up with by reading through an article by Euan Russano in the README, and then \n",
    "# going off the deep-end. Firstly assigns a count variable to count through the arrays, as well as adding an empty\n",
    "# list to store the sum of each roll in each array. Finally uses an empty list to store total sum of each sequence.\n",
    "count = 0\n",
    "val_by_dot = []\n",
    "sum_of_arr = []\n",
    "\n",
    "for arr in arrs:\n",
    "    # counts through the sequence, assigns a number to each array\n",
    "    count = count + 1\n",
    "    # counts through the array, assigns a number to each roll, resets to zero after each array\n",
    "    count_roll = 0\n",
    "    # list to house values of each sequence\n",
    "    value_array = []\n",
    "    for i in arr:\n",
    "        # adds 1 to roll count\n",
    "        count_roll = count_roll + 1\n",
    "        # multiplies number of rolls by that dice value\n",
    "        value = i * count_roll\n",
    "        value_array.append(value)\n",
    "    # error was here, I added the append inside the roll loop, not the array loop!\n",
    "    val_by_dot.append(value_array)\n",
    "\n",
    "for item in val_by_dot:\n",
    "    item_sum = sum(item)\n",
    "    sum_of_arr.append(item_sum)\n",
    "    \n",
    "# histogram to display the number of times each sum is returned\n",
    "plt.hist(sum_of_arr)\n",
    "plt.show()\n",
    "\n",
    "# Printed below just for various spot checks and tests\n",
    "# print(\"Results of Rolls\")\n",
    "# print(arrs)\n",
    "# print(\"Values by Dot\")\n",
    "# print(val_by_dot)\n",
    "# print(f'Sum of Values: {sum_of_arr}')\n"
   ]
  },
  {
   "cell_type": "markdown",
   "id": "b601d82b",
   "metadata": {},
   "source": [
    "### Chi-Squared Distribution\n",
    "\n",
    "The Chi-Squared Distribution is a continuous distribution that is often used for hypothesis testing. The key component of this distribution is the variable commonly expressed as _k_, which represents the degree of freedom. My limited understanding, derived from a post on [Statistics by Jim](https://statisticsbyjim.com/hypothesis-testing/degrees-freedom-statistics/) is that:\n",
    "\n",
    "    DF encompasses the notion that the amount of independent information you have limits the number of parameters that you can estimate.\n",
    "    \n",
    "I interpret this to mean as introducing complexity into multivariate variables, but I'm at a loss as to how that works when each item I'm plotting is a random scalar values. My best guess is that in the functions below, if the _df_ variable is set at 150, and the _size_ is set at 1000, it means that 850 other items in are constrained to the mean of those 150 'free' values.\n",
    "    \n",
    "In the example below, the `chisquare` function takes in two variables, _df_ and _size_, the latter again being the number of datapoints in the range. The _df_ variable represents the degrees of freedom, a concept I still don't fully understand despite going down a [rabbit hole](https://www.scribbr.com/statistics/chi-square-distributions/) with. I've used the `subplots` function within [matplotlib](https://matplotlib.org/stable/api/_as_gen/matplotlib.pyplot.subplot.html) to express various _df_ values, with the aim of replicating the behaviour of of the initial plots on the [Wikipedia](https://en.wikipedia.org/wiki/Chi-squared_distribution) page, and trying to better understand the degree of freedom concept."
   ]
  },
  {
   "cell_type": "code",
   "execution_count": 36,
   "id": "aefc3903",
   "metadata": {},
   "outputs": [
    {
     "data": {
      "image/png": "[encoded data removed]",
      "text/plain": [
       "<Figure size 432x288 with 4 Axes>"
      ]
     },
     "metadata": {
      "needs_background": "light"
     },
     "output_type": "display_data"
    }
   ],
   "source": [
    "cs_rng = np.random.default_rng()\n",
    "# I set a corresponding range for each degree-of-freedom value\n",
    "cs_val_1 = cs_rng.chisquare(df=1,size=1000)\n",
    "cs_val_9 = cs_rng.chisquare(df=9,size=1000)\n",
    "cs_val_59 = cs_rng.chisquare(df=59,size=1000)\n",
    "cs_val_850 = cs_rng.chisquare(df=850,size=1000)\n",
    "\n",
    "# the subplot function creates a grid using the first two parameters as the number of rows and columns in that grid,\n",
    "# the final parameter states which subplot within the grid the following plot occupies, starting from the top-left (1)\n",
    "# and ending at bottom-right (4).\n",
    "plt.subplot(2,2,1)\n",
    "plt.hist(cs_val_1)\n",
    "plt.subplot(2,2,2)\n",
    "plt.hist(cs_val_5)\n",
    "plt.subplot(2,2,3)\n",
    "plt.hist(cs_val_59)\n",
    "plt.subplot(2,2,4)\n",
    "plt.hist(cs_val_850)\n",
    "plt.show()\n"
   ]
  },
  {
   "cell_type": "markdown",
   "id": "50a0d6a0",
   "metadata": {},
   "source": [
    "### Ending Notes\n",
    "\n",
    "I abandoned attempts at plotting the hypergeometric, Pareto and Zipf's distributions as I was missing some understanding of how the functions worked with randomly-generated data. I'll be revisiting this in a separate notebook outside of this exercise file to try and get to grips with how these functions work."
   ]
  },
  {
   "cell_type": "code",
   "execution_count": null,
   "id": "c016ab39",
   "metadata": {},
   "outputs": [],
   "source": []
  }
 ],
 "metadata": {
  "kernelspec": {
   "display_name": "Python 3 (ipykernel)",
   "language": "python",
   "name": "python3"
  },
  "language_info": {
   "codemirror_mode": {
    "name": "ipython",
    "version": 3
   },
   "file_extension": ".py",
   "mimetype": "text/x-python",
   "name": "python",
   "nbconvert_exporter": "python",
   "pygments_lexer": "ipython3",
   "version": "3.9.12"
  }
 },
 "nbformat": 4,
 "nbformat_minor": 5
}
