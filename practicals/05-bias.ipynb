{
 "cells": [
  {
   "cell_type": "markdown",
   "id": "a891518c",
   "metadata": {},
   "source": [
    "# EXERCISE 5a - Cognitive Bias\n",
    "\n",
    "## Give three real-world examples of different types of cognitive bias."
   ]
  },
  {
   "cell_type": "markdown",
   "id": "5a3432b9",
   "metadata": {},
   "source": [
    "# EXERCISE 5b - Standard Deviation\n",
    "\n",
    "## Show that the difference between the standard deviation calculations is greatest for small sample sizes.\n"
   ]
  }
 ],
 "metadata": {
  "kernelspec": {
   "display_name": "Python 3 (ipykernel)",
   "language": "python",
   "name": "python3"
  },
  "language_info": {
   "codemirror_mode": {
    "name": "ipython",
    "version": 3
   },
   "file_extension": ".py",
   "mimetype": "text/x-python",
   "name": "python",
   "nbconvert_exporter": "python",
   "pygments_lexer": "ipython3",
   "version": "3.9.12"
  }
 },
 "nbformat": 4,
 "nbformat_minor": 5
}
