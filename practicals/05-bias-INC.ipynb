{
 "cells": [
  {
   "cell_type": "markdown",
   "id": "a891518c",
   "metadata": {},
   "source": [
    "# EXERCISE 5a - Cognitive Bias\n",
    "\n",
    "## Give three real-world examples of different types of cognitive bias.\n",
    "\n",
    "![link](https://img.rasset.ie/000f3659-1600.jpg)\n",
    "\n",
    "<b>The National Lottery</b> - Every week since the early 1990s my dad has picked the same lottery numbers: 6, 13, 17, 21, 32 and 44. He buys his ticket on Saturday evening about an hour before the cut-off ahead of the draw. The only thing more likely than those numbers not coming up is my mum asking why he bothers, and the reply that the one week he doesn't do it is when his numbers will come out. Of course, any combination of numbers is equally likely to arise, but if he did not get a ticket, and if the numbers did indeed come out, no amount of discussion with either a statistician or his subsequent prison psychologist would persuade him otherwise. My dad mistakenly believes that the numbers he picked, a combination of ages and birthdays, has an outsized significance compared to any other set of numbers, and that they therefore have a greater chance of being picked together.\n",
    "\n",
    "![link](https://upload.wikimedia.org/wikipedia/commons/thumb/b/b2/Survivorship-bias.svg/1280px-Survivorship-bias.svg.png)\n",
    "\n",
    "<b>Survivorship bias</b> - Abraham Wald worked in a research group at Columbia University in New York, tasked with helping the American military minimise losses on bombing runs. Wald's group was tasked with working out the optimum amount and location of armour on these planes, without over-exposing them either through under-protection or by slowing them down with too much weight. The image above displays the areas most impacted by enemy ammunition on returning aircraft, and the image below, taken from an article by Jordan Ellenberg on [Medium](https://miro.medium.com/max/1400/1*p5OvFPF077pgTh7ccEkfVw.jpeg), displays the initial dataset that the US Air Force provided:\n",
    "\n",
    "![link](https://miro.medium.com/max/1400/1*p5OvFPF077pgTh7ccEkfVw.jpeg)\n",
    "\n",
    "The intuition of the military officers was to add armour in the most impacted areas. Wald pointed out that it was unlikely that the Axis gunners were so accurate from a couple of thousand feet below to never hit the engines, and recommended instead that the dataset was fundamentally incomplete; the chance of a plane surviving a hit to the engine or the fuel lines were low enough that it had impacted the data they had collected.\n",
    "\n",
    "<b>The appeal to nature</b> - I used to work for a retail company and we would be bombarded by new products being launched that had any number of vague or unverifiable claims on: things were \"environmentally-friendly\", \"biodegradable\" (even uranium is biodegradable on a long-enough timeline!) or simply \"natural\". Many of the people launching these products are smart enough to know that labels like 'organic', 'free-range' or 'compostable' have hefty regulatory rules behind them, but a word like \"natural\" can be used to mean just about anything. I found an article in [Behavioural Scientist](https://behavioralscientist.org/natural-is-better-how-the-naturalistic-fallacy-derails-public-health/) that fairly well summarised the topic and was co-authored by none other than Dan Ariely. The appeal to nature is rooted in the idea that anything natural is positive, and in the article, Ariely <i>et al</i> explain how this as affected covid vaccination surveys, admitting that their shock at:\n",
    "\n",
    "    \"...how often individuals endorsed the belief that vaccination is unnecessary because the body’s “natural defenses” would do a better job at protecting it from infections.\"\n",
    "    \n",
    "Despite vaccination programs effectively ending diseases like smallpox and polio, anti-vaccination advocates have often harnessed the appeal to nature fallacy, and supported it with a host of specious research, as opposed to the rigid scientific kind, to discourage vaccination. It can be a very powerful device as it aims to take any sort of appeal to scientific reasoning or progress out of the terms of the debate."
   ]
  },
  {
   "cell_type": "markdown",
   "id": "5a3432b9",
   "metadata": {},
   "source": [
    "# EXERCISE 5b - Bessel's Correction\n",
    "\n",
    "## Show that the difference between the standard deviation calculations is greatest for small sample sizes.\n",
    "\n",
    "- Ian: \"why is Bessel's correction bigger for smaller sample sizes?\"\n",
    "\n",
    "From other module:\n",
    "\n",
    "[this](https://www.youtube.com/watch?v=KkaU2ur3Ymw) video.\n",
    "\n",
    "N-1 produces a smaller number than N alone, so will produce a higher average value. In the video above he also mentions how, if you take a smaller sample size, the chances are higher that the variance of the sample is actually quite far away from the true variance (use the $\\sigma$ sign in Latex here). When Ian first went through distributions, in the smaller datasets the distribution 'pattern' would only emerge in larger datasets, e.g. a normally-distributed dataset of say 10 values barely looks like a bell curve at all.\n",
    "\n",
    "Once you've sorted this explanation out, copy it into the Bias notebook for the other module.\n",
    "\n",
    "The basic plan here is to roughly replicate the explanation in Ian's file but with a different sample size, one large and one small; use the same max and min values, just a smaller set, but with the same normal distribution.\n",
    "\n",
    "## Larger sample"
   ]
  },
  {
   "cell_type": "code",
   "execution_count": 51,
   "id": "300b58b3",
   "metadata": {},
   "outputs": [
    {
     "data": {
      "text/plain": [
       "array([[ 2.33861282, -0.99724826,  0.5567633 , ..., -0.09806063,\n",
       "         2.27486894,  2.86364647],\n",
       "       [ 0.50551852,  1.55185652, -4.85185834, ..., -0.02325198,\n",
       "        -0.27275524, -1.66398135],\n",
       "       [ 2.40158616,  3.1873259 , -1.50005531, ..., -0.53918862,\n",
       "         4.40907009, -1.60367762],\n",
       "       ...,\n",
       "       [-2.68287749, -0.11567111,  0.59469556, ..., -1.89278416,\n",
       "         0.77857136, -0.36813313],\n",
       "       [ 0.97489894, -1.72713449, -6.84241956, ..., -6.19164091,\n",
       "         3.53222032, -5.47844052],\n",
       "       [-1.38382707,  3.20348657, -3.1025123 , ...,  0.20891339,\n",
       "        -6.22434871, -1.22779381]])"
      ]
     },
     "execution_count": 51,
     "metadata": {},
     "output_type": "execute_result"
    }
   ],
   "source": [
    "# I've re-used the code here from Ian's notebooks and changed the parameters \n",
    "# accordingly, to display one larger sample and one smaller sample\n",
    "\n",
    "import matplotlib.pyplot as plt\n",
    "import numpy as np\n",
    "# Create 100000 samples of size 10 - standard deviation is 3.0 and the mean is 0.0.\n",
    "samp_lg = np.random.normal(0.0, 3.0, (1000000, 10))\n",
    "samp_lg"
   ]
  },
  {
   "cell_type": "code",
   "execution_count": 58,
   "id": "6f85d52c",
   "metadata": {},
   "outputs": [
    {
     "data": {
      "image/png": "[encoded data removed]",
      "text/plain": [
       "<Figure size 864x432 with 1 Axes>"
      ]
     },
     "metadata": {
      "needs_background": "light"
     },
     "output_type": "display_data"
    }
   ],
   "source": [
    "# Calculate standard deviation without correction.\n",
    "# SS - the axis parameter defines how to bin the process, so an axis of zero would produce the mean per column, while \n",
    "# an axis of 1 produces 1 mean per row. The default of blank just produces a mean for the entire 1000 x 1000 array: \n",
    "# https://www.geeksforgeeks.org/numpy-mean-in-python/\n",
    "# in this case the axis parameter reduces the total number of samples from 500,000 (an array of 5 random items, repeated\n",
    "# 100,000 times, down to an average of each of those repetitions).\n",
    "stdev_lg = samp_lg.std(axis=1)\n",
    "\n",
    "fig, ax = plt.subplots(figsize=(12, 6))\n",
    "\n",
    "plt.hist(stdev_lg,bins=100)\n",
    "\n",
    "plt.axvline(x=3.0, color='y');"
   ]
  },
  {
   "cell_type": "code",
   "execution_count": 59,
   "id": "55f245bf",
   "metadata": {},
   "outputs": [
    {
     "data": {
      "text/plain": [
       "9.004081599185852"
      ]
     },
     "execution_count": 59,
     "metadata": {},
     "output_type": "execute_result"
    }
   ],
   "source": [
    "# Uncorrected variance.\n",
    "np.mean(np.square(samp_lg - np.mean(samp_lg)))"
   ]
  },
  {
   "cell_type": "code",
   "execution_count": 60,
   "id": "c03f810c",
   "metadata": {},
   "outputs": [
    {
     "data": {
      "text/plain": [
       "9.004090603276456"
      ]
     },
     "execution_count": 60,
     "metadata": {},
     "output_type": "execute_result"
    }
   ],
   "source": [
    "# Corrected variance.\n",
    "np.mean(np.square(samp_lg - np.mean(samp_lg))) * (len(samp_lg) / (len(samp_lg) - 1.0))"
   ]
  },
  {
   "cell_type": "markdown",
   "id": "56fc0668",
   "metadata": {},
   "source": [
    "# Smaller sample"
   ]
  },
  {
   "cell_type": "code",
   "execution_count": 61,
   "id": "5aabf699",
   "metadata": {},
   "outputs": [
    {
     "data": {
      "image/png": "[encoded data removed]",
      "text/plain": [
       "<Figure size 864x432 with 1 Axes>"
      ]
     },
     "metadata": {
      "needs_background": "light"
     },
     "output_type": "display_data"
    }
   ],
   "source": [
    "# Uses the same mean and variance, but reduces the sample size\n",
    "samp_sm = np.random.normal(0.0, 3.0, (100, 5))\n",
    "stdev_sm = samp_sm.std(axis=1)\n",
    "\n",
    "fig, ax = plt.subplots(figsize=(12, 6))\n",
    "\n",
    "plt.hist(stdev_sm,bins=100)\n",
    "\n",
    "plt.axvline(x=3.0, color='y');"
   ]
  },
  {
   "cell_type": "code",
   "execution_count": 56,
   "id": "a47c9b15",
   "metadata": {},
   "outputs": [
    {
     "data": {
      "text/plain": [
       "8.807437965674216"
      ]
     },
     "execution_count": 56,
     "metadata": {},
     "output_type": "execute_result"
    }
   ],
   "source": [
    "# Uncorrected variance.\n",
    "np.mean(np.square(samp_sm - np.mean(samp_sm)))"
   ]
  },
  {
   "cell_type": "code",
   "execution_count": 57,
   "id": "47678829",
   "metadata": {},
   "outputs": [
    {
     "data": {
      "text/plain": [
       "8.896401985529511"
      ]
     },
     "execution_count": 57,
     "metadata": {},
     "output_type": "execute_result"
    }
   ],
   "source": [
    "# Corrected variance.\n",
    "np.mean(np.square(samp_sm - np.mean(samp_sm))) * (len(samp_sm) / (len(samp_sm) - 1.0))"
   ]
  },
  {
   "cell_type": "code",
   "execution_count": null,
   "id": "103f0e48",
   "metadata": {},
   "outputs": [],
   "source": []
  }
 ],
 "metadata": {
  "kernelspec": {
   "display_name": "Python 3 (ipykernel)",
   "language": "python",
   "name": "python3"
  },
  "language_info": {
   "codemirror_mode": {
    "name": "ipython",
    "version": 3
   },
   "file_extension": ".py",
   "mimetype": "text/x-python",
   "name": "python",
   "nbconvert_exporter": "python",
   "pygments_lexer": "ipython3",
   "version": "3.9.12"
  }
 },
 "nbformat": 4,
 "nbformat_minor": 5
}
