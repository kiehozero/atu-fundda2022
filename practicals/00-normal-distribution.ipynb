{
 "cells": [
  {
   "cell_type": "markdown",
   "id": "f094cc2c",
   "metadata": {},
   "source": [
    "# Normal Distribution\n",
    "\n",
    "### Task: Create a notebook about the normal distribution. Define and explain the main concepts. Pitch the notebook at your classmates. Use visuals like plots to explain concepts."
   ]
  },
  {
   "cell_type": "markdown",
   "id": "e12daa00",
   "metadata": {},
   "source": [
    "$$f(x) = \\frac{1}{\\sigma \\sqrt{2\\pi} } e^{-\\frac{1}{2}\\left(\\frac{x-\\mu}{\\sigma}\\right)^2}$$"
   ]
  },
  {
   "cell_type": "markdown",
   "id": "a6ec5f53",
   "metadata": {},
   "source": [
    "https://www.britannica.com/topic/normal-distribution\n",
    "\n",
    "https://www.mathsisfun.com/data/standard-normal-distribution.html\n",
    "\n",
    "https://statisticsbyjim.com/basics/normal-distribution/\n",
    "\n",
    "https://www.techtarget.com/whatis/definition/normal-distribution\n",
    "\n",
    "https://www.scribbr.com/statistics/normal-distribution/\n",
    "\n",
    "https://www.khanacademy.org/math/statistics-probability/modeling-distributions-of-data/normal-distributions-library/a/normal-distributions-review\n",
    "\n",
    "https://mathworld.wolfram.com/NormalDistribution.html"
   ]
  },
  {
   "cell_type": "code",
   "execution_count": 1,
   "id": "73c890a4",
   "metadata": {},
   "outputs": [],
   "source": [
    "import numpy as np"
   ]
  },
  {
   "cell_type": "code",
   "execution_count": 2,
   "id": "0764fe67",
   "metadata": {},
   "outputs": [
    {
     "data": {
      "text/plain": [
       "1.6649674307674467"
      ]
     },
     "execution_count": 2,
     "metadata": {},
     "output_type": "execute_result"
    }
   ],
   "source": [
    "np.random.normal()"
   ]
  },
  {
   "cell_type": "markdown",
   "id": "cf5dc4c6",
   "metadata": {},
   "source": [
    "“A normal distribution is sometimes informally called a bell curve.[4] However, many other distributions are bell-shaped (such as the Cauchy, Student's t, and logistic distributions). For other names, see Naming.” - https://en.wikipedia.org/wiki/Normal_distribution\n",
    "\n",
    "“While the normal distribution is symmetrical, not all symmetrical distributions are normal. For example, the Student’s t, Cauchy, and logistic distributions are symmetric.” - https://statisticsbyjim.com/basics/normal-distribution/\n",
    "\n",
    "Above link also contains a section called “Population Parameters Versus Sample Estimates”, which is an explanation of the fact that you can’t always know the exact mean or standard deviation, meaning you have to estimate these. From this you can go into a section on Bessel’s correction\n",
    "\n",
    "“The graph of the normal distribution is characterized by two parameters: the mean, or average, which is the maximum of the graph and about which the graph is always symmetric; and the standard deviation, which determines the amount of dispersion away from the mean” - https://www.britannica.com/topic/normal-distribution\n",
    "\n",
    "Display the operation of the normal distribution but displaying multiple distributions on the same plot, but changing the mean and standard deviation accordingly \n",
    "\n",
    "Funnily enough, this advert came up while I was researching at https://statisticsbyjim.com/basics/normal-distribution/:\n",
    "\n",
    "![image](norm-dist-ad.png)\n",
    "\n",
    "https://www.youtube.com/watch?v=rzFX5NWojp0\n",
    "\n",
    "https://www.youtube.com/watch?v=xI9ZHGOSaCg\n",
    "\n",
    "https://www.itl.nist.gov/div898/handbook/eda/section3/eda3661.htm\n",
    "\n",
    "https://www.investopedia.com/terms/n/normaldistribution.asp"
   ]
  },
  {
   "cell_type": "code",
   "execution_count": null,
   "id": "50ae02f9",
   "metadata": {},
   "outputs": [],
   "source": []
  }
 ],
 "metadata": {
  "kernelspec": {
   "display_name": "Python 3 (ipykernel)",
   "language": "python",
   "name": "python3"
  },
  "language_info": {
   "codemirror_mode": {
    "name": "ipython",
    "version": 3
   },
   "file_extension": ".py",
   "mimetype": "text/x-python",
   "name": "python",
   "nbconvert_exporter": "python",
   "pygments_lexer": "ipython3",
   "version": "3.9.12"
  }
 },
 "nbformat": 4,
 "nbformat_minor": 5
}
