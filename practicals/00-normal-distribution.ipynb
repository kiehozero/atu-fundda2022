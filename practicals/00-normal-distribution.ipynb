{
 "cells": [
  {
   "cell_type": "markdown",
   "id": "f094cc2c",
   "metadata": {},
   "source": [
    "# Normal Distribution\n",
    "\n",
    "### Define and explain the main concepts, written in language that a fellow student could understand\n",
    "### Use plots for explaining the key concepts"
   ]
  },
  {
   "cell_type": "markdown",
   "id": "e12daa00",
   "metadata": {},
   "source": [
    "$$ e^\\frac{1}{2}$$"
   ]
  },
  {
   "cell_type": "markdown",
   "id": "a6ec5f53",
   "metadata": {},
   "source": [
    "You can add the above information by using a system called LaTeX, which is achieved by surrounding the text with double-dollar signs ($$). This is part of the function that is listed on the Wiki for normal distribution as the PDF function at the top right of the page."
   ]
  },
  {
   "cell_type": "code",
   "execution_count": 1,
   "id": "73c890a4",
   "metadata": {},
   "outputs": [],
   "source": [
    "import numpy as np"
   ]
  },
  {
   "cell_type": "code",
   "execution_count": 2,
   "id": "0764fe67",
   "metadata": {},
   "outputs": [
    {
     "data": {
      "text/plain": [
       "1.6649674307674467"
      ]
     },
     "execution_count": 2,
     "metadata": {},
     "output_type": "execute_result"
    }
   ],
   "source": [
    "np.random.normal()"
   ]
  },
  {
   "cell_type": "code",
   "execution_count": null,
   "id": "d8cc60c0",
   "metadata": {},
   "outputs": [],
   "source": []
  }
 ],
 "metadata": {
  "kernelspec": {
   "display_name": "Python 3 (ipykernel)",
   "language": "python",
   "name": "python3"
  },
  "language_info": {
   "codemirror_mode": {
    "name": "ipython",
    "version": 3
   },
   "file_extension": ".py",
   "mimetype": "text/x-python",
   "name": "python",
   "nbconvert_exporter": "python",
   "pygments_lexer": "ipython3",
   "version": "3.9.12"
  }
 },
 "nbformat": 4,
 "nbformat_minor": 5
}
