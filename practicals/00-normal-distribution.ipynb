{
 "cells": [
  {
   "cell_type": "markdown",
   "id": "f094cc2c",
   "metadata": {},
   "source": [
    "# Normal Distribution\n",
    "\n",
    "### Task: Create a notebook about the normal distribution. Define and explain the main concepts. Pitch the notebook at your classmates. Use visuals like plots to explain concepts."
   ]
  },
  {
   "cell_type": "markdown",
   "id": "e12daa00",
   "metadata": {},
   "source": [
    "$$f(x) = \\frac{1}{\\sigma \\sqrt{2\\pi} } e^{-\\frac{1}{2}\\left(\\frac{x-\\mu}{\\sigma}\\right)^2}$$"
   ]
  },
  {
   "cell_type": "markdown",
   "id": "a6ec5f53",
   "metadata": {},
   "source": [
    "https://www.britannica.com/topic/normal-distribution\n",
    "\n",
    "https://www.mathsisfun.com/data/standard-normal-distribution.html\n",
    "\n",
    "https://statisticsbyjim.com/basics/normal-distribution/\n",
    "\n",
    "https://www.techtarget.com/whatis/definition/normal-distribution\n",
    "\n",
    "https://www.scribbr.com/statistics/normal-distribution/\n",
    "\n",
    "https://www.khanacademy.org/math/statistics-probability/modeling-distributions-of-data/normal-distributions-library/a/normal-distributions-review\n",
    "\n",
    "https://mathworld.wolfram.com/NormalDistribution.html"
   ]
  },
  {
   "cell_type": "code",
   "execution_count": 1,
   "id": "73c890a4",
   "metadata": {},
   "outputs": [],
   "source": [
    "import numpy as np"
   ]
  },
  {
   "cell_type": "code",
   "execution_count": 2,
   "id": "0764fe67",
   "metadata": {},
   "outputs": [
    {
     "data": {
      "text/plain": [
       "1.6649674307674467"
      ]
     },
     "execution_count": 2,
     "metadata": {},
     "output_type": "execute_result"
    }
   ],
   "source": [
    "np.random.normal()"
   ]
  },
  {
   "cell_type": "code",
   "execution_count": null,
   "id": "d8cc60c0",
   "metadata": {},
   "outputs": [],
   "source": []
  }
 ],
 "metadata": {
  "kernelspec": {
   "display_name": "Python 3 (ipykernel)",
   "language": "python",
   "name": "python3"
  },
  "language_info": {
   "codemirror_mode": {
    "name": "ipython",
    "version": 3
   },
   "file_extension": ".py",
   "mimetype": "text/x-python",
   "name": "python",
   "nbconvert_exporter": "python",
   "pygments_lexer": "ipython3",
   "version": "3.9.12"
  }
 },
 "nbformat": 4,
 "nbformat_minor": 5
}
