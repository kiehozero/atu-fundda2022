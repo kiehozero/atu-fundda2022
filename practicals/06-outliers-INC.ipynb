{
 "cells": [
  {
   "cell_type": "markdown",
   "id": "b475a76e",
   "metadata": {},
   "source": [
    "## Exercise 1\n",
    "\n",
    "Create box plots on a single set of axes for all five experiments in the morley data set.\n",
    "\n",
    "[Wiki](https://en.wikipedia.org/wiki/Box_plot) [G4G](https://www.geeksforgeeks.org/box-plot-in-python-using-matplotlib/) [Matplot](https://matplotlib.org/stable/api/_as_gen/matplotlib.pyplot.boxplot.html)"
   ]
  },
  {
   "cell_type": "code",
   "execution_count": 2,
   "id": "66d01b5f",
   "metadata": {},
   "outputs": [],
   "source": [
    "import matplotlib.pyplot as plt\n",
    "import pandas as pd"
   ]
  },
  {
   "cell_type": "code",
   "execution_count": 14,
   "id": "2817baa3",
   "metadata": {
    "scrolled": true
   },
   "outputs": [
    {
     "data": {
      "text/html": [
       "<div>\n",
       "<style scoped>\n",
       "    .dataframe tbody tr th:only-of-type {\n",
       "        vertical-align: middle;\n",
       "    }\n",
       "\n",
       "    .dataframe tbody tr th {\n",
       "        vertical-align: top;\n",
       "    }\n",
       "\n",
       "    .dataframe thead th {\n",
       "        text-align: right;\n",
       "    }\n",
       "</style>\n",
       "<table border=\"1\" class=\"dataframe\">\n",
       "  <thead>\n",
       "    <tr style=\"text-align: right;\">\n",
       "      <th></th>\n",
       "      <th>Expt</th>\n",
       "      <th>Run</th>\n",
       "      <th>Speed</th>\n",
       "    </tr>\n",
       "  </thead>\n",
       "  <tbody>\n",
       "    <tr>\n",
       "      <th>0</th>\n",
       "      <td>1</td>\n",
       "      <td>1</td>\n",
       "      <td>850</td>\n",
       "    </tr>\n",
       "    <tr>\n",
       "      <th>1</th>\n",
       "      <td>1</td>\n",
       "      <td>2</td>\n",
       "      <td>740</td>\n",
       "    </tr>\n",
       "    <tr>\n",
       "      <th>2</th>\n",
       "      <td>1</td>\n",
       "      <td>3</td>\n",
       "      <td>900</td>\n",
       "    </tr>\n",
       "    <tr>\n",
       "      <th>3</th>\n",
       "      <td>1</td>\n",
       "      <td>4</td>\n",
       "      <td>1070</td>\n",
       "    </tr>\n",
       "    <tr>\n",
       "      <th>4</th>\n",
       "      <td>1</td>\n",
       "      <td>5</td>\n",
       "      <td>930</td>\n",
       "    </tr>\n",
       "    <tr>\n",
       "      <th>...</th>\n",
       "      <td>...</td>\n",
       "      <td>...</td>\n",
       "      <td>...</td>\n",
       "    </tr>\n",
       "    <tr>\n",
       "      <th>95</th>\n",
       "      <td>5</td>\n",
       "      <td>16</td>\n",
       "      <td>940</td>\n",
       "    </tr>\n",
       "    <tr>\n",
       "      <th>96</th>\n",
       "      <td>5</td>\n",
       "      <td>17</td>\n",
       "      <td>950</td>\n",
       "    </tr>\n",
       "    <tr>\n",
       "      <th>97</th>\n",
       "      <td>5</td>\n",
       "      <td>18</td>\n",
       "      <td>800</td>\n",
       "    </tr>\n",
       "    <tr>\n",
       "      <th>98</th>\n",
       "      <td>5</td>\n",
       "      <td>19</td>\n",
       "      <td>810</td>\n",
       "    </tr>\n",
       "    <tr>\n",
       "      <th>99</th>\n",
       "      <td>5</td>\n",
       "      <td>20</td>\n",
       "      <td>870</td>\n",
       "    </tr>\n",
       "  </tbody>\n",
       "</table>\n",
       "<p>100 rows × 3 columns</p>\n",
       "</div>"
      ],
      "text/plain": [
       "    Expt  Run  Speed\n",
       "0      1    1    850\n",
       "1      1    2    740\n",
       "2      1    3    900\n",
       "3      1    4   1070\n",
       "4      1    5    930\n",
       "..   ...  ...    ...\n",
       "95     5   16    940\n",
       "96     5   17    950\n",
       "97     5   18    800\n",
       "98     5   19    810\n",
       "99     5   20    870\n",
       "\n",
       "[100 rows x 3 columns]"
      ]
     },
     "execution_count": 14,
     "metadata": {},
     "output_type": "execute_result"
    }
   ],
   "source": [
    "mor = pd.DataFrame(pd.read_csv('morley.csv'))\n",
    "mor"
   ]
  },
  {
   "cell_type": "code",
   "execution_count": 69,
   "id": "4ddcc128",
   "metadata": {},
   "outputs": [
    {
     "data": {
      "image/png": "[encoded data removed]",
      "text/plain": [
       "<Figure size 432x288 with 1 Axes>"
      ]
     },
     "metadata": {
      "needs_background": "light"
     },
     "output_type": "display_data"
    }
   ],
   "source": [
    "# create datasets for each experiment number. I found the code for filtering DataFrames on the GeeksForGeeks \n",
    "# page in the README, and the loop to create variables in the StackOverflow link.\n",
    "spds = {}\n",
    "\n",
    "# look through numbers 1 to 5, and create a seperate dictionary item for \n",
    "for i in range(1, 6):\n",
    "    spds[i] = mor[mor['Expt'] == i]['Speed']\n",
    "    # print(e[i])\n",
    "    \n",
    "# code adapted from Ian's tutorial\n",
    "plt.boxplot(np.array([spds[1],spds[2],spds[3],spds[4],spds[5]]).T)\n",
    "plt.show()"
   ]
  },
  {
   "cell_type": "markdown",
   "id": "1fdfe10f",
   "metadata": {},
   "source": [
    "## Exercise 2\n",
    "\n",
    "Create box plots for all of the numerical variables in Fisher's Iris data set."
   ]
  },
  {
   "cell_type": "code",
   "execution_count": 120,
   "id": "8052cad8",
   "metadata": {},
   "outputs": [
    {
     "name": "stdout",
     "output_type": "stream",
     "text": [
      "PL: 1.0 to 6.9 PW: 0.1 to 2.5 SL: 4.3 to 7.9 SW: 2.0 to 4.4\n"
     ]
    },
    {
     "name": "stderr",
     "output_type": "stream",
     "text": [
      "C:\\Users\\stuar\\AppData\\Local\\Temp\\ipykernel_20640\\1545471704.py:17: UserWarning: FixedFormatter should only be used together with FixedLocator\n",
      "  ax.set_yticklabels(['petal length', 'petal width','sepal length', 'sepal width'])\n"
     ]
    },
    {
     "data": {
      "image/png": "[encoded data removed]",
      "text/plain": [
       "<Figure size 720x504 with 1 Axes>"
      ]
     },
     "metadata": {
      "needs_background": "light"
     },
     "output_type": "display_data"
    }
   ],
   "source": [
    "# following the GeeksForGeeks tutorial linked in the README\n",
    "iris = pd.DataFrame(pd.read_csv('iris.csv'))\n",
    "# separate each column into a list\n",
    "pl = iris['petal_length']\n",
    "pw = iris['petal_width']\n",
    "sl = iris['sepal_length']\n",
    "sw = iris['sepal_width']\n",
    "\n",
    "data = [pl,pw,sl,sw]\n",
    "\n",
    "fig = plt.figure(figsize=(10, 7))\n",
    "\n",
    "# Creating axes instance\n",
    "ax = fig.add_axes([0,0,1,1])\n",
    "\n",
    "# replaces labes\n",
    "ax.set_yticklabels(['petal length', 'petal width','sepal length', 'sepal width'])\n",
    "\n",
    "# vert parameter turns the plot on its side\n",
    "ax.boxplot(data, vert=0);\n",
    "# testing just to make sure the correct label is attached to the correct plot\n",
    "print(\n",
    "    \"PL:\", pl.min(), \"to\", pl.max(), \n",
    "    \"PW:\", pw.min(), \"to\", pw.max(), \n",
    "    \"SL:\", sl.min(), \"to\", sl.max(), \n",
    "    \"SW:\", sw.min(), \"to\", sw.max())"
   ]
  },
  {
   "cell_type": "markdown",
   "id": "3852a0be",
   "metadata": {},
   "source": [
    "## Exercise 3\n",
    "\n",
    "Adapt the above code and plots so that the overall plot is inversely propertional and the individual groups are directly proportional."
   ]
  },
  {
   "cell_type": "code",
   "execution_count": null,
   "id": "ab8c918a",
   "metadata": {},
   "outputs": [],
   "source": []
  }
 ],
 "metadata": {
  "kernelspec": {
   "display_name": "Python 3 (ipykernel)",
   "language": "python",
   "name": "python3"
  },
  "language_info": {
   "codemirror_mode": {
    "name": "ipython",
    "version": 3
   },
   "file_extension": ".py",
   "mimetype": "text/x-python",
   "name": "python",
   "nbconvert_exporter": "python",
   "pygments_lexer": "ipython3",
   "version": "3.9.12"
  }
 },
 "nbformat": 4,
 "nbformat_minor": 5
}
