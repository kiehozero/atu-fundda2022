{
 "cells": [
  {
   "cell_type": "markdown",
   "id": "7d854cc3",
   "metadata": {},
   "source": [
    "## Exercise\n",
    "\n",
    "### Explain why the log of zero is undefined.\n",
    "\n",
    "[link](https://www.youtube.com/watch?v=IPkRVpXtbdY)\n",
    "\n",
    "Use the file Bilsborough sent you and remember to credit him and include it in your repo! https://www.nist.gov/system/files/documents/2017/11/30/nce.pdf"
   ]
  }
 ],
 "metadata": {
  "kernelspec": {
   "display_name": "Python 3 (ipykernel)",
   "language": "python",
   "name": "python3"
  },
  "language_info": {
   "codemirror_mode": {
    "name": "ipython",
    "version": 3
   },
   "file_extension": ".py",
   "mimetype": "text/x-python",
   "name": "python",
   "nbconvert_exporter": "python",
   "pygments_lexer": "ipython3",
   "version": "3.9.12"
  }
 },
 "nbformat": 4,
 "nbformat_minor": 5
}
