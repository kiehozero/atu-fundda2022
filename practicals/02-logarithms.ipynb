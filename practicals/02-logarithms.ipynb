{
 "cells": [
  {
   "cell_type": "markdown",
   "id": "7c28332f",
   "metadata": {},
   "source": [
    "# Exercise 2\n",
    "\n",
    "## Explain why the log of zero is undefined.\n",
    "\n",
    "In the lecture series, Ian demonstrated using fire alarms that while the result of a logarithm can approach very close to zero, it can never be zero. This is demonstrated most simply on [Wikipedia](https://en.wikipedia.org/wiki/Logarithm#Graph_of_the_logarithm_function) using this graph:\n",
    "\n",
    "![image](https://upload.wikimedia.org/wikipedia/commons/4/49/Logarithm_inversefunctiontoexp.svg)\n",
    "\n",
    "The [Vedantu](https://www.vedantu.com/maths/value-of-log-0) website defines the logarithmic function as:\n",
    "\n",
    "    \"...how much the base of the b must be raised to meet the exponent of the number x. In simple terms, the logarithm counts how many times the same factor occurs in the repeated multiplication.\"\n",
    "\n",
    "In more simple terms, TED-Ed's [Steve Kelly](https://www.youtube.com/watch?v=zzu2POfYv0Y) notes:\n",
    "\n",
    "    \"The base raised to the power equals the number\"\n",
    "\n",
    "In the case of the Vedantu example, the base is <i>a</i>, the power is <i>b</i> and the number <i>x</i>.\n"
   ]
  },
  {
   "cell_type": "code",
   "execution_count": 2,
   "id": "24ddd483",
   "metadata": {},
   "outputs": [],
   "source": [
    "import math"
   ]
  },
  {
   "cell_type": "markdown",
   "id": "1588a0b8",
   "metadata": {},
   "source": [
    "The problem here is best demonstrated by simply running the `log` function from Python's math library. As stated in the [W3Schools](https://www.w3schools.com/python/ref_math_log.asp) tutorial:\n",
    "\n",
    "    If the value is 0 or a negative number, it returns a ValueError."
   ]
  },
  {
   "cell_type": "code",
   "execution_count": 2,
   "id": "9ac888e6",
   "metadata": {},
   "outputs": [
    {
     "ename": "ValueError",
     "evalue": "math domain error",
     "output_type": "error",
     "traceback": [
      "\u001b[1;31m---------------------------------------------------------------------------\u001b[0m",
      "\u001b[1;31mValueError\u001b[0m                                Traceback (most recent call last)",
      "Input \u001b[1;32mIn [2]\u001b[0m, in \u001b[0;36m<cell line: 1>\u001b[1;34m()\u001b[0m\n\u001b[1;32m----> 1\u001b[0m \u001b[43mmath\u001b[49m\u001b[38;5;241;43m.\u001b[39;49m\u001b[43mlog\u001b[49m\u001b[43m(\u001b[49m\u001b[38;5;241;43m0\u001b[39;49m\u001b[43m)\u001b[49m\n",
      "\u001b[1;31mValueError\u001b[0m: math domain error"
     ]
    }
   ],
   "source": [
    "math.log(0)"
   ]
  },
  {
   "cell_type": "markdown",
   "id": "e7ecf44b",
   "metadata": {},
   "source": [
    "To refer back to the [Vedantu](https://www.vedantu.com/maths/value-of-log-0) article, \"<i>If Log<sub>a</sub>b = x, then ax = b</i>\", we can use exponentation in Python to attempt to discover an exponentation where the <i>x</i> is 0."
   ]
  },
  {
   "cell_type": "code",
   "execution_count": 8,
   "id": "3c604ec1",
   "metadata": {},
   "outputs": [
    {
     "data": {
      "text/plain": [
       "10"
      ]
     },
     "execution_count": 8,
     "metadata": {},
     "output_type": "execute_result"
    }
   ],
   "source": [
    "10**1"
   ]
  },
  {
   "cell_type": "code",
   "execution_count": 28,
   "id": "a19c8ed7",
   "metadata": {},
   "outputs": [
    {
     "name": "stdout",
     "output_type": "stream",
     "text": [
      "10**1 = 10\n",
      "2**1 = 2\n",
      "0.5**1 = 0.5\n",
      "10**0 = 1\n",
      "2**0 = 1\n",
      "0.5**0 = 1.0\n",
      "0.0000001**0 = 1.0\n",
      "1**-1 = 1.0\n",
      "10**-1 = 0.1\n",
      "10000000**-1 = 1e-07\n"
     ]
    }
   ],
   "source": [
    "print(f'10**1 = {10**1}')\n",
    "print(f'2**1 = {2**1}')\n",
    "print(f'0.5**1 = {0.5**1}')\n",
    "print(f'10**0 = {10**0}')\n",
    "print(f'2**0 = {2**0}')\n",
    "print(f'0.5**0 = {0.5**0}')\n",
    "print(f'0.0000001**0 = {0.0000001**0}')\n",
    "print(f'1**-1 = {1**-1}')\n",
    "print(f'10**-1 = {10**-1}')\n",
    "print(f'10000000**-1 = {10000000**-1}')"
   ]
  },
  {
   "cell_type": "markdown",
   "id": "8f672d82",
   "metadata": {},
   "source": [
    "We can surmise from the above that while any given number to the power of 1 results in the same number, and that any given number to the power of 0 is always 1. Using negative numbers produces smaller and smaller decimal values, but will never reach 0.\n",
    "\n",
    "Indeed, a [NIST](https://www.nist.gov/system/files/documents/2017/11/30/nce.pdf) article (p.4, 2017) states that:\n",
    "\n",
    "$$ log(0) = -\\infty $$\n",
    "\n",
    "Hence, since infinity isn't a definable value in itself, the result will also go undefined. To confirm this, most introductions to logarithms will state something along the lines of:\n",
    "\n",
    "\"The logarithm function log<sub>a</sub><i>b</i> can only be defined if <i>b</i> > 0, and it is quite impossible to find the value of <i>x if <i>ax = 0</i>.\" ([Vedantu](https://www.vedantu.com/maths/value-of-log-0), 2022)\n",
    "    \n",
    "Or:\n",
    "    \n",
    "\"The argument has to be greater than zero... The log of zero to any base is always undefined.\" ([Fast and Easy Maths](https://www.youtube.com/watch?v=j6scVL0Cp2k), 2018)"
   ]
  },
  {
   "cell_type": "code",
   "execution_count": null,
   "id": "1f38a5c8",
   "metadata": {},
   "outputs": [],
   "source": []
  }
 ],
 "metadata": {
  "kernelspec": {
   "display_name": "Python 3 (ipykernel)",
   "language": "python",
   "name": "python3"
  },
  "language_info": {
   "codemirror_mode": {
    "name": "ipython",
    "version": 3
   },
   "file_extension": ".py",
   "mimetype": "text/x-python",
   "name": "python",
   "nbconvert_exporter": "python",
   "pygments_lexer": "ipython3",
   "version": "3.9.12"
  }
 },
 "nbformat": 4,
 "nbformat_minor": 5
}
