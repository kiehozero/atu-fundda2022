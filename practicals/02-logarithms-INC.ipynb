{
 "cells": [
  {
   "cell_type": "markdown",
   "id": "7c28332f",
   "metadata": {},
   "source": [
    "## Exercise\n",
    "\n",
    "### Explain why the log of zero is undefined.\n",
    "\n",
    "[link](https://www.youtube.com/watch?v=IPkRVpXtbdY)\n",
    "\n",
    "Use the file Bilsborough sent you and remember to credit him and include it in your repo! National Institute of Standards and Technology (2017) Available at [NIST](https://www.nist.gov/system/files/documents/2017/11/30/nce.pdf)\n",
    "\n",
    "[Vedantu](https://www.vedantu.com/maths/value-of-log-0) - this is going to be really helpful\n",
    "\n",
    "[Wikipedia](https://en.wikipedia.org/wiki/Logarithm#Graph_of_the_logarithm_function) - see graph below from this section and the note in the passage about numbers less than zero approaching minus infinity?\n",
    "\n",
    "https://www.rapidtables.com/math/algebra/logarithm/Logarithm_of_0.html\n",
    "\n",
    "![image](https://upload.wikimedia.org/wikipedia/commons/4/49/Logarithm_inversefunctiontoexp.svg)\n",
    "\n",
    "[Log Tables - Numberphile](https://www.youtube.com/watch?v=VRzH4xB0GdM)\n",
    "\n",
    "https://www.mathsisfun.com/algebra/logarithms.html\n",
    "\n",
    "https://www.youtube.com/watch?v=j6scVL0Cp2k\n",
    "\n",
    "https://www.youtube.com/watch?v=_z1mh_iXTqQ\n",
    "\n",
    "https://www.quora.com/What-is-the-proof-of-log-0-undefined\n",
    "\n",
    "https://www.youtube.com/watch?v=12Nae7qYxs4\n",
    "\n",
    "https://math.stackexchange.com/questions/116622/why-are-logarithms-not-defined-for-0-and-negatives\n",
    "\n",
    "From Ian's video: this only needs to be a markdown explanation, and he shows the Entropy curve (above the Fire Alarms section) saying that it can't go all the way to zero on the x-axis. He said Google will have lots of explanations, so you just need to condense it down to one."
   ]
  },
  {
   "cell_type": "code",
   "execution_count": 2,
   "id": "24ddd483",
   "metadata": {},
   "outputs": [],
   "source": [
    "import math"
   ]
  },
  {
   "cell_type": "markdown",
   "id": "1588a0b8",
   "metadata": {},
   "source": [
    "The problem here is best demonstrated by simply running the `log` function from Python's math library. As stated in the [W3Schools](https://www.w3schools.com/python/ref_math_log.asp) tutorial:\n",
    "\n",
    "    If the value is 0 or a negative number, it returns a ValueError."
   ]
  },
  {
   "cell_type": "code",
   "execution_count": 2,
   "id": "9ac888e6",
   "metadata": {},
   "outputs": [
    {
     "ename": "ValueError",
     "evalue": "math domain error",
     "output_type": "error",
     "traceback": [
      "\u001b[1;31m---------------------------------------------------------------------------\u001b[0m",
      "\u001b[1;31mValueError\u001b[0m                                Traceback (most recent call last)",
      "Input \u001b[1;32mIn [2]\u001b[0m, in \u001b[0;36m<cell line: 1>\u001b[1;34m()\u001b[0m\n\u001b[1;32m----> 1\u001b[0m \u001b[43mmath\u001b[49m\u001b[38;5;241;43m.\u001b[39;49m\u001b[43mlog\u001b[49m\u001b[43m(\u001b[49m\u001b[38;5;241;43m0\u001b[39;49m\u001b[43m)\u001b[49m\n",
      "\u001b[1;31mValueError\u001b[0m: math domain error"
     ]
    }
   ],
   "source": [
    "math.log(0)"
   ]
  },
  {
   "cell_type": "markdown",
   "id": "054ebeed",
   "metadata": {},
   "source": [
    "The [Vedantu](https://www.vedantu.com/maths/value-of-log-0) website defines the logarithmic function as \"<i>If Log<sub>a</sub>b = x, then ax = b</i>\", and that the this can be best defined as:\n",
    "\n",
    "    \"Logarithm shows how much the base of the b must be raised to meet the exponent of the number x. In simple terms, the logarithm counts how many times the same factor occurs in the repeated multiplication.\"\n",
    "\n",
    "In more simple terms, TED-Ed's [Steve Kelly](https://www.youtube.com/watch?v=zzu2POfYv0Y) notes:\n",
    "\n",
    "    \"The base (a) raised to the power (b) equals the number (x)\"\n",
    "\n",
    "In the case of the Vedantu example, the base is <i>a</i>, the power is <i>b</i> and the number <i>x</i>.\n",
    "\n",
    "Rapid Tables = \""
   ]
  },
  {
   "cell_type": "code",
   "execution_count": null,
   "id": "6dbbc9a2",
   "metadata": {},
   "outputs": [],
   "source": []
  },
  {
   "cell_type": "code",
   "execution_count": null,
   "id": "fc7a4232",
   "metadata": {},
   "outputs": [],
   "source": []
  }
 ],
 "metadata": {
  "kernelspec": {
   "display_name": "Python 3 (ipykernel)",
   "language": "python",
   "name": "python3"
  },
  "language_info": {
   "codemirror_mode": {
    "name": "ipython",
    "version": 3
   },
   "file_extension": ".py",
   "mimetype": "text/x-python",
   "name": "python",
   "nbconvert_exporter": "python",
   "pygments_lexer": "ipython3",
   "version": "3.9.12"
  }
 },
 "nbformat": 4,
 "nbformat_minor": 5
}
