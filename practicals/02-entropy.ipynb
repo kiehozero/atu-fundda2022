{
 "cells": [
  {
   "cell_type": "markdown",
   "id": "7c28332f",
   "metadata": {},
   "source": [
    "## Exercise\n",
    "\n",
    "### Explain why the log of zero is undefined.\n",
    "\n",
    "[link](https://www.youtube.com/watch?v=IPkRVpXtbdY)\n",
    "\n",
    "Use the file Bilsborough sent you and remember to credit him and include it in your repo! https://www.nist.gov/system/files/documents/2017/11/30/nce.pdf\n",
    "\n",
    "https://www.mathsisfun.com/algebra/logarithms.html\n",
    "\n",
    "https://www.w3schools.com/python/ref_math_log.asp\n",
    "\n",
    "https://www.youtube.com/watch?v=j6scVL0Cp2k\n",
    "\n",
    "https://www.youtube.com/watch?v=yvVw0Ca9AKU\n",
    "\n",
    "https://www.youtube.com/watch?v=_z1mh_iXTqQ\n",
    "\n",
    "https://www.rapidtables.com/math/algebra/logarithm/Logarithm_of_0.html\n",
    "\n",
    "https://www.quora.com/What-is-the-proof-of-log-0-undefined\n",
    "\n",
    "https://www.bing.com/videos/search?q=why+is+log+0+undefined&docid=608055421315998728&mid=0ACE9F6665BFD27DFA920ACE9F6665BFD27DFA92&view=detail&FORM=VIRE\n",
    "\n",
    "https://www.bing.com/videos/search?q=why+is+log+0+undefined&docid=607999887390609957&mid=A595FB2F46605D97EEC9A595FB2F46605D97EEC9&view=detail&FORM=VIRE\n",
    "\n",
    "https://math.stackexchange.com/questions/116622/why-are-logarithms-not-defined-for-0-and-negatives\n",
    "\n",
    "From Ian's video: this only needs to be a markdown explanation, and he shows the Entropy curve (above the Fire Alarms section) saying that it can't go all the way to zero on the x-axis. He said Google will have lots of explanations, so you just need to condense it down to one."
   ]
  },
  {
   "cell_type": "code",
   "execution_count": null,
   "id": "24ddd483",
   "metadata": {},
   "outputs": [],
   "source": []
  },
  {
   "cell_type": "code",
   "execution_count": null,
   "id": "9ac888e6",
   "metadata": {},
   "outputs": [],
   "source": []
  }
 ],
 "metadata": {
  "kernelspec": {
   "display_name": "Python 3 (ipykernel)",
   "language": "python",
   "name": "python3"
  },
  "language_info": {
   "codemirror_mode": {
    "name": "ipython",
    "version": 3
   },
   "file_extension": ".py",
   "mimetype": "text/x-python",
   "name": "python",
   "nbconvert_exporter": "python",
   "pygments_lexer": "ipython3",
   "version": "3.9.12"
  }
 },
 "nbformat": 4,
 "nbformat_minor": 5
}
