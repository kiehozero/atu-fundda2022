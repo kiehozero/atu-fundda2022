{
 "cells": [
  {
   "cell_type": "markdown",
   "id": "2da823fa",
   "metadata": {},
   "source": [
    "# Exercise 1\n",
    "\n",
    "Write a Python function to remove all non-alphanumeric characters from a string."
   ]
  },
  {
   "cell_type": "code",
   "execution_count": null,
   "id": "3dfc3003",
   "metadata": {},
   "outputs": [],
   "source": []
  },
  {
   "cell_type": "markdown",
   "id": "e0c39d69",
   "metadata": {},
   "source": [
    "# Exercise 2\n",
    "\n",
    "Adapt the above code to capitalise the first letter of the iris species, using regular expressions."
   ]
  },
  {
   "cell_type": "code",
   "execution_count": null,
   "id": "2c997a15",
   "metadata": {},
   "outputs": [],
   "source": []
  }
 ],
 "metadata": {
  "kernelspec": {
   "display_name": "Python 3 (ipykernel)",
   "language": "python",
   "name": "python3"
  },
  "language_info": {
   "codemirror_mode": {
    "name": "ipython",
    "version": 3
   },
   "file_extension": ".py",
   "mimetype": "text/x-python",
   "name": "python",
   "nbconvert_exporter": "python",
   "pygments_lexer": "ipython3",
   "version": "3.9.12"
  }
 },
 "nbformat": 4,
 "nbformat_minor": 5
}
