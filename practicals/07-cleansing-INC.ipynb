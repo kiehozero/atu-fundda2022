{
 "cells": [
  {
   "cell_type": "markdown",
   "id": "2da823fa",
   "metadata": {},
   "source": [
    "# Exercise 7a - Replacing Characters\n",
    "\n",
    "Write a Python function to remove all non-alphanumeric characters from a string."
   ]
  },
  {
   "cell_type": "code",
   "execution_count": 1,
   "id": "f30b4b86",
   "metadata": {},
   "outputs": [],
   "source": [
    "import re"
   ]
  },
  {
   "cell_type": "code",
   "execution_count": 12,
   "id": "3dfc3003",
   "metadata": {},
   "outputs": [
    {
     "name": "stdout",
     "output_type": "stream",
     "text": [
      "♯ ♯ ∞ ( \"-, -, \")        -   !  .\n"
     ]
    }
   ],
   "source": [
    "# sample string from Wikipedia article in README\n",
    "\n",
    "string = 'F♯ A♯ ∞ (pronounced \"F-sharp, A-sharp, Infinity\") is the debut studio album by Canadian post-rock band Godspeed You! Black Emperor.'\n",
    "\n",
    "# any \n",
    "pattern = '[\\w]' \n",
    "\n",
    "new_string = re.sub(pattern, '', string)\n",
    "print(new_string)"
   ]
  },
  {
   "cell_type": "markdown",
   "id": "e0c39d69",
   "metadata": {},
   "source": [
    "# Exercise 7b - Editing Datasets\n",
    "\n",
    "Adapt the above code to capitalise the first letter of the iris species, using regular expressions."
   ]
  },
  {
   "cell_type": "code",
   "execution_count": null,
   "id": "2c997a15",
   "metadata": {},
   "outputs": [],
   "source": []
  }
 ],
 "metadata": {
  "kernelspec": {
   "display_name": "Python 3 (ipykernel)",
   "language": "python",
   "name": "python3"
  },
  "language_info": {
   "codemirror_mode": {
    "name": "ipython",
    "version": 3
   },
   "file_extension": ".py",
   "mimetype": "text/x-python",
   "name": "python",
   "nbconvert_exporter": "python",
   "pygments_lexer": "ipython3",
   "version": "3.9.12"
  }
 },
 "nbformat": 4,
 "nbformat_minor": 5
}
