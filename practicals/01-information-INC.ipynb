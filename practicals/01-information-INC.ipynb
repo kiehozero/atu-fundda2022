{
 "cells": [
  {
   "cell_type": "markdown",
   "id": "0242e410",
   "metadata": {},
   "source": [
    "# Exercise 1\n",
    "\n",
    "### TASK: Adapt the code to generate a 1000 character long string with weights based on the previous two characters.\n",
    "\n",
    "I've included any additional notes with the prefix 'SS', while the notes Ian wrote in the original notebook are marked with 'IM'."
   ]
  },
  {
   "cell_type": "code",
   "execution_count": 1,
   "id": "acb8967d",
   "metadata": {
    "scrolled": false
   },
   "outputs": [],
   "source": [
    "# SS - this library handles requests for resources from the internet\n",
    "import urllib.request\n",
    "# IM - For doing (pseudo-)random things in Python.\n",
    "import random\n",
    "\n",
    "# SS - the actual location of this file we wish to use, in this\n",
    "# case the Gutenberg Project's copy of Alice in Wonderland\n",
    "book_url = 'https://www.gutenberg.org/files/11/11-0.txt'\n",
    "\n",
    "# SS - stores the file as a list after opening the file with a library function, with each line being a list item\n",
    "book = list(urllib.request.urlopen(book_url))\n",
    "\n",
    "# SS - Decode lines and remove line endings (carriage returns or the backslash-n character)\n",
    "# this is also the alternative format of writing a for loop, called a list comprehension\n",
    "book = [line.decode('utf-8-sig').strip() for line in book]\n",
    "\n",
    "# SS - I've changed this to reflect where the actual text of the novel starts, omitting the various publishing\n",
    "# notes, contents pages, etc., although this won't make much of a difference to the overall weights later on\n",
    "novel = ''.join(book[57:]).lower()"
   ]
  },
  {
   "cell_type": "code",
   "execution_count": 2,
   "id": "be6a7d96",
   "metadata": {},
   "outputs": [],
   "source": [
    "# IM - These are ultimately the characters that we wish to use for randomisation and weighting\n",
    "chars = 'abcdefghijklmnopqrstuvwxyz '"
   ]
  },
  {
   "cell_type": "code",
   "execution_count": 35,
   "id": "b8d6be31",
   "metadata": {},
   "outputs": [
    {
     "name": "stdout",
     "output_type": "stream",
     "text": [
      "51\n"
     ]
    }
   ],
   "source": [
    "# SS - Added a second layer to this dictionary, as this is where the character weighting generates\n",
    "trios = {c: {d: {e: novel.count(c + d + e) for e in chars} for d in chars} for c in chars}\n",
    "print(trios[\"a\"][\"b\"][\"b\"])\n",
    "\n",
    "trios = {c: {d: novel.count(c + d) for d in chars} for c in chars}\n",
    "# trios"
   ]
  },
  {
   "cell_type": "code",
   "execution_count": 28,
   "id": "6d394e52",
   "metadata": {
    "scrolled": true
   },
   "outputs": [
    {
     "ename": "TypeError",
     "evalue": "unsupported operand type(s) for +: 'dict' and 'dict'",
     "output_type": "error",
     "traceback": [
      "\u001b[1;31m---------------------------------------------------------------------------\u001b[0m",
      "\u001b[1;31mTypeError\u001b[0m                                 Traceback (most recent call last)",
      "Input \u001b[1;32mIn [28]\u001b[0m, in \u001b[0;36m<cell line: 4>\u001b[1;34m()\u001b[0m\n\u001b[0;32m      9\u001b[0m wt \u001b[38;5;241m=\u001b[39m [wt[c] \u001b[38;5;28;01mfor\u001b[39;00m c \u001b[38;5;129;01min\u001b[39;00m chars]\n\u001b[0;32m     10\u001b[0m \u001b[38;5;66;03m# IM - Randomly pick the next character using those weights.\u001b[39;00m\n\u001b[1;32m---> 11\u001b[0m nextc \u001b[38;5;241m=\u001b[39m \u001b[43mrandom\u001b[49m\u001b[38;5;241;43m.\u001b[39;49m\u001b[43mchoices\u001b[49m\u001b[43m(\u001b[49m\u001b[43mchars\u001b[49m\u001b[43m,\u001b[49m\u001b[43m \u001b[49m\u001b[43mweights\u001b[49m\u001b[38;5;241;43m=\u001b[39;49m\u001b[43mwt\u001b[49m\u001b[43m,\u001b[49m\u001b[43m \u001b[49m\u001b[43mk\u001b[49m\u001b[38;5;241;43m=\u001b[39;49m\u001b[38;5;241;43m1\u001b[39;49m\u001b[43m)\u001b[49m[\u001b[38;5;241m0\u001b[39m]\n\u001b[0;32m     12\u001b[0m \u001b[38;5;66;03m# is this how to randomise the third character?\u001b[39;00m\n\u001b[0;32m     13\u001b[0m \u001b[38;5;66;03m# third = random.choices(chars, weights=wt, k=1)[2]\u001b[39;00m\n\u001b[0;32m     14\u001b[0m \u001b[38;5;66;03m# IM - Append character to pairs, which is used to generate the next character for wt at the top of the loop\u001b[39;00m\n\u001b[0;32m     15\u001b[0m pairs \u001b[38;5;241m=\u001b[39m pairs \u001b[38;5;241m+\u001b[39m nextc \u001b[38;5;66;03m# + third\u001b[39;00m\n",
      "File \u001b[1;32m~\\anaconda3\\lib\\random.py:488\u001b[0m, in \u001b[0;36mRandom.choices\u001b[1;34m(self, population, weights, cum_weights, k)\u001b[0m\n\u001b[0;32m    486\u001b[0m     \u001b[38;5;28;01mreturn\u001b[39;00m [population[floor(random() \u001b[38;5;241m*\u001b[39m n)] \u001b[38;5;28;01mfor\u001b[39;00m i \u001b[38;5;129;01min\u001b[39;00m _repeat(\u001b[38;5;28;01mNone\u001b[39;00m, k)]\n\u001b[0;32m    487\u001b[0m \u001b[38;5;28;01mtry\u001b[39;00m:\n\u001b[1;32m--> 488\u001b[0m     cum_weights \u001b[38;5;241m=\u001b[39m \u001b[38;5;28;43mlist\u001b[39;49m\u001b[43m(\u001b[49m\u001b[43m_accumulate\u001b[49m\u001b[43m(\u001b[49m\u001b[43mweights\u001b[49m\u001b[43m)\u001b[49m\u001b[43m)\u001b[49m\n\u001b[0;32m    489\u001b[0m \u001b[38;5;28;01mexcept\u001b[39;00m \u001b[38;5;167;01mTypeError\u001b[39;00m:\n\u001b[0;32m    490\u001b[0m     \u001b[38;5;28;01mif\u001b[39;00m \u001b[38;5;129;01mnot\u001b[39;00m \u001b[38;5;28misinstance\u001b[39m(weights, \u001b[38;5;28mint\u001b[39m):\n",
      "\u001b[1;31mTypeError\u001b[0m: unsupported operand type(s) for +: 'dict' and 'dict'"
     ]
    }
   ],
   "source": [
    "pairs = 'a'\n",
    "\n",
    "# SS - I've changed this to 1000 just to restrict the view, and also because the output requires 1000 characters\n",
    "for i in range(1, 1001):\n",
    "    # IM - Get the weights where the previous character is the last character in pairs.\n",
    "    wt = trios[pairs[-1]]\n",
    "    # IM - Turn wt into a list, ordered by chars.\n",
    "    # SS - presumably need to add a second loop in here\n",
    "    wt = [wt[c] for c in chars]\n",
    "    # IM - Randomly pick the next character using those weights.\n",
    "    nextc = random.choices(chars, weights=wt, k=1)[0]\n",
    "    # is this how to randomise the third character?\n",
    "    # third = random.choices(chars, weights=wt, k=1)[2]\n",
    "    # IM - Append character to pairs, which is used to generate the next character for wt at the top of the loop\n",
    "    pairs = pairs + nextc # + third\n",
    "    print(wt)\n",
    "    print(pairs)\n",
    "\n",
    "# print(pairs)"
   ]
  },
  {
   "cell_type": "code",
   "execution_count": null,
   "id": "2456d363",
   "metadata": {},
   "outputs": [],
   "source": []
  }
 ],
 "metadata": {
  "kernelspec": {
   "display_name": "Python 3 (ipykernel)",
   "language": "python",
   "name": "python3"
  },
  "language_info": {
   "codemirror_mode": {
    "name": "ipython",
    "version": 3
   },
   "file_extension": ".py",
   "mimetype": "text/x-python",
   "name": "python",
   "nbconvert_exporter": "python",
   "pygments_lexer": "ipython3",
   "version": "3.9.12"
  },
  "vscode": {
   "interpreter": {
    "hash": "94f9438f566dec9fccd0dd9a98a035ad19db3c9b73fe00bed00a51a9ef894353"
   }
  }
 },
 "nbformat": 4,
 "nbformat_minor": 5
}
