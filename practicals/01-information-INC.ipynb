{
 "cells": [
  {
   "cell_type": "markdown",
   "id": "0242e410",
   "metadata": {},
   "source": [
    "# Exercise 1\n",
    "\n",
    "### TASK: Adapt the code to generate a 1000 character long string with weights based on the previous two characters.\n",
    "\n",
    "I've included any additional notes with the prefix 'SS', while the notes Ian wrote in the original notebook are marked with 'IM'."
   ]
  },
  {
   "cell_type": "code",
   "execution_count": 1,
   "id": "acb8967d",
   "metadata": {
    "scrolled": false
   },
   "outputs": [],
   "source": [
    "# SS - this library handles requests for resources from the internet\n",
    "import urllib.request\n",
    "# IM - For doing (pseudo-)random things in Python.\n",
    "import random\n",
    "\n",
    "# SS - the actual location of this file we wish to use, in this\n",
    "# case the Gutenberg Project's copy of Alice in Wonderland\n",
    "book_url = 'https://www.gutenberg.org/files/11/11-0.txt'\n",
    "\n",
    "# SS - stores the file as a list after opening the file with a library function, with each line being a list item\n",
    "book = list(urllib.request.urlopen(book_url))\n",
    "\n",
    "# SS - Decode lines and remove line endings (carriage returns or the backslash-n character)\n",
    "# this is also the alternative format of writing a for loop, called a list comprehension\n",
    "book = [line.decode('utf-8-sig').strip() for line in book]\n",
    "\n",
    "# SS - I've changed this to reflect where the actual text of the novel starts, omitting the various publishing\n",
    "# notes, contents pages, etc., although this won't make much of a difference to the overall weights later on\n",
    "novel = ''.join(book[57:]).lower()"
   ]
  },
  {
   "cell_type": "code",
   "execution_count": 36,
   "id": "be6a7d96",
   "metadata": {},
   "outputs": [],
   "source": [
    "# IM - These are ultimately the characters that we wish to use for randomisation and weighting\n",
    "chars = 'abcdefghijklmnopqrstuvwxyz '"
   ]
  },
  {
   "cell_type": "code",
   "execution_count": 4,
   "id": "e5e3ef17",
   "metadata": {},
   "outputs": [
    {
     "name": "stdout",
     "output_type": "stream",
     "text": [
      " s hthee ud bieainghe hat d oondinad kepomppry thergainok le ttlyof m ho t hathedheein d tcofale bero ee rice walincho thenghinofu o hous anghte vewnd t at e aitoin bllokepte hoorken arexpousex ath ct weving beryas moilyet whoidast in beff f tsheng bido bexamare lyopopreth gwasspy ahell hit icoksusherinto soonowa seve inbeden the atmerec ware t t adod twranexpaneyomainif furknd g follie e tritlfr fer uenen w gecendicat ithe if ate kecutherert ctun t me wilenftherth seno kn y ssas wi alitonth alanse ofoorethilece aind fosange jesh he to ong saclkese in wopofoulinderimee nglikeutherkedin qust i h llidserdad rt wagad tin aseaks oun lited ond thchif hat shee o wigirid iziourdasthed waheg ur he wous ke the r purepl omund coy ce greng d inond  hutenth dser f nthit wares ikeerplined atomed ndss d bonthathewar dd chtheco bouticorsst ple iere thesenoaillisherk key thadleeng m histl ppathed becourseve aigethountlevewher ay ith anbe t bag abond ter ttrl ppare wee the oqut setaly s ed blkino thitw\n"
     ]
    }
   ],
   "source": [
    "# original code\n",
    "\n",
    "twoghts = {c: {d: novel.count(c + d) for d in chars} for c in chars}\n",
    "\n",
    "pairs = ' '\n",
    "\n",
    "for i in range(1,1000):\n",
    "    # Get the weights where the previous character is the last character in pairs\n",
    "    wt = twoghts[pairs[-1]]\n",
    "    # IM - Turn wt into a list, ordered by chars.\n",
    "    wt = [wt[c] for c in chars]\n",
    "    # Randomly pick the next character using those weights\n",
    "    nextc = random.choices(chars, weights=wt, k=1)[0]\n",
    "    # append the character to pairs\n",
    "    pairs = pairs + nextc\n",
    "\n",
    "print(pairs)"
   ]
  },
  {
   "cell_type": "markdown",
   "id": "88752190",
   "metadata": {},
   "source": [
    "Trying to summarise some thoughts before I smash the laptop to pieces\n",
    "\n",
    "Using two characters, the next character needs to be selected based on both values. The last but one character needs to weight the selection of the last character, which then needs to weight the selection of the character to be generated."
   ]
  },
  {
   "cell_type": "markdown",
   "id": "eed7ada2",
   "metadata": {},
   "source": [
    "### Second Attempt\n",
    "\n",
    "With this attempt I tried to get around the problems of accessing the dictionary hierarchy by creating a list of weights by two-character pair, but this would mean I couldn't access the letter that followed it."
   ]
  },
  {
   "cell_type": "code",
   "execution_count": 41,
   "id": "b8d6be31",
   "metadata": {},
   "outputs": [
    {
     "name": "stdout",
     "output_type": "stream",
     "text": [
      "{'aa': 0, 'ab': 240, 'ac': 207, 'ad': 478, 'ae': 1, 'af': 68, 'ag': 220, 'ah': 30, 'ai': 752, 'aj': 12, 'ak': 131, 'al': 1015, 'am': 202, 'an': 1773, 'ao': 3, 'ap': 134, 'aq': 0, 'ar': 841, 'as': 944, 'at': 1344, 'au': 79, 'av': 178, 'aw': 96, 'ax': 12, 'ay': 294, 'az': 5, 'a ': 655, 'ba': 82, 'bb': 65, 'bc': 0, 'bd': 1, 'be': 651, 'bf': 0, 'bg': 0, 'bh': 0, 'bi': 118, 'bj': 8, 'bk': 0, 'bl': 124, 'bm': 1, 'bn': 0, 'bo': 228, 'bp': 0, 'bq': 0, 'br': 62, 'bs': 34, 'bt': 13, 'bu': 239, 'bv': 0, 'bw': 0, 'bx': 0, 'by': 100, 'bz': 0, 'b ': 3, 'ca': 350, 'cb': 0, 'cc': 36, 'cd': 0, 'ce': 791, 'cf': 0, 'cg': 0, 'ch': 504, 'ci': 56, 'cj': 0, 'ck': 181, 'cl': 87, 'cm': 0, 'cn': 0, 'co': 454, 'cp': 0, 'cq': 0, 'cr': 123, 'cs': 1, 'ct': 236, 'cu': 112, 'cv': 0, 'cw': 0, 'cx': 0, 'cy': 8, 'cz': 0, 'c ': 35, 'da': 137, 'db': 11, 'dc': 3, 'dd': 75, 'de': 523, 'df': 15, 'dg': 34, 'dh': 11, 'di': 330, 'dj': 1, 'dk': 1, 'dl': 65, 'dm': 3, 'dn': 61, 'do': 485, 'dp': 6, 'dq': 0, 'dr': 93, 'ds': 103, 'dt': 35, 'du': 70, 'dv': 19, 'dw': 12, 'dx': 0, 'dy': 52, 'dz': 0, 'd ': 2850, 'ea': 832, 'eb': 55, 'ec': 325, 'ed': 1087, 'ee': 552, 'ef': 119, 'eg': 145, 'eh': 54, 'ei': 112, 'ej': 4, 'ek': 19, 'el': 501, 'em': 324, 'en': 1141, 'eo': 45, 'ep': 187, 'eq': 19, 'er': 2092, 'es': 721, 'et': 385, 'eu': 8, 'ev': 204, 'ew': 78, 'ex': 123, 'ey': 224, 'ez': 14, 'e ': 4830, 'fa': 116, 'fb': 0, 'fc': 3, 'fd': 1, 'fe': 179, 'ff': 132, 'fg': 1, 'fh': 1, 'fi': 190, 'fj': 0, 'fk': 0, 'fl': 36, 'fm': 2, 'fn': 1, 'fo': 423, 'fp': 1, 'fq': 0, 'fr': 113, 'fs': 3, 'ft': 88, 'fu': 125, 'fv': 1, 'fw': 0, 'fx': 0, 'fy': 7, 'fz': 0, 'f ': 830, 'ga': 234, 'gb': 1, 'gc': 2, 'gd': 1, 'ge': 314, 'gf': 5, 'gg': 18, 'gh': 339, 'gi': 95, 'gj': 0, 'gk': 0, 'gl': 64, 'gm': 0, 'gn': 13, 'go': 202, 'gp': 2, 'gq': 0, 'gr': 251, 'gs': 67, 'gt': 18, 'gu': 140, 'gv': 1, 'gw': 4, 'gx': 0, 'gy': 2, 'gz': 1, 'g ': 862, 'ha': 1198, 'hb': 5, 'hc': 3, 'hd': 4, 'he': 4002, 'hf': 3, 'hg': 1, 'hh': 1, 'hi': 860, 'hj': 1, 'hk': 0, 'hl': 4, 'hm': 6, 'hn': 3, 'ho': 601, 'hp': 1, 'hq': 0, 'hr': 89, 'hs': 8, 'ht': 250, 'hu': 58, 'hv': 0, 'hw': 2, 'hx': 0, 'hy': 47, 'hz': 0, 'h ': 571, 'ia': 59, 'ib': 53, 'ic': 686, 'id': 729, 'ie': 223, 'if': 193, 'ig': 236, 'ih': 1, 'ii': 7, 'ij': 0, 'ik': 97, 'il': 341, 'im': 243, 'in': 2262, 'io': 298, 'ip': 25, 'iq': 0, 'ir': 228, 'is': 714, 'it': 1487, 'iu': 8, 'iv': 104, 'iw': 4, 'ix': 10, 'iy': 0, 'iz': 27, 'i ': 369, 'ja': 6, 'jb': 0, 'jc': 1, 'jd': 0, 'je': 106, 'jf': 0, 'jg': 0, 'jh': 0, 'ji': 0, 'jj': 0, 'jk': 0, 'jl': 0, 'jm': 0, 'jn': 0, 'jo': 17, 'jp': 0, 'jq': 0, 'jr': 0, 'js': 0, 'jt': 0, 'ju': 102, 'jv': 0, 'jw': 0, 'jx': 0, 'jy': 0, 'jz': 0, 'j ': 0, 'ka': 11, 'kb': 0, 'kc': 0, 'kd': 0, 'ke': 377, 'kf': 1, 'kg': 0, 'kh': 0, 'ki': 213, 'kj': 0, 'kk': 0, 'kl': 23, 'km': 0, 'kn': 139, 'ko': 2, 'kp': 0, 'kq': 0, 'kr': 1, 'ks': 62, 'kt': 8, 'ku': 2, 'kv': 0, 'kw': 1, 'kx': 0, 'ky': 9, 'kz': 0, 'k ': 326, 'la': 364, 'lb': 5, 'lc': 9, 'ld': 346, 'le': 805, 'lf': 147, 'lg': 3, 'lh': 4, 'li': 938, 'lj': 0, 'lk': 60, 'll': 743, 'lm': 9, 'ln': 0, 'lo': 346, 'lp': 16, 'lq': 0, 'lr': 8, 'ls': 51, 'lt': 68, 'lu': 36, 'lv': 13, 'lw': 17, 'lx': 0, 'ly': 468, 'lz': 0, 'l ': 561, 'ma': 383, 'mb': 64, 'mc': 1, 'md': 0, 'me': 649, 'mf': 10, 'mg': 1, 'mh': 1, 'mi': 200, 'mj': 0, 'mk': 0, 'ml': 4, 'mm': 19, 'mn': 19, 'mo': 337, 'mp': 105, 'mq': 0, 'mr': 0, 'ms': 47, 'mt': 5, 'mu': 136, 'mv': 0, 'mw': 3, 'mx': 0, 'my': 68, 'mz': 0, 'm ': 278, 'na': 141, 'nb': 99, 'nc': 214, 'nd': 1405, 'ne': 597, 'nf': 33, 'ng': 1231, 'nh': 8, 'ni': 220, 'nj': 3, 'nk': 116, 'nl': 100, 'nm': 2, 'nn': 56, 'no': 596, 'np': 7, 'nq': 6, 'nr': 3, 'ns': 205, 'nt': 574, 'nu': 62, 'nv': 22, 'nw': 12, 'nx': 17, 'ny': 138, 'nz': 0, 'n ': 1455, 'oa': 27, 'ob': 47, 'oc': 112, 'od': 110, 'oe': 51, 'of': 748, 'og': 42, 'oh': 57, 'oi': 130, 'oj': 85, 'ok': 223, 'ol': 195, 'om': 335, 'on': 1291, 'oo': 464, 'op': 160, 'oq': 11, 'or': 936, 'os': 154, 'ot': 499, 'ou': 1703, 'ov': 110, 'ow': 564, 'ox': 11, 'oy': 22, 'oz': 2, 'o ': 1230, 'pa': 158, 'pb': 3, 'pc': 0, 'pd': 2, 'pe': 329, 'pf': 0, 'pg': 2, 'ph': 82, 'pi': 142, 'pj': 0, 'pk': 0, 'pl': 222, 'pm': 3, 'pn': 0, 'po': 198, 'pp': 129, 'pq': 0, 'pr': 233, 'ps': 32, 'pt': 73, 'pu': 79, 'pv': 0, 'pw': 1, 'px': 0, 'py': 50, 'pz': 0, 'p ': 160, 'qa': 0, 'qb': 0, 'qc': 0, 'qd': 0, 'qe': 0, 'qf': 0, 'qg': 0, 'qh': 0, 'qi': 0, 'qj': 0, 'qk': 0, 'ql': 0, 'qm': 0, 'qn': 0, 'qo': 0, 'qp': 0, 'qq': 0, 'qr': 0, 'qs': 0, 'qt': 0, 'qu': 219, 'qv': 0, 'qw': 0, 'qx': 0, 'qy': 0, 'qz': 0, 'q ': 0, 'ra': 357, 'rb': 3, 'rc': 78, 'rd': 185, 're': 1343, 'rf': 19, 'rg': 175, 'rh': 25, 'ri': 452, 'rj': 0, 'rk': 155, 'rl': 56, 'rm': 136, 'rn': 97, 'ro': 539, 'rp': 79, 'rq': 3, 'rr': 96, 'rs': 373, 'rt': 297, 'ru': 84, 'rv': 11, 'rw': 13, 'rx': 0, 'ry': 392, 'rz': 0, 'r ': 1228, 'sa': 668, 'sb': 1, 'sc': 47, 'sd': 3, 'se': 895, 'sf': 5, 'sg': 7, 'sh': 867, 'si': 299, 'sj': 0, 'sk': 48, 'sl': 70, 'sm': 29, 'sn': 63, 'so': 451, 'sp': 103, 'sq': 7, 'sr': 4, 'ss': 243, 'st': 709, 'su': 175, 'sv': 2, 'sw': 42, 'sx': 0, 'sy': 10, 'sz': 0, 's ': 1883, 'ta': 337, 'tb': 4, 'tc': 48, 'td': 9, 'te': 1036, 'tf': 17, 'tg': 19, 'th': 3824, 'ti': 635, 'tj': 0, 'tk': 3, 'tl': 291, 'tm': 84, 'tn': 14, 'to': 1095, 'tp': 3, 'tq': 2, 'tr': 242, 'ts': 198, 'tt': 375, 'tu': 208, 'tv': 2, 'tw': 93, 'tx': 1, 'ty': 81, 'tz': 0, 't ': 2817, 'ua': 27, 'ub': 35, 'uc': 185, 'ud': 65, 'ue': 167, 'uf': 5, 'ug': 175, 'uh': 1, 'ui': 90, 'uj': 0, 'uk': 5, 'ul': 354, 'um': 58, 'un': 326, 'uo': 3, 'up': 222, 'uq': 0, 'ur': 530, 'us': 470, 'ut': 748, 'uu': 0, 'uv': 0, 'uw': 1, 'ux': 0, 'uy': 0, 'uz': 14, 'u ': 357, 'va': 29, 'vb': 0, 'vc': 0, 'vd': 0, 've': 758, 'vf': 0, 'vg': 0, 'vh': 0, 'vi': 91, 'vj': 0, 'vk': 0, 'vl': 0, 'vm': 0, 'vn': 0, 'vo': 70, 'vp': 0, 'vq': 0, 'vr': 0, 'vs': 0, 'vt': 0, 'vu': 1, 'vv': 0, 'vw': 0, 'vx': 0, 'vy': 3, 'vz': 0, 'v ': 0, 'wa': 600, 'wb': 0, 'wc': 1, 'wd': 11, 'we': 365, 'wf': 5, 'wg': 0, 'wh': 529, 'wi': 443, 'wj': 0, 'wk': 1, 'wl': 32, 'wm': 1, 'wn': 145, 'wo': 353, 'wp': 1, 'wq': 1, 'wr': 38, 'ws': 31, 'wt': 5, 'wu': 0, 'wv': 1, 'ww': 15, 'wx': 0, 'wy': 0, 'wz': 0, 'w ': 231, 'xa': 12, 'xb': 0, 'xc': 18, 'xd': 0, 'xe': 27, 'xf': 0, 'xg': 0, 'xh': 0, 'xi': 25, 'xj': 0, 'xk': 0, 'xl': 0, 'xm': 0, 'xn': 0, 'xo': 0, 'xp': 31, 'xq': 0, 'xr': 0, 'xs': 0, 'xt': 42, 'xu': 0, 'xv': 0, 'xw': 0, 'xx': 0, 'xy': 0, 'xz': 0, 'x ': 15, 'ya': 34, 'yb': 13, 'yc': 11, 'yd': 10, 'ye': 104, 'yf': 4, 'yg': 3, 'yh': 4, 'yi': 67, 'yj': 0, 'yk': 2, 'yl': 6, 'ym': 10, 'yn': 4, 'yo': 586, 'yp': 61, 'yq': 0, 'yr': 23, 'ys': 49, 'yt': 47, 'yu': 3, 'yv': 0, 'yw': 8, 'yx': 0, 'yy': 3, 'yz': 0, 'y ': 1105, 'za': 7, 'zb': 0, 'zc': 0, 'zd': 0, 'ze': 32, 'zf': 0, 'zg': 0, 'zh': 0, 'zi': 11, 'zj': 0, 'zk': 0, 'zl': 14, 'zm': 0, 'zn': 0, 'zo': 0, 'zp': 0, 'zq': 0, 'zr': 0, 'zs': 0, 'zt': 0, 'zu': 0, 'zv': 0, 'zw': 0, 'zx': 0, 'zy': 2, 'zz': 14, 'z ': 0, ' a': 3294, ' b': 908, ' c': 914, ' d': 842, ' e': 411, ' f': 782, ' g': 601, ' h': 1438, ' i': 1741, ' j': 107, ' k': 245, ' l': 734, ' m': 897, ' n': 533, ' o': 1532, ' p': 619, ' q': 169, ' r': 519, ' s': 2362, ' t': 4267, ' u': 293, ' v': 221, ' w': 1764, ' x': 3, ' y': 505, ' z': 2, '  ': 153}\n"
     ]
    }
   ],
   "source": [
    "# a loop to generate a dictionary of possible combinations of characters from a to z, including a space\n",
    "char_new = []\n",
    "for i in chars:\n",
    "    for j in chars:\n",
    "        char_new.append(i+j)\n",
    "        \n",
    "twoghts = {c: novel.count(c) for c in char_new}\n",
    "print(twoghts)"
   ]
  },
  {
   "cell_type": "code",
   "execution_count": 61,
   "id": "6d394e52",
   "metadata": {
    "scrolled": true
   },
   "outputs": [
    {
     "name": "stdout",
     "output_type": "stream",
     "text": [
      "aa\n"
     ]
    },
    {
     "ename": "TypeError",
     "evalue": "'int' object is not subscriptable",
     "output_type": "error",
     "traceback": [
      "\u001b[1;31m---------------------------------------------------------------------------\u001b[0m",
      "\u001b[1;31mTypeError\u001b[0m                                 Traceback (most recent call last)",
      "Input \u001b[1;32mIn [61]\u001b[0m, in \u001b[0;36m<cell line: 3>\u001b[1;34m()\u001b[0m\n\u001b[0;32m      6\u001b[0m wt \u001b[38;5;241m=\u001b[39m twoghts[pairs[\u001b[38;5;241m-\u001b[39m\u001b[38;5;241m2\u001b[39m:]]\n\u001b[0;32m      7\u001b[0m \u001b[38;5;66;03m# IM - Turn wt into a list, ordered by chars.\u001b[39;00m\n\u001b[1;32m----> 8\u001b[0m wt \u001b[38;5;241m=\u001b[39m [wt[c] \u001b[38;5;28;01mfor\u001b[39;00m c \u001b[38;5;129;01min\u001b[39;00m char_new]\n\u001b[0;32m      9\u001b[0m \u001b[38;5;66;03m# Randomly pick the next character using those weights\u001b[39;00m\n\u001b[0;32m     10\u001b[0m nextc \u001b[38;5;241m=\u001b[39m random\u001b[38;5;241m.\u001b[39mchoices(char_new, weights\u001b[38;5;241m=\u001b[39mwt, k\u001b[38;5;241m=\u001b[39m\u001b[38;5;241m1\u001b[39m)[\u001b[38;5;241m0\u001b[39m]\n",
      "Input \u001b[1;32mIn [61]\u001b[0m, in \u001b[0;36m<listcomp>\u001b[1;34m(.0)\u001b[0m\n\u001b[0;32m      6\u001b[0m wt \u001b[38;5;241m=\u001b[39m twoghts[pairs[\u001b[38;5;241m-\u001b[39m\u001b[38;5;241m2\u001b[39m:]]\n\u001b[0;32m      7\u001b[0m \u001b[38;5;66;03m# IM - Turn wt into a list, ordered by chars.\u001b[39;00m\n\u001b[1;32m----> 8\u001b[0m wt \u001b[38;5;241m=\u001b[39m [\u001b[43mwt\u001b[49m\u001b[43m[\u001b[49m\u001b[43mc\u001b[49m\u001b[43m]\u001b[49m \u001b[38;5;28;01mfor\u001b[39;00m c \u001b[38;5;129;01min\u001b[39;00m char_new]\n\u001b[0;32m      9\u001b[0m \u001b[38;5;66;03m# Randomly pick the next character using those weights\u001b[39;00m\n\u001b[0;32m     10\u001b[0m nextc \u001b[38;5;241m=\u001b[39m random\u001b[38;5;241m.\u001b[39mchoices(char_new, weights\u001b[38;5;241m=\u001b[39mwt, k\u001b[38;5;241m=\u001b[39m\u001b[38;5;241m1\u001b[39m)[\u001b[38;5;241m0\u001b[39m]\n",
      "\u001b[1;31mTypeError\u001b[0m: 'int' object is not subscriptable"
     ]
    }
   ],
   "source": [
    "pairs = 'aa'\n",
    "\n",
    "for i in range(1,1000):\n",
    "    last_two = pairs[-2:]\n",
    "    print(last_two)\n",
    "    wt = twoghts[pairs[-2:]]\n",
    "    # IM - Turn wt into a list, ordered by chars.\n",
    "    wt = [wt[c] for c in char_new]\n",
    "    # Randomly pick the next character using those weights\n",
    "    nextc = random.choices(char_new, weights=wt, k=1)[0]\n",
    "    # append the character to pairs\n",
    "    pairs = pairs + nextc\n",
    "print(pairs)"
   ]
  },
  {
   "cell_type": "markdown",
   "id": "11c9e739",
   "metadata": {},
   "source": [
    "### First Attempt\n",
    "\n",
    "This attempt just proved too difficult, I couldn't work out how to access multiple layers of the dictionary without crashing the code."
   ]
  },
  {
   "cell_type": "code",
   "execution_count": null,
   "id": "eb861417",
   "metadata": {},
   "outputs": [],
   "source": [
    "# SS - Added a second layer to this dictionary, as this is where the character weighting generates\n",
    "# SS - this version didn't work, had loads of problems getting this to work\n",
    "# trios = {c: {d: {e: novel.count(c + d + e) for e in chars} for d in chars} for c in chars}\n",
    "\n",
    "pairs = '  '\n",
    "\n",
    "# SS - I've changed this to 1000 just to restrict the view, and also because the output requires 1000 characters\n",
    "for i in range(1, 1001):\n",
    "    # IM - Get the weights where the previous character is the last character in pairs.\n",
    "    last_ch = pairs[-1]\n",
    "    but_one = chars.index(pairs[-2])\n",
    "    print(but_one)\n",
    "    \n",
    "    last_ch_wt = trios[pairs[-1]]\n",
    "    but_one_wt = trios[pairs[-1][but_one]]\n",
    "    # print(but_one_wt)\n",
    "    wt = twoghts[pairs[-1]]\n",
    "    # IM - Turn wt into a list, ordered by chars.\n",
    "    wt = [wt[c] for c in chars]\n",
    "    # one list for each of the two characters\n",
    "    lc = [last_ch_wt[c] for c in chars]\n",
    "    bo = [but_one_wt[c] for c in chars]\n",
    "    # IM - Randomly pick the next character using those weights, does this need duplicating, so the first choice\n",
    "    # is one from the but_one, then the second takes that selection and weights based on last_ch?\n",
    "    nextc = random.choices(chars, weights=wt, k=1)[0]\n",
    "    # is this how to randomise the third character?\n",
    "    # third = random.choices(chars, weights=wt, k=1)[2]\n",
    "    # IM - Append character to pairs, which is used to generate the next character for wt at the top of the loop\n",
    "    pairs = pairs + nextc # + third\n",
    "    print(pairs)\n",
    "\n",
    "# print(pairs)"
   ]
  }
 ],
 "metadata": {
  "kernelspec": {
   "display_name": "Python 3 (ipykernel)",
   "language": "python",
   "name": "python3"
  },
  "language_info": {
   "codemirror_mode": {
    "name": "ipython",
    "version": 3
   },
   "file_extension": ".py",
   "mimetype": "text/x-python",
   "name": "python",
   "nbconvert_exporter": "python",
   "pygments_lexer": "ipython3",
   "version": "3.9.12"
  },
  "vscode": {
   "interpreter": {
    "hash": "94f9438f566dec9fccd0dd9a98a035ad19db3c9b73fe00bed00a51a9ef894353"
   }
  }
 },
 "nbformat": 4,
 "nbformat_minor": 5
}
