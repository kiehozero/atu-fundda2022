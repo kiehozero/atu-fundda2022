{
 "cells": [
  {
   "cell_type": "markdown",
   "id": "58a85f85",
   "metadata": {},
   "source": [
    "# EXERCISE 3a\n",
    "\n",
    "## It is somewhat interesting that ( 5 * 4 * 3 * 2 * 1 ) perfectly divides ( 10 * 9 * 8 * 7 * 6 ), there is no remainder. If we only wanted exactly four heads as opposed to five, the equivalent calculation would be ( 10 * 9 * 8 * 7 ) / ( 4 * 3 * 2 * 1 ). Does that evenly divide too? What is the formula in general? Does it always come out as a positive whole number?"
   ]
  },
  {
   "cell_type": "markdown",
   "id": "23d8c904",
   "metadata": {},
   "source": [
    "- essentially the first digit in the first brackets is the number of blank spaces at the start of the process. This reduces in increments of 1, until the point where it is possible that filling every space meets the required threshold. So it is possible to meet the required four heads in only four slots, when that fourth 1 fills the seventh remaining blank spot. On the right side of the calc, the first digit represents the threshold, and also then is multipled by that value minus 1, repeating down to 1.\n",
    "- when creating this calc, use only the single slash instead of the double. The second question above implies that a remainder value is possible, which you won't spot if you use the double-slash for integer values\n",
    "- \"what is the formula in general?\" Ian said that this formula has a defined mathematical name for this type of calculation\n",
    "- https://www.storyofmathematics.com/coin-flip-probability/\n",
    "- https://www.vedantu.com/formula/coin-toss-probability-formula\n",
    "- https://www.geeksforgeeks.org/coin-toss-probability-formula/\n",
    "- https://mathtec.weebly.com/probability-2-headstails.html"
   ]
  },
  {
   "cell_type": "markdown",
   "id": "7597be71",
   "metadata": {},
   "source": [
    "# EXERCISE 3b\n",
    "\n",
    "## Note that there are the same number of way to get 4 tails as there are to get 4 heads. Explain why this is.\n",
    "\n",
    "- Ian said ideally a paragraph or two of explanation here would do, alongside some code or even a plot to visually demonstrate the concept."
   ]
  },
  {
   "cell_type": "code",
   "execution_count": null,
   "id": "ff7a0359",
   "metadata": {},
   "outputs": [],
   "source": []
  }
 ],
 "metadata": {
  "kernelspec": {
   "display_name": "Python 3 (ipykernel)",
   "language": "python",
   "name": "python3"
  },
  "language_info": {
   "codemirror_mode": {
    "name": "ipython",
    "version": 3
   },
   "file_extension": ".py",
   "mimetype": "text/x-python",
   "name": "python",
   "nbconvert_exporter": "python",
   "pygments_lexer": "ipython3",
   "version": "3.9.12"
  }
 },
 "nbformat": 4,
 "nbformat_minor": 5
}
