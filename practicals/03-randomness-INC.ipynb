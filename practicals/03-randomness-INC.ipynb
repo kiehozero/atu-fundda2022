{
 "cells": [
  {
   "cell_type": "markdown",
   "id": "58a85f85",
   "metadata": {},
   "source": [
    "# Exercise 3a - Combinations\n",
    "\n",
    "### Task: It is somewhat interesting that ( 5 * 4 * 3 * 2 * 1 ) perfectly divides ( 10 * 9 * 8 * 7 * 6 ), there is no remainder. If we only wanted exactly four heads as opposed to five, the equivalent calculation would be ( 10 * 9 * 8 * 7 ) / ( 4 * 3 * 2 * 1 ). Does that evenly divide too? What is the formula in general? Does it always come out as a positive whole number?"
   ]
  },
  {
   "cell_type": "markdown",
   "id": "f0cbe9b2",
   "metadata": {},
   "source": [
    "The formula is called the <i>n-choose-k</i> formula or binomial co-efficient, and can be written as:\n",
    "\n",
    "$\\binom{n}{k} = \\frac{n!}{k! (n-k)!}$\n",
    "\n",
    "([Wikipedia](https://en.wikipedia.org/wiki/Binomial_coefficient), 2019).\n",
    "\n",
    "The best way summarise this formula is, \"Count the number of ways you can pick $k$ objects from a set of $n$ objects,\" which was from a rather confusingly named YouTube channel called [n-choose-k](https://www.youtube.com/watch?v=dvLMIfHleM8).\n",
    "\n",
    "As with the original example, if we assume that $k$ is 5 and $n$ is 10, we are counting the number of ways we can pick a combination of objects from a set of 10. Adjusting the LaTeX above, this becomes:\n",
    "\n",
    "$\\binom{10}{5} = \\frac{10!}{5! (10-5)!}$\n",
    "\n",
    "The exclamation mark here actually refers to a factorial calculation, which is defined by the Encyclopædia Britannica (2016) as: \n",
    "\n",
    "    the product of all positive integers less than or equal to a given positive integer and denoted by that integer and an exclamation point. Thus, factorial seven is written 7!, meaning 1 × 2 × 3 × 4 × 5 × 6 × 7.\n",
    "\n",
    "Adjusting the LaTeX once again:\n",
    "\n",
    "$\\binom {10}{5} = \\frac{10\\times9\\times8\\times7\\times6\\times5\\times4\\times3\\times2\\times1}{(5\\times4\\times3\\times2\\times1)*(5\\times4\\times3\\times2\\times1)}$\n",
    "\n",
    "A nice shortcut I learnt watching the [n-choose-k](https://www.youtube.com/watch?v=dvLMIfHleM8) channel was one of cancellation, where you can remove equivalent calculations occurring on both sides of the division:\n",
    "\n",
    "$\\binom {10}{5} = \\frac{10\\times9\\times8\\times7\\times6\\times}{5\\times4\\times3\\times2\\times1}$\n",
    "\n",
    "This gets us back to the calculation Ian gave us in the lecture, and there is even a function called `comb` in Python's [math](https://docs.python.org/3/library/math.html/) library that can do this given parameters $n$ and $k$:"
   ]
  },
  {
   "cell_type": "code",
   "execution_count": 14,
   "id": "86a1dfa7",
   "metadata": {},
   "outputs": [
    {
     "name": "stdout",
     "output_type": "stream",
     "text": [
      "252.0\n",
      "252\n"
     ]
    }
   ],
   "source": [
    "import math\n",
    "\n",
    "print((10*9*8*7*6)/(5*4*3*2*1))\n",
    "\n",
    "print(math.comb(10,5))"
   ]
  },
  {
   "cell_type": "markdown",
   "id": "22a46061",
   "metadata": {},
   "source": [
    "Thus we can easily assess whether the result still evenly divides in other circumstances."
   ]
  },
  {
   "cell_type": "code",
   "execution_count": 15,
   "id": "5030ee83",
   "metadata": {},
   "outputs": [
    {
     "name": "stdout",
     "output_type": "stream",
     "text": [
      "210.0\n",
      "210\n"
     ]
    }
   ],
   "source": [
    "print((10*9*8*7)/(4*3*2*1))\n",
    "\n",
    "print(math.comb(10,4))"
   ]
  },
  {
   "cell_type": "code",
   "execution_count": 9,
   "id": "984a09b4",
   "metadata": {},
   "outputs": [
    {
     "name": "stdout",
     "output_type": "stream",
     "text": [
      "120.0\n",
      "120\n"
     ]
    }
   ],
   "source": [
    "print((10*9*8)/(3*2*1))\n",
    "\n",
    "print(math.comb(10,3))"
   ]
  },
  {
   "cell_type": "code",
   "execution_count": 11,
   "id": "f55948ed",
   "metadata": {},
   "outputs": [
    {
     "name": "stdout",
     "output_type": "stream",
     "text": [
      "45.0\n",
      "45\n"
     ]
    }
   ],
   "source": [
    "print((10*9)/(2*1))\n",
    "\n",
    "print(math.comb(10,2))"
   ]
  },
  {
   "cell_type": "code",
   "execution_count": 16,
   "id": "b48f46c2",
   "metadata": {},
   "outputs": [
    {
     "name": "stdout",
     "output_type": "stream",
     "text": [
      "10.0\n",
      "10\n"
     ]
    }
   ],
   "source": [
    "print((10)/(1))\n",
    "\n",
    "print(math.comb(10,1))"
   ]
  },
  {
   "cell_type": "markdown",
   "id": "ed047b61",
   "metadata": {},
   "source": [
    "In these instances, the numbers are always whole and positive; I'm making an assumption that since the `comb` method returns an integer, there are no circumstances where a float is required. Further, the function's parameters are both required in [documentation](https://docs.python.org/3/library/math.html) and [tutorials](https://www.geeksforgeeks.org/python-math-comb-method/) to be non-negative. Since $n$ has to be larger than $k$, and it is not possible to multiply or divide two positive integers and get a negative value, then it must not be possible to get a negative value.\n",
    "\n",
    "It seems counter-intuitive that a result would be anything other than positive or whole. The formula returns a count of the number of times something can happen, rather than a probability, and while something can happen zero times, it can't happen less than that.\n",
    "\n",
    "Another similar idea I found was that of permutation, which seems to expand on the combination principle but is concerned more with the exact sequencing. [Story of Mathematics](https://www.storyofmathematics.com/combinations/) defines this difference as:\n",
    "\n",
    "    Permutation takes sequences and order arrangement very seriously while on the other hand combination totally ignores it."
   ]
  },
  {
   "cell_type": "markdown",
   "id": "7597be71",
   "metadata": {},
   "source": [
    "# Exercise 3b - Combinations\n",
    "\n",
    "### Note that there are the same number of way to get 4 tails as there are to get 4 heads. Explain why this is.\n",
    "\n",
    "As can be seen above, the `comb` method takes in parameters $n$ and $k$ as-is and performs the n-choose-k formula upon them. There are no options to weight values. A closely-related concept is that of [Pascal's Triangle](https://www.cuemath.com/algebra/pascals-triangle/), one with a wide number of [mathematical uses](https://www.youtube.com/watch?v=XMriWTvPXHI) beyond n-choose-k.\n",
    "\n",
    "- Ian said ideally a paragraph or two of explanation here would do, alongside some code or even a plot to visually demonstrate the concept.\n",
    "- Is this perhaps to do with Pascal's triangle? You still using 10 choose 4 on a fair coin\n",
    "\n",
    "![image](https://d138zd1ktt9iqe.cloudfront.net/media/seo_landing_files/pascals-triangle-1622524728.png)"
   ]
  },
  {
   "cell_type": "code",
   "execution_count": null,
   "id": "ff7a0359",
   "metadata": {},
   "outputs": [],
   "source": []
  }
 ],
 "metadata": {
  "kernelspec": {
   "display_name": "Python 3 (ipykernel)",
   "language": "python",
   "name": "python3"
  },
  "language_info": {
   "codemirror_mode": {
    "name": "ipython",
    "version": 3
   },
   "file_extension": ".py",
   "mimetype": "text/x-python",
   "name": "python",
   "nbconvert_exporter": "python",
   "pygments_lexer": "ipython3",
   "version": "3.9.12"
  }
 },
 "nbformat": 4,
 "nbformat_minor": 5
}
