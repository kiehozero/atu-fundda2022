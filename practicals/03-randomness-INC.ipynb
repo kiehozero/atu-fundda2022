{
 "cells": [
  {
   "cell_type": "markdown",
   "id": "58a85f85",
   "metadata": {},
   "source": [
    "# Exercise 3a - Combinations\n",
    "\n",
    "### Task: It is somewhat interesting that ( 5 * 4 * 3 * 2 * 1 ) perfectly divides ( 10 * 9 * 8 * 7 * 6 ), there is no remainder. If we only wanted exactly four heads as opposed to five, the equivalent calculation would be ( 10 * 9 * 8 * 7 ) / ( 4 * 3 * 2 * 1 ). Does that evenly divide too? What is the formula in general? Does it always come out as a positive whole number?"
   ]
  },
  {
   "cell_type": "markdown",
   "id": "f0cbe9b2",
   "metadata": {},
   "source": [
    "The formula is called the <i>n-choose-k</i> formula or binomial co-efficient, and can be written as:\n",
    "\n",
    "$\\binom{n}{k} = \\frac{n!}{k! (n-k)!}$\n",
    "\n",
    "([Wikipedia](https://en.wikipedia.org/wiki/Binomial_coefficient), 2019).\n",
    "\n",
    "The best way summarise this formula is, \"Count the number of ways you can pick $k$ objects from a set of $n$ objects,\" which was from a rather confusingly named YouTube channel called [n-choose-k](https://www.youtube.com/watch?v=dvLMIfHleM8).\n",
    "\n",
    "As with the original example, if we assume that $k$ is 5 and $n$ is 10, we are counting the number of ways we can pick a combination of objects from a set of 10. Adjusting the LaTeX above, this becomes:\n",
    "\n",
    "$\\binom{10}{5} = \\frac{10!}{5! (10-5)!}$\n",
    "\n",
    "The exclamation mark here actually refers to a factorial calculation, which is defined by the Encyclopædia Britannica (2016) as: \n",
    "\n",
    "    the product of all positive integers less than or equal to a given positive integer and denoted by that integer and an exclamation point. Thus, factorial seven is written 7!, meaning 1 × 2 × 3 × 4 × 5 × 6 × 7.\n",
    "\n",
    "Adjusting the LaTeX once again:\n",
    "\n",
    "$\\binom {10}{5} = \\frac{10\\times9\\times8\\times7\\times6\\times5\\times4\\times3\\times2\\times1}{(5\\times4\\times3\\times2\\times1)*(5\\times4\\times3\\times2\\times1)}$\n",
    "\n",
    "A nice shortcut I learnt watching the [n-choose-k](https://www.youtube.com/watch?v=dvLMIfHleM8) channel was one of cancellation, where you can remove equivalent calculations occurring on both sides of the division:\n",
    "\n",
    "$\\binom {10}{5} = \\frac{10\\times9\\times8\\times7\\times6\\times}{5\\times4\\times3\\times2\\times1}$\n",
    "\n",
    "This gets us back to the calculation Ian gave us in the lecture, and there is even a function called `comb` in Python's [math](https://docs.python.org/3/library/math.html/) library that can do this given parameters $n$ and $k$:"
   ]
  },
  {
   "cell_type": "code",
   "execution_count": 1,
   "id": "86a1dfa7",
   "metadata": {},
   "outputs": [
    {
     "name": "stdout",
     "output_type": "stream",
     "text": [
      "252.0\n",
      "252\n"
     ]
    }
   ],
   "source": [
    "import math\n",
    "import matplotlib.pyplot as plt\n",
    "\n",
    "print((10*9*8*7*6)/(5*4*3*2*1))\n",
    "\n",
    "print(math.comb(10,5))"
   ]
  },
  {
   "cell_type": "markdown",
   "id": "22a46061",
   "metadata": {},
   "source": [
    "Thus we can easily assess whether the result still evenly divides in other circumstances."
   ]
  },
  {
   "cell_type": "code",
   "execution_count": 2,
   "id": "18238b65",
   "metadata": {},
   "outputs": [
    {
     "name": "stdout",
     "output_type": "stream",
     "text": [
      "210.0\n",
      "210\n"
     ]
    }
   ],
   "source": [
    "print((10*9*8*7)/(4*3*2*1))\n",
    "\n",
    "print(math.comb(10,4))"
   ]
  },
  {
   "cell_type": "code",
   "execution_count": 3,
   "id": "1ac34352",
   "metadata": {},
   "outputs": [
    {
     "name": "stdout",
     "output_type": "stream",
     "text": [
      "120.0\n",
      "120\n"
     ]
    }
   ],
   "source": [
    "print((10*9*8)/(3*2*1))\n",
    "\n",
    "print(math.comb(10,3))"
   ]
  },
  {
   "cell_type": "code",
   "execution_count": 4,
   "id": "adff10e6",
   "metadata": {},
   "outputs": [
    {
     "name": "stdout",
     "output_type": "stream",
     "text": [
      "45.0\n",
      "45\n"
     ]
    }
   ],
   "source": [
    "print((10*9)/(2*1))\n",
    "\n",
    "print(math.comb(10,2))"
   ]
  },
  {
   "cell_type": "code",
   "execution_count": 5,
   "id": "3a543a79",
   "metadata": {},
   "outputs": [
    {
     "name": "stdout",
     "output_type": "stream",
     "text": [
      "10.0\n",
      "10\n"
     ]
    }
   ],
   "source": [
    "print((10)/(1))\n",
    "\n",
    "print(math.comb(10,1))"
   ]
  },
  {
   "cell_type": "markdown",
   "id": "ed047b61",
   "metadata": {},
   "source": [
    "In these instances, the numbers are always whole and positive; I'm making an assumption that since the `comb` method returns an integer, there are no circumstances where a float is required. Further, the function's parameters are both required in [documentation](https://docs.python.org/3/library/math.html) and [tutorials](https://www.geeksforgeeks.org/python-math-comb-method/) to be non-negative. Since $n$ has to be larger than $k$, and it is not possible to multiply or divide two positive integers and get a negative value, then it must not be possible to get a negative value.\n",
    "\n",
    "It seems counter-intuitive that a result would be anything other than positive or whole. The formula returns a count of the number of times something can happen, rather than a probability, and while something can happen zero times, it can't happen less than that.\n",
    "\n",
    "Another similar idea I found was that of permutation, which seems to expand on the combination principle but is concerned more with the exact sequencing. [Story of Mathematics](https://www.storyofmathematics.com/combinations/) defines this difference as:\n",
    "\n",
    "    Permutation takes sequences and order arrangement very seriously while on the other hand combination totally ignores it."
   ]
  },
  {
   "cell_type": "markdown",
   "id": "7597be71",
   "metadata": {},
   "source": [
    "# Exercise 3b - Combinations\n",
    "\n",
    "### Note that there are the same number of ways to get 4 tails as there are to get 4 heads. Explain why this is.\n",
    "\n",
    "As can be seen below, the `comb` method takes in parameters $n$ and $k$ as-is and performs the <i>n-choose-k</i> formula upon them. There are no options to weight values, on a fair coin the chance of getting any combination is the same, regardless of whether you are looking for heads or tails."
   ]
  },
  {
   "cell_type": "code",
   "execution_count": 6,
   "id": "ff7a0359",
   "metadata": {},
   "outputs": [
    {
     "name": "stdout",
     "output_type": "stream",
     "text": [
      "210.0\n",
      "210\n"
     ]
    }
   ],
   "source": [
    "print((10*9*8*7)/(4*3*2*1))\n",
    "\n",
    "print(math.comb(10,4))"
   ]
  },
  {
   "cell_type": "markdown",
   "id": "ae2bfd4d",
   "metadata": {},
   "source": [
    "A closely-related concept is that of Pascal's Triangle, one with a wide number of [mathematical uses](https://www.youtube.com/watch?v=XMriWTvPXHI) beyond <i>n-choose-k</i>, defined as \"an arrangement of binomial coefficients in triangular form\" ([CueMath](https://www.cuemath.com/algebra/pascals-triangle/), 2022).\n",
    "\n",
    "<img src=\"https://d138zd1ktt9iqe.cloudfront.net/media/seo_landing_files/pascals-triangle-1622524728.png\" width=\"400\">\n",
    "\n",
    "The triangle can be used in n-choose-k to locate the number of different combinations of $k$ being selected from a dataset of size $n$. The idea behind the triangle is that all values, starting from the apex value of 1, referred to as the <i>0th row</i>, is the sum of the two values that sit to the upper-left and upper-right of it in the pyramid. For our purposes, these match the values we see when performing the <i>n-choose-k</i> calculation.\n",
    "\n",
    "Thus if we visit the 11th row, the second from bottom, and counting horizontally from 0 to 10, we see that the values match the results of `comb` that were printed in exercise 3a, and repeated below."
   ]
  },
  {
   "cell_type": "code",
   "execution_count": 7,
   "id": "e2bc4475",
   "metadata": {},
   "outputs": [
    {
     "name": "stdout",
     "output_type": "stream",
     "text": [
      "0-tail combinations: 1\n",
      "1-tail combinations: 10\n",
      "2-tail combinations: 45\n",
      "3-tail combinations: 120\n",
      "4-tail combinations: 210\n",
      "50-50 combinations: 252\n",
      "4-head combinations: 210\n",
      "3-head combinations: 120\n",
      "2-head combinations: 45\n",
      "1-head combinations: 10\n",
      "0-head combinations: 1\n"
     ]
    }
   ],
   "source": [
    "# number of combinations where k (0 to 10) tails are flipped in n (10) coin tosses\n",
    "print(f'0-tail combinations: {math.comb(10,0)}')\n",
    "print(f'1-tail combinations: {math.comb(10,1)}')\n",
    "print(f'2-tail combinations: {math.comb(10,2)}')\n",
    "print(f'3-tail combinations: {math.comb(10,3)}')\n",
    "# number of combinations with four tails, or six heads\n",
    "print(f'4-tail combinations: {math.comb(10,4)}')\n",
    "print(f'50-50 combinations: {math.comb(10,5)}')\n",
    "# number of combinations with four heads, or six tails\n",
    "print(f'4-head combinations: {math.comb(10,6)}')\n",
    "print(f'3-head combinations: {math.comb(10,7)}')\n",
    "print(f'2-head combinations: {math.comb(10,8)}')\n",
    "print(f'1-head combinations: {math.comb(10,9)}')\n",
    "print(f'0-head combinations: {math.comb(10,10)}')"
   ]
  },
  {
   "cell_type": "markdown",
   "id": "e550ce2d",
   "metadata": {},
   "source": [
    "Displayed visually, we can see this produces a symmetrical pattern."
   ]
  },
  {
   "cell_type": "code",
   "execution_count": 8,
   "id": "5f2e3919",
   "metadata": {},
   "outputs": [
    {
     "data": {
      "image/png": "[encoded data removed]",
      "text/plain": [
       "<Figure size 432x288 with 1 Axes>"
      ]
     },
     "metadata": {
      "needs_background": "light"
     },
     "output_type": "display_data"
    }
   ],
   "source": [
    "# blank lists to use for storing values\n",
    "x_ax = []\n",
    "y_ax = []\n",
    "# number of flips\n",
    "f = 10\n",
    "# loop through a range from 0 to 10\n",
    "for i in range(10):\n",
    "    # increases by 1 with each loop\n",
    "    x_ax.append(i)\n",
    "    # calculcates n-choose-k for each value between 1 and 10\n",
    "    combs = math.comb(f,i)\n",
    "    # assign that value to list\n",
    "    y_ax.append(combs)\n",
    "\n",
    "# plot values on a barchart\n",
    "plt.bar(x_ax,y_ax)\n",
    "plt.show()"
   ]
  },
  {
   "cell_type": "code",
   "execution_count": null,
   "id": "38199e10",
   "metadata": {},
   "outputs": [],
   "source": []
  }
 ],
 "metadata": {
  "kernelspec": {
   "display_name": "Python 3 (ipykernel)",
   "language": "python",
   "name": "python3"
  },
  "language_info": {
   "codemirror_mode": {
    "name": "ipython",
    "version": 3
   },
   "file_extension": ".py",
   "mimetype": "text/x-python",
   "name": "python",
   "nbconvert_exporter": "python",
   "pygments_lexer": "ipython3",
   "version": "3.9.12"
  }
 },
 "nbformat": 4,
 "nbformat_minor": 5
}
