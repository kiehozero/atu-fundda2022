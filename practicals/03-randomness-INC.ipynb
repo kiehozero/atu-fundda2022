{
 "cells": [
  {
   "cell_type": "markdown",
   "id": "58a85f85",
   "metadata": {},
   "source": [
    "# Exercise 3a - Combinations\n",
    "\n",
    "## Task: It is somewhat interesting that ( 5 * 4 * 3 * 2 * 1 ) perfectly divides ( 10 * 9 * 8 * 7 * 6 ), there is no remainder. If we only wanted exactly four heads as opposed to five, the equivalent calculation would be ( 10 * 9 * 8 * 7 ) / ( 4 * 3 * 2 * 1 ). Does that evenly divide too? What is the formula in general? Does it always come out as a positive whole number?"
   ]
  },
  {
   "cell_type": "markdown",
   "id": "f0cbe9b2",
   "metadata": {},
   "source": [
    "The\n",
    "\n",
    "\n",
    "$n \\choose x$\n",
    "\n",
    "\"Count the number of ways you can pick $k$ objects from a set of $n$ objects.\" (n-choose-k, 2019)"
   ]
  },
  {
   "cell_type": "code",
   "execution_count": 6,
   "id": "86a1dfa7",
   "metadata": {},
   "outputs": [
    {
     "name": "stdout",
     "output_type": "stream",
     "text": [
      "252.0\n",
      "210.0\n",
      "120.0\n",
      "45.0\n",
      "10.0\n"
     ]
    }
   ],
   "source": [
    "#add \n",
    "print((10*9*8*7*6)/(5*4*3*2*1))\n",
    "print((10*9*8*7)/(4*3*2*1))\n",
    "print((10*9*8)/(3*2*1))\n",
    "print((10*9)/(2*1))\n",
    "# there is only one possible way that there can be ten heads in a ten-flip sequence\n",
    "print((10)/(1))\n",
    "\n",
    "# can do this using Py: https://www.geeksforgeeks.org/python-math-comb-method/"
   ]
  },
  {
   "cell_type": "markdown",
   "id": "22a46061",
   "metadata": {},
   "source": [
    "\"What is the formula in general?\"\n",
    "\n",
    "$\\binom nk = \\frac{n\\times(n-1)\\times\\cdots\\times(n-k+1)}{k\\times(k-1)\\times\\cdots\\times1}$\n",
    "\n",
    "which using [[factorial]] notation can be compactly expressed as\n",
    "\n",
    "$\\binom{n}{k} = \\frac{n!}{k! (n-k)!}$\n",
    "\n",
    "note that I took both of the above LaTeX statements directly from [Wikipedia](https://en.wikipedia.org/wiki/Binomial_coefficient), it's helpful to know they even use LaTeX in HTML editors."
   ]
  },
  {
   "cell_type": "markdown",
   "id": "ed047b61",
   "metadata": {},
   "source": [
    "\"Does it always come out as a whole number?\"\n",
    "\n",
    "This feels like a trick question, but logically it does seem that the number would always come out as both positive and whole, again check against Pascal's Triangle?\n",
    "\n",
    "https://www.youtube.com/watch?v=XMriWTvPXHI - Watch the TED-Ed again"
   ]
  },
  {
   "cell_type": "markdown",
   "id": "23d8c904",
   "metadata": {},
   "source": [
    "- essentially the first digit in the first brackets is the number of blank spaces at the start of the process. This reduces in increments of 1, until the point where it is possible that filling every space meets the required threshold. So it is possible to meet the required four heads in only four slots, when that fourth 1 fills the seventh remaining blank spot. On the right side of the calc, the first digit represents the threshold, and also then is multipled by that value minus 1, repeating down to 1.\n",
    "- when creating this calc, use only the single slash instead of the double. The second question above implies that a remainder value is possible, which you won't spot if you use the double-slash for integer values\n",
    "- \"what is the formula in general?\" Ian said that this formula has a defined mathematical name for this type of calculation\n",
    "- \"n choose k formula\" is used to find the number of ways selecting k things out of n things\" (CueMath, 2022)\n",
    "- try to replicate first two latex items displayed here: https://en.wikipedia.org/wiki/Binomial_coefficient, second half of th\n",
    "- https://www.storyofmathematics.com/combinations/ - Combinations formula section\n",
    "- https://www.geeksforgeeks.org/coin-toss-probability-formula/\n"
   ]
  },
  {
   "cell_type": "markdown",
   "id": "7597be71",
   "metadata": {},
   "source": [
    "# EXERCISE 3b\n",
    "\n",
    "## Note that there are the same number of way to get 4 tails as there are to get 4 heads. Explain why this is.\n",
    "\n",
    "- Ian said ideally a paragraph or two of explanation here would do, alongside some code or even a plot to visually demonstrate the concept.\n",
    "- Is this perhaps to do with Pascal's triangle? You still using 10 choose 4 on a fair coin\n",
    "\n",
    "![image](https://d138zd1ktt9iqe.cloudfront.net/media/seo_landing_files/pascals-triangle-1622524728.png)"
   ]
  },
  {
   "cell_type": "code",
   "execution_count": null,
   "id": "ff7a0359",
   "metadata": {},
   "outputs": [],
   "source": []
  }
 ],
 "metadata": {
  "kernelspec": {
   "display_name": "Python 3 (ipykernel)",
   "language": "python",
   "name": "python3"
  },
  "language_info": {
   "codemirror_mode": {
    "name": "ipython",
    "version": 3
   },
   "file_extension": ".py",
   "mimetype": "text/x-python",
   "name": "python",
   "nbconvert_exporter": "python",
   "pygments_lexer": "ipython3",
   "version": "3.9.12"
  }
 },
 "nbformat": 4,
 "nbformat_minor": 5
}
